{
 "cells": [
  {
   "cell_type": "code",
   "execution_count": 1,
   "id": "63a2133d",
   "metadata": {},
   "outputs": [],
   "source": [
    "# how to concatenate two tuples"
   ]
  },
  {
   "cell_type": "code",
   "execution_count": 4,
   "id": "b3b92e3d",
   "metadata": {},
   "outputs": [
    {
     "name": "stdout",
     "output_type": "stream",
     "text": [
      "(1, 2, 'a', 5, 3, 4)\n"
     ]
    }
   ],
   "source": [
    "a = (1,2,\"a\")\n",
    "b = (5,3,4)\n",
    "print(a + b)\n"
   ]
  },
  {
   "cell_type": "code",
   "execution_count": 5,
   "id": "2823666d",
   "metadata": {},
   "outputs": [
    {
     "name": "stdout",
     "output_type": "stream",
     "text": [
      "(5, 3, 4, 1, 2, 'a')\n"
     ]
    }
   ],
   "source": [
    "print(b+a)"
   ]
  },
  {
   "cell_type": "code",
   "execution_count": 6,
   "id": "72db5721",
   "metadata": {},
   "outputs": [],
   "source": [
    "# how can u initialize 5x5 numpy array with only zeros "
   ]
  },
  {
   "cell_type": "code",
   "execution_count": 7,
   "id": "f34b5749",
   "metadata": {},
   "outputs": [
    {
     "name": "stdout",
     "output_type": "stream",
     "text": [
      "[[0. 0. 0. 0. 0.]\n",
      " [0. 0. 0. 0. 0.]\n",
      " [0. 0. 0. 0. 0.]\n",
      " [0. 0. 0. 0. 0.]\n",
      " [0. 0. 0. 0. 0.]]\n"
     ]
    }
   ],
   "source": [
    "import numpy as np\n",
    "n1 = np.zeros((5,5))\n",
    "print(n1)"
   ]
  },
  {
   "cell_type": "code",
   "execution_count": 8,
   "id": "9ef04bf1",
   "metadata": {},
   "outputs": [
    {
     "name": "stdout",
     "output_type": "stream",
     "text": [
      "[[1. 1. 1. 1. 1.]\n",
      " [1. 1. 1. 1. 1.]\n",
      " [1. 1. 1. 1. 1.]\n",
      " [1. 1. 1. 1. 1.]\n",
      " [1. 1. 1. 1. 1.]]\n"
     ]
    }
   ],
   "source": [
    "n = np.ones((5,5))\n",
    "print(n)"
   ]
  },
  {
   "cell_type": "code",
   "execution_count": 10,
   "id": "04b6d193",
   "metadata": {},
   "outputs": [
    {
     "ename": "AttributeError",
     "evalue": "module 'numpy' has no attribute 'twoes'",
     "output_type": "error",
     "traceback": [
      "\u001b[1;31m---------------------------------------------------------------------------\u001b[0m",
      "\u001b[1;31mAttributeError\u001b[0m                            Traceback (most recent call last)",
      "Cell \u001b[1;32mIn[10], line 1\u001b[0m\n\u001b[1;32m----> 1\u001b[0m n \u001b[38;5;241m=\u001b[39m np\u001b[38;5;241m.\u001b[39mtwoes((\u001b[38;5;241m5\u001b[39m,\u001b[38;5;241m5\u001b[39m))\n\u001b[0;32m      2\u001b[0m \u001b[38;5;28mprint\u001b[39m(n)\n",
      "File \u001b[1;32m~\\anaconda3\\Lib\\site-packages\\numpy\\__init__.py:333\u001b[0m, in \u001b[0;36m__getattr__\u001b[1;34m(attr)\u001b[0m\n\u001b[0;32m    330\u001b[0m     \u001b[38;5;124m\"\u001b[39m\u001b[38;5;124mRemoved in NumPy 1.25.0\u001b[39m\u001b[38;5;124m\"\u001b[39m\n\u001b[0;32m    331\u001b[0m     \u001b[38;5;28;01mraise\u001b[39;00m \u001b[38;5;167;01mRuntimeError\u001b[39;00m(\u001b[38;5;124m\"\u001b[39m\u001b[38;5;124mTester was removed in NumPy 1.25.\u001b[39m\u001b[38;5;124m\"\u001b[39m)\n\u001b[1;32m--> 333\u001b[0m \u001b[38;5;28;01mraise\u001b[39;00m \u001b[38;5;167;01mAttributeError\u001b[39;00m(\u001b[38;5;124m\"\u001b[39m\u001b[38;5;124mmodule \u001b[39m\u001b[38;5;132;01m{!r}\u001b[39;00m\u001b[38;5;124m has no attribute \u001b[39m\u001b[38;5;124m\"\u001b[39m\n\u001b[0;32m    334\u001b[0m                      \u001b[38;5;124m\"\u001b[39m\u001b[38;5;132;01m{!r}\u001b[39;00m\u001b[38;5;124m\"\u001b[39m\u001b[38;5;241m.\u001b[39mformat(\u001b[38;5;18m__name__\u001b[39m, attr))\n",
      "\u001b[1;31mAttributeError\u001b[0m: module 'numpy' has no attribute 'twoes'"
     ]
    }
   ],
   "source": [
    "n = np.twoes((5,5))\n",
    "print(n)"
   ]
  },
  {
   "cell_type": "code",
   "execution_count": 12,
   "id": "77b2abd5",
   "metadata": {},
   "outputs": [
    {
     "name": "stdout",
     "output_type": "stream",
     "text": [
      "0     1\n",
      "1     2\n",
      "2     3\n",
      "3     4\n",
      "4     a\n",
      "5     b\n",
      "6     c\n",
      "7     5\n",
      "8     6\n",
      "9     7\n",
      "10    8\n",
      "dtype: object\n"
     ]
    }
   ],
   "source": [
    "import pandas as pd\n",
    "\n",
    "list_data = [1,2,3,4,'a','b','c',5,6,7,8]\n",
    "series = pd.Series(list_data)\n",
    "print(series)"
   ]
  },
  {
   "cell_type": "code",
   "execution_count": 13,
   "id": "769aeae0",
   "metadata": {},
   "outputs": [],
   "source": [
    "# what is the use of grtoupby function in pandas\n"
   ]
  },
  {
   "cell_type": "code",
   "execution_count": 14,
   "id": "ca143a5a",
   "metadata": {},
   "outputs": [],
   "source": [
    "df = pd.DataFrame({\"Vehicle\":[\"Ford\",\"Tata\",\"Bajaj\",\"Yamaha\"],\"Type\":[\"Car\",\"Car\",\"Bike\",\"Bike\"]})"
   ]
  },
  {
   "cell_type": "code",
   "execution_count": 15,
   "id": "20d2a4b8",
   "metadata": {},
   "outputs": [
    {
     "data": {
      "text/html": [
       "<div>\n",
       "<style scoped>\n",
       "    .dataframe tbody tr th:only-of-type {\n",
       "        vertical-align: middle;\n",
       "    }\n",
       "\n",
       "    .dataframe tbody tr th {\n",
       "        vertical-align: top;\n",
       "    }\n",
       "\n",
       "    .dataframe thead th {\n",
       "        text-align: right;\n",
       "    }\n",
       "</style>\n",
       "<table border=\"1\" class=\"dataframe\">\n",
       "  <thead>\n",
       "    <tr style=\"text-align: right;\">\n",
       "      <th></th>\n",
       "      <th>Vehicle</th>\n",
       "      <th>Type</th>\n",
       "    </tr>\n",
       "  </thead>\n",
       "  <tbody>\n",
       "    <tr>\n",
       "      <th>0</th>\n",
       "      <td>Ford</td>\n",
       "      <td>Car</td>\n",
       "    </tr>\n",
       "    <tr>\n",
       "      <th>1</th>\n",
       "      <td>Tata</td>\n",
       "      <td>Car</td>\n",
       "    </tr>\n",
       "    <tr>\n",
       "      <th>2</th>\n",
       "      <td>Bajaj</td>\n",
       "      <td>Bike</td>\n",
       "    </tr>\n",
       "    <tr>\n",
       "      <th>3</th>\n",
       "      <td>Yamaha</td>\n",
       "      <td>Bike</td>\n",
       "    </tr>\n",
       "  </tbody>\n",
       "</table>\n",
       "</div>"
      ],
      "text/plain": [
       "  Vehicle  Type\n",
       "0    Ford   Car\n",
       "1    Tata   Car\n",
       "2   Bajaj  Bike\n",
       "3  Yamaha  Bike"
      ]
     },
     "execution_count": 15,
     "metadata": {},
     "output_type": "execute_result"
    }
   ],
   "source": [
    "df"
   ]
  },
  {
   "cell_type": "code",
   "execution_count": 16,
   "id": "97fe1be2",
   "metadata": {},
   "outputs": [
    {
     "data": {
      "text/html": [
       "<div>\n",
       "<style scoped>\n",
       "    .dataframe tbody tr th:only-of-type {\n",
       "        vertical-align: middle;\n",
       "    }\n",
       "\n",
       "    .dataframe tbody tr th {\n",
       "        vertical-align: top;\n",
       "    }\n",
       "\n",
       "    .dataframe thead th {\n",
       "        text-align: right;\n",
       "    }\n",
       "</style>\n",
       "<table border=\"1\" class=\"dataframe\">\n",
       "  <thead>\n",
       "    <tr style=\"text-align: right;\">\n",
       "      <th></th>\n",
       "      <th>Vehicle</th>\n",
       "    </tr>\n",
       "    <tr>\n",
       "      <th>Type</th>\n",
       "      <th></th>\n",
       "    </tr>\n",
       "  </thead>\n",
       "  <tbody>\n",
       "    <tr>\n",
       "      <th>Bike</th>\n",
       "      <td>2</td>\n",
       "    </tr>\n",
       "    <tr>\n",
       "      <th>Car</th>\n",
       "      <td>2</td>\n",
       "    </tr>\n",
       "  </tbody>\n",
       "</table>\n",
       "</div>"
      ],
      "text/plain": [
       "      Vehicle\n",
       "Type         \n",
       "Bike        2\n",
       "Car         2"
      ]
     },
     "execution_count": 16,
     "metadata": {},
     "output_type": "execute_result"
    }
   ],
   "source": [
    "df.groupby(\"Type\").count()"
   ]
  },
  {
   "cell_type": "code",
   "execution_count": 18,
   "id": "d036fa1c",
   "metadata": {},
   "outputs": [],
   "source": [
    "# How to create DataFrame from lists"
   ]
  },
  {
   "cell_type": "code",
   "execution_count": 20,
   "id": "3f80ea20",
   "metadata": {},
   "outputs": [
    {
     "name": "stdout",
     "output_type": "stream",
     "text": [
      "      Cars   Bikes\n",
      "0     Ford   Bajaj\n",
      "1     Tata  Yamaha\n",
      "2   Maruti   Honda\n",
      "3  Hyundai    Hero\n"
     ]
    }
   ],
   "source": [
    "bikes = [\"Bajaj\",\"Yamaha\",\"Honda\",\"Hero\"]\n",
    "cars = [\"Ford\",\"Tata\",\"Maruti\",\"Hyundai\"]\n",
    "\n",
    "df = pd.DataFrame()\n",
    "\n",
    "df[\"Cars\"] = cars\n",
    "df[\"Bikes\"] = bikes\n",
    "print(df)"
   ]
  },
  {
   "cell_type": "code",
   "execution_count": 23,
   "id": "94208a57",
   "metadata": {},
   "outputs": [
    {
     "name": "stdout",
     "output_type": "stream",
     "text": [
      "          Cars     Bikes\n",
      "0         Ford     Bajaj\n",
      "1         Tata    Yamaha\n",
      "2       Maruti     Honda\n",
      "3      Hyundai      Hero\n",
      "4  Lamborghini  Kawasaki\n",
      "5    Masserati       BMW\n",
      "6      Ferrari       TVS\n"
     ]
    }
   ],
   "source": [
    "bikes = [\"Bajaj\",\"Yamaha\",\"Honda\",\"Hero\",\"Kawasaki\",\"BMW\",\"TVS\"]\n",
    "cars = [\"Ford\",\"Tata\",\"Maruti\",\"Hyundai\",\"Lamborghini\",\"Masserati\",\"Ferrari\"]\n",
    "\n",
    "dict = {\"Cars\":cars,\"Bikes\":bikes}\n",
    "\n",
    "df = pd.DataFrame(dict)\n",
    "print(df)"
   ]
  },
  {
   "cell_type": "code",
   "execution_count": 24,
   "id": "c5c96d46",
   "metadata": {},
   "outputs": [],
   "source": [
    "# how to access first five entries and last five entries of DataFrame"
   ]
  },
  {
   "cell_type": "code",
   "execution_count": 25,
   "id": "fb4e3c37",
   "metadata": {},
   "outputs": [],
   "source": [
    "# first five"
   ]
  },
  {
   "cell_type": "code",
   "execution_count": 29,
   "id": "b64ed15b",
   "metadata": {},
   "outputs": [],
   "source": [
    "df = pd.read_csv(r\"C:\\Users\\Admin\\OneDrive\\Desktop\\Kaggle data new\\gcar_data.csv\")"
   ]
  },
  {
   "cell_type": "code",
   "execution_count": 30,
   "id": "3205d5f0",
   "metadata": {},
   "outputs": [
    {
     "data": {
      "text/html": [
       "<div>\n",
       "<style scoped>\n",
       "    .dataframe tbody tr th:only-of-type {\n",
       "        vertical-align: middle;\n",
       "    }\n",
       "\n",
       "    .dataframe tbody tr th {\n",
       "        vertical-align: top;\n",
       "    }\n",
       "\n",
       "    .dataframe thead th {\n",
       "        text-align: right;\n",
       "    }\n",
       "</style>\n",
       "<table border=\"1\" class=\"dataframe\">\n",
       "  <thead>\n",
       "    <tr style=\"text-align: right;\">\n",
       "      <th></th>\n",
       "      <th>Unnamed: 0</th>\n",
       "      <th>brand</th>\n",
       "      <th>model</th>\n",
       "      <th>color</th>\n",
       "      <th>registration_date</th>\n",
       "      <th>year</th>\n",
       "      <th>price_in_euro</th>\n",
       "      <th>power_kw</th>\n",
       "      <th>power_ps</th>\n",
       "      <th>transmission_type</th>\n",
       "      <th>fuel_type</th>\n",
       "      <th>fuel_consumption_l_100km</th>\n",
       "      <th>fuel_consumption_g_km</th>\n",
       "      <th>mileage_in_km</th>\n",
       "      <th>offer_description</th>\n",
       "    </tr>\n",
       "  </thead>\n",
       "  <tbody>\n",
       "    <tr>\n",
       "      <th>0</th>\n",
       "      <td>75721</td>\n",
       "      <td>ford</td>\n",
       "      <td>Ford Kuga</td>\n",
       "      <td>black</td>\n",
       "      <td>05/2023</td>\n",
       "      <td>2023</td>\n",
       "      <td>38490</td>\n",
       "      <td>140</td>\n",
       "      <td>190</td>\n",
       "      <td>Automatic</td>\n",
       "      <td>Hybrid</td>\n",
       "      <td>5,4 l/100 km</td>\n",
       "      <td>124 g/km</td>\n",
       "      <td>100.0</td>\n",
       "      <td>ST-Line Hybrid Adapt.LED+Head-Up-Display Klima</td>\n",
       "    </tr>\n",
       "    <tr>\n",
       "      <th>1</th>\n",
       "      <td>80184</td>\n",
       "      <td>hyundai</td>\n",
       "      <td>Hyundai i10</td>\n",
       "      <td>black</td>\n",
       "      <td>09/2018</td>\n",
       "      <td>2018</td>\n",
       "      <td>11555</td>\n",
       "      <td>49</td>\n",
       "      <td>67</td>\n",
       "      <td>Manual</td>\n",
       "      <td>Petrol</td>\n",
       "      <td>4,6 l/100 km</td>\n",
       "      <td>106 g/km</td>\n",
       "      <td>27782.0</td>\n",
       "      <td>blue Trend,Viele Extras,Top-Zustand</td>\n",
       "    </tr>\n",
       "    <tr>\n",
       "      <th>2</th>\n",
       "      <td>19864</td>\n",
       "      <td>audi</td>\n",
       "      <td>Audi Q4 e-tron</td>\n",
       "      <td>grey</td>\n",
       "      <td>05/2021</td>\n",
       "      <td>2021</td>\n",
       "      <td>48886</td>\n",
       "      <td>125</td>\n",
       "      <td>170</td>\n",
       "      <td>Automatic</td>\n",
       "      <td>Electric</td>\n",
       "      <td>NaN</td>\n",
       "      <td>0 g/km</td>\n",
       "      <td>4247.0</td>\n",
       "      <td>35 e-tron S line/Matrix/Pano/ACC/SONOS/LM 21</td>\n",
       "    </tr>\n",
       "    <tr>\n",
       "      <th>3</th>\n",
       "      <td>76699</td>\n",
       "      <td>honda</td>\n",
       "      <td>Honda CR-V</td>\n",
       "      <td>red</td>\n",
       "      <td>07/2018</td>\n",
       "      <td>2018</td>\n",
       "      <td>24490</td>\n",
       "      <td>114</td>\n",
       "      <td>155</td>\n",
       "      <td>Automatic</td>\n",
       "      <td>Petrol</td>\n",
       "      <td>7,5 l/100 km</td>\n",
       "      <td>175 g/km</td>\n",
       "      <td>57000.0</td>\n",
       "      <td>2.0 Lifestyle Plus Automatik Navi FAP</td>\n",
       "    </tr>\n",
       "    <tr>\n",
       "      <th>4</th>\n",
       "      <td>92991</td>\n",
       "      <td>kia</td>\n",
       "      <td>Kia Sportage</td>\n",
       "      <td>black</td>\n",
       "      <td>02/2023</td>\n",
       "      <td>2023</td>\n",
       "      <td>34990</td>\n",
       "      <td>110</td>\n",
       "      <td>150</td>\n",
       "      <td>Manual</td>\n",
       "      <td>Petrol</td>\n",
       "      <td>5,9 l/100 km</td>\n",
       "      <td>150 g/km</td>\n",
       "      <td>7500.0</td>\n",
       "      <td>1.6 T 48V 2WD Spirit LED, WR</td>\n",
       "    </tr>\n",
       "    <tr>\n",
       "      <th>...</th>\n",
       "      <td>...</td>\n",
       "      <td>...</td>\n",
       "      <td>...</td>\n",
       "      <td>...</td>\n",
       "      <td>...</td>\n",
       "      <td>...</td>\n",
       "      <td>...</td>\n",
       "      <td>...</td>\n",
       "      <td>...</td>\n",
       "      <td>...</td>\n",
       "      <td>...</td>\n",
       "      <td>...</td>\n",
       "      <td>...</td>\n",
       "      <td>...</td>\n",
       "      <td>...</td>\n",
       "    </tr>\n",
       "    <tr>\n",
       "      <th>99995</th>\n",
       "      <td>6265</td>\n",
       "      <td>audi</td>\n",
       "      <td>Audi A1</td>\n",
       "      <td>blue</td>\n",
       "      <td>05/2012</td>\n",
       "      <td>2012</td>\n",
       "      <td>12599</td>\n",
       "      <td>90</td>\n",
       "      <td>122</td>\n",
       "      <td>Manual</td>\n",
       "      <td>Petrol</td>\n",
       "      <td>5,3 l/100 km</td>\n",
       "      <td>126 g/km</td>\n",
       "      <td>148000.0</td>\n",
       "      <td>Ambition TFSI Navi/Leder/SHZ/PTS/KETTE NEU</td>\n",
       "    </tr>\n",
       "    <tr>\n",
       "      <th>99996</th>\n",
       "      <td>54886</td>\n",
       "      <td>fiat</td>\n",
       "      <td>Fiat 500</td>\n",
       "      <td>black</td>\n",
       "      <td>12/2019</td>\n",
       "      <td>2019</td>\n",
       "      <td>9999</td>\n",
       "      <td>51</td>\n",
       "      <td>69</td>\n",
       "      <td>Automatic</td>\n",
       "      <td>Petrol</td>\n",
       "      <td>5,2 l/100 km</td>\n",
       "      <td>120 g/km</td>\n",
       "      <td>31698.0</td>\n",
       "      <td>1.2 Lounge +Automatik + PDC</td>\n",
       "    </tr>\n",
       "    <tr>\n",
       "      <th>99997</th>\n",
       "      <td>76820</td>\n",
       "      <td>honda</td>\n",
       "      <td>Honda CR-V</td>\n",
       "      <td>brown</td>\n",
       "      <td>01/2019</td>\n",
       "      <td>2019</td>\n",
       "      <td>24800</td>\n",
       "      <td>127</td>\n",
       "      <td>173</td>\n",
       "      <td>Manual</td>\n",
       "      <td>Petrol</td>\n",
       "      <td>6,3 l/100 km</td>\n",
       "      <td>143 g/km</td>\n",
       "      <td>77900.0</td>\n",
       "      <td>1.5T 2WD Elegance * 1. Hand * 24 Mon. Garantie *</td>\n",
       "    </tr>\n",
       "    <tr>\n",
       "      <th>99998</th>\n",
       "      <td>860</td>\n",
       "      <td>alfa-romeo</td>\n",
       "      <td>Alfa Romeo Giulietta</td>\n",
       "      <td>grey</td>\n",
       "      <td>12/2020</td>\n",
       "      <td>2020</td>\n",
       "      <td>22990</td>\n",
       "      <td>125</td>\n",
       "      <td>170</td>\n",
       "      <td>Automatic</td>\n",
       "      <td>Diesel</td>\n",
       "      <td>5,5 l/100 km</td>\n",
       "      <td>145 g/km</td>\n",
       "      <td>52251.0</td>\n",
       "      <td>Lusso Ti 2.0 JTDM 16V Xenon Leder Navi</td>\n",
       "    </tr>\n",
       "    <tr>\n",
       "      <th>99999</th>\n",
       "      <td>15795</td>\n",
       "      <td>audi</td>\n",
       "      <td>Audi A3</td>\n",
       "      <td>black</td>\n",
       "      <td>05/2018</td>\n",
       "      <td>2018</td>\n",
       "      <td>21900</td>\n",
       "      <td>110</td>\n",
       "      <td>150</td>\n",
       "      <td>Manual</td>\n",
       "      <td>Petrol</td>\n",
       "      <td>5,3 l/100 km</td>\n",
       "      <td>120 g/km</td>\n",
       "      <td>30400.0</td>\n",
       "      <td>Sportback1.5 Sport|VIRTUAL|NAVI|LED|30KM|</td>\n",
       "    </tr>\n",
       "  </tbody>\n",
       "</table>\n",
       "<p>100000 rows × 15 columns</p>\n",
       "</div>"
      ],
      "text/plain": [
       "       Unnamed: 0       brand                 model  color registration_date  \\\n",
       "0           75721        ford             Ford Kuga  black           05/2023   \n",
       "1           80184     hyundai           Hyundai i10  black           09/2018   \n",
       "2           19864        audi        Audi Q4 e-tron   grey           05/2021   \n",
       "3           76699       honda            Honda CR-V    red           07/2018   \n",
       "4           92991         kia          Kia Sportage  black           02/2023   \n",
       "...           ...         ...                   ...    ...               ...   \n",
       "99995        6265        audi               Audi A1   blue           05/2012   \n",
       "99996       54886        fiat              Fiat 500  black           12/2019   \n",
       "99997       76820       honda            Honda CR-V  brown           01/2019   \n",
       "99998         860  alfa-romeo  Alfa Romeo Giulietta   grey           12/2020   \n",
       "99999       15795        audi               Audi A3  black           05/2018   \n",
       "\n",
       "       year price_in_euro power_kw power_ps transmission_type fuel_type  \\\n",
       "0      2023         38490      140      190         Automatic    Hybrid   \n",
       "1      2018         11555       49       67            Manual    Petrol   \n",
       "2      2021         48886      125      170         Automatic  Electric   \n",
       "3      2018         24490      114      155         Automatic    Petrol   \n",
       "4      2023         34990      110      150            Manual    Petrol   \n",
       "...     ...           ...      ...      ...               ...       ...   \n",
       "99995  2012         12599       90      122            Manual    Petrol   \n",
       "99996  2019          9999       51       69         Automatic    Petrol   \n",
       "99997  2019         24800      127      173            Manual    Petrol   \n",
       "99998  2020         22990      125      170         Automatic    Diesel   \n",
       "99999  2018         21900      110      150            Manual    Petrol   \n",
       "\n",
       "      fuel_consumption_l_100km fuel_consumption_g_km  mileage_in_km  \\\n",
       "0                 5,4 l/100 km              124 g/km          100.0   \n",
       "1                 4,6 l/100 km              106 g/km        27782.0   \n",
       "2                          NaN                0 g/km         4247.0   \n",
       "3                 7,5 l/100 km              175 g/km        57000.0   \n",
       "4                 5,9 l/100 km              150 g/km         7500.0   \n",
       "...                        ...                   ...            ...   \n",
       "99995             5,3 l/100 km              126 g/km       148000.0   \n",
       "99996             5,2 l/100 km              120 g/km        31698.0   \n",
       "99997             6,3 l/100 km              143 g/km        77900.0   \n",
       "99998             5,5 l/100 km              145 g/km        52251.0   \n",
       "99999             5,3 l/100 km              120 g/km        30400.0   \n",
       "\n",
       "                                      offer_description  \n",
       "0        ST-Line Hybrid Adapt.LED+Head-Up-Display Klima  \n",
       "1                   blue Trend,Viele Extras,Top-Zustand  \n",
       "2          35 e-tron S line/Matrix/Pano/ACC/SONOS/LM 21  \n",
       "3                 2.0 Lifestyle Plus Automatik Navi FAP  \n",
       "4                          1.6 T 48V 2WD Spirit LED, WR  \n",
       "...                                                 ...  \n",
       "99995        Ambition TFSI Navi/Leder/SHZ/PTS/KETTE NEU  \n",
       "99996                       1.2 Lounge +Automatik + PDC  \n",
       "99997  1.5T 2WD Elegance * 1. Hand * 24 Mon. Garantie *  \n",
       "99998            Lusso Ti 2.0 JTDM 16V Xenon Leder Navi  \n",
       "99999         Sportback1.5 Sport|VIRTUAL|NAVI|LED|30KM|  \n",
       "\n",
       "[100000 rows x 15 columns]"
      ]
     },
     "execution_count": 30,
     "metadata": {},
     "output_type": "execute_result"
    }
   ],
   "source": [
    "df"
   ]
  },
  {
   "cell_type": "code",
   "execution_count": 31,
   "id": "850aa3ca",
   "metadata": {},
   "outputs": [
    {
     "data": {
      "text/html": [
       "<div>\n",
       "<style scoped>\n",
       "    .dataframe tbody tr th:only-of-type {\n",
       "        vertical-align: middle;\n",
       "    }\n",
       "\n",
       "    .dataframe tbody tr th {\n",
       "        vertical-align: top;\n",
       "    }\n",
       "\n",
       "    .dataframe thead th {\n",
       "        text-align: right;\n",
       "    }\n",
       "</style>\n",
       "<table border=\"1\" class=\"dataframe\">\n",
       "  <thead>\n",
       "    <tr style=\"text-align: right;\">\n",
       "      <th></th>\n",
       "      <th>Unnamed: 0</th>\n",
       "      <th>brand</th>\n",
       "      <th>model</th>\n",
       "      <th>color</th>\n",
       "      <th>registration_date</th>\n",
       "      <th>year</th>\n",
       "      <th>price_in_euro</th>\n",
       "      <th>power_kw</th>\n",
       "      <th>power_ps</th>\n",
       "      <th>transmission_type</th>\n",
       "      <th>fuel_type</th>\n",
       "      <th>fuel_consumption_l_100km</th>\n",
       "      <th>fuel_consumption_g_km</th>\n",
       "      <th>mileage_in_km</th>\n",
       "      <th>offer_description</th>\n",
       "    </tr>\n",
       "  </thead>\n",
       "  <tbody>\n",
       "    <tr>\n",
       "      <th>0</th>\n",
       "      <td>75721</td>\n",
       "      <td>ford</td>\n",
       "      <td>Ford Kuga</td>\n",
       "      <td>black</td>\n",
       "      <td>05/2023</td>\n",
       "      <td>2023</td>\n",
       "      <td>38490</td>\n",
       "      <td>140</td>\n",
       "      <td>190</td>\n",
       "      <td>Automatic</td>\n",
       "      <td>Hybrid</td>\n",
       "      <td>5,4 l/100 km</td>\n",
       "      <td>124 g/km</td>\n",
       "      <td>100.0</td>\n",
       "      <td>ST-Line Hybrid Adapt.LED+Head-Up-Display Klima</td>\n",
       "    </tr>\n",
       "    <tr>\n",
       "      <th>1</th>\n",
       "      <td>80184</td>\n",
       "      <td>hyundai</td>\n",
       "      <td>Hyundai i10</td>\n",
       "      <td>black</td>\n",
       "      <td>09/2018</td>\n",
       "      <td>2018</td>\n",
       "      <td>11555</td>\n",
       "      <td>49</td>\n",
       "      <td>67</td>\n",
       "      <td>Manual</td>\n",
       "      <td>Petrol</td>\n",
       "      <td>4,6 l/100 km</td>\n",
       "      <td>106 g/km</td>\n",
       "      <td>27782.0</td>\n",
       "      <td>blue Trend,Viele Extras,Top-Zustand</td>\n",
       "    </tr>\n",
       "    <tr>\n",
       "      <th>2</th>\n",
       "      <td>19864</td>\n",
       "      <td>audi</td>\n",
       "      <td>Audi Q4 e-tron</td>\n",
       "      <td>grey</td>\n",
       "      <td>05/2021</td>\n",
       "      <td>2021</td>\n",
       "      <td>48886</td>\n",
       "      <td>125</td>\n",
       "      <td>170</td>\n",
       "      <td>Automatic</td>\n",
       "      <td>Electric</td>\n",
       "      <td>NaN</td>\n",
       "      <td>0 g/km</td>\n",
       "      <td>4247.0</td>\n",
       "      <td>35 e-tron S line/Matrix/Pano/ACC/SONOS/LM 21</td>\n",
       "    </tr>\n",
       "    <tr>\n",
       "      <th>3</th>\n",
       "      <td>76699</td>\n",
       "      <td>honda</td>\n",
       "      <td>Honda CR-V</td>\n",
       "      <td>red</td>\n",
       "      <td>07/2018</td>\n",
       "      <td>2018</td>\n",
       "      <td>24490</td>\n",
       "      <td>114</td>\n",
       "      <td>155</td>\n",
       "      <td>Automatic</td>\n",
       "      <td>Petrol</td>\n",
       "      <td>7,5 l/100 km</td>\n",
       "      <td>175 g/km</td>\n",
       "      <td>57000.0</td>\n",
       "      <td>2.0 Lifestyle Plus Automatik Navi FAP</td>\n",
       "    </tr>\n",
       "    <tr>\n",
       "      <th>4</th>\n",
       "      <td>92991</td>\n",
       "      <td>kia</td>\n",
       "      <td>Kia Sportage</td>\n",
       "      <td>black</td>\n",
       "      <td>02/2023</td>\n",
       "      <td>2023</td>\n",
       "      <td>34990</td>\n",
       "      <td>110</td>\n",
       "      <td>150</td>\n",
       "      <td>Manual</td>\n",
       "      <td>Petrol</td>\n",
       "      <td>5,9 l/100 km</td>\n",
       "      <td>150 g/km</td>\n",
       "      <td>7500.0</td>\n",
       "      <td>1.6 T 48V 2WD Spirit LED, WR</td>\n",
       "    </tr>\n",
       "  </tbody>\n",
       "</table>\n",
       "</div>"
      ],
      "text/plain": [
       "   Unnamed: 0    brand           model  color registration_date  year  \\\n",
       "0       75721     ford       Ford Kuga  black           05/2023  2023   \n",
       "1       80184  hyundai     Hyundai i10  black           09/2018  2018   \n",
       "2       19864     audi  Audi Q4 e-tron   grey           05/2021  2021   \n",
       "3       76699    honda      Honda CR-V    red           07/2018  2018   \n",
       "4       92991      kia    Kia Sportage  black           02/2023  2023   \n",
       "\n",
       "  price_in_euro power_kw power_ps transmission_type fuel_type  \\\n",
       "0         38490      140      190         Automatic    Hybrid   \n",
       "1         11555       49       67            Manual    Petrol   \n",
       "2         48886      125      170         Automatic  Electric   \n",
       "3         24490      114      155         Automatic    Petrol   \n",
       "4         34990      110      150            Manual    Petrol   \n",
       "\n",
       "  fuel_consumption_l_100km fuel_consumption_g_km  mileage_in_km  \\\n",
       "0             5,4 l/100 km              124 g/km          100.0   \n",
       "1             4,6 l/100 km              106 g/km        27782.0   \n",
       "2                      NaN                0 g/km         4247.0   \n",
       "3             7,5 l/100 km              175 g/km        57000.0   \n",
       "4             5,9 l/100 km              150 g/km         7500.0   \n",
       "\n",
       "                                offer_description  \n",
       "0  ST-Line Hybrid Adapt.LED+Head-Up-Display Klima  \n",
       "1             blue Trend,Viele Extras,Top-Zustand  \n",
       "2    35 e-tron S line/Matrix/Pano/ACC/SONOS/LM 21  \n",
       "3           2.0 Lifestyle Plus Automatik Navi FAP  \n",
       "4                    1.6 T 48V 2WD Spirit LED, WR  "
      ]
     },
     "execution_count": 31,
     "metadata": {},
     "output_type": "execute_result"
    }
   ],
   "source": [
    "# first five rows\n",
    "df.head(5)"
   ]
  },
  {
   "cell_type": "code",
   "execution_count": 32,
   "id": "71b31ada",
   "metadata": {},
   "outputs": [
    {
     "data": {
      "text/html": [
       "<div>\n",
       "<style scoped>\n",
       "    .dataframe tbody tr th:only-of-type {\n",
       "        vertical-align: middle;\n",
       "    }\n",
       "\n",
       "    .dataframe tbody tr th {\n",
       "        vertical-align: top;\n",
       "    }\n",
       "\n",
       "    .dataframe thead th {\n",
       "        text-align: right;\n",
       "    }\n",
       "</style>\n",
       "<table border=\"1\" class=\"dataframe\">\n",
       "  <thead>\n",
       "    <tr style=\"text-align: right;\">\n",
       "      <th></th>\n",
       "      <th>Unnamed: 0</th>\n",
       "      <th>brand</th>\n",
       "      <th>model</th>\n",
       "      <th>color</th>\n",
       "      <th>registration_date</th>\n",
       "      <th>year</th>\n",
       "      <th>price_in_euro</th>\n",
       "      <th>power_kw</th>\n",
       "      <th>power_ps</th>\n",
       "      <th>transmission_type</th>\n",
       "      <th>fuel_type</th>\n",
       "      <th>fuel_consumption_l_100km</th>\n",
       "      <th>fuel_consumption_g_km</th>\n",
       "      <th>mileage_in_km</th>\n",
       "      <th>offer_description</th>\n",
       "    </tr>\n",
       "  </thead>\n",
       "  <tbody>\n",
       "    <tr>\n",
       "      <th>99995</th>\n",
       "      <td>6265</td>\n",
       "      <td>audi</td>\n",
       "      <td>Audi A1</td>\n",
       "      <td>blue</td>\n",
       "      <td>05/2012</td>\n",
       "      <td>2012</td>\n",
       "      <td>12599</td>\n",
       "      <td>90</td>\n",
       "      <td>122</td>\n",
       "      <td>Manual</td>\n",
       "      <td>Petrol</td>\n",
       "      <td>5,3 l/100 km</td>\n",
       "      <td>126 g/km</td>\n",
       "      <td>148000.0</td>\n",
       "      <td>Ambition TFSI Navi/Leder/SHZ/PTS/KETTE NEU</td>\n",
       "    </tr>\n",
       "    <tr>\n",
       "      <th>99996</th>\n",
       "      <td>54886</td>\n",
       "      <td>fiat</td>\n",
       "      <td>Fiat 500</td>\n",
       "      <td>black</td>\n",
       "      <td>12/2019</td>\n",
       "      <td>2019</td>\n",
       "      <td>9999</td>\n",
       "      <td>51</td>\n",
       "      <td>69</td>\n",
       "      <td>Automatic</td>\n",
       "      <td>Petrol</td>\n",
       "      <td>5,2 l/100 km</td>\n",
       "      <td>120 g/km</td>\n",
       "      <td>31698.0</td>\n",
       "      <td>1.2 Lounge +Automatik + PDC</td>\n",
       "    </tr>\n",
       "    <tr>\n",
       "      <th>99997</th>\n",
       "      <td>76820</td>\n",
       "      <td>honda</td>\n",
       "      <td>Honda CR-V</td>\n",
       "      <td>brown</td>\n",
       "      <td>01/2019</td>\n",
       "      <td>2019</td>\n",
       "      <td>24800</td>\n",
       "      <td>127</td>\n",
       "      <td>173</td>\n",
       "      <td>Manual</td>\n",
       "      <td>Petrol</td>\n",
       "      <td>6,3 l/100 km</td>\n",
       "      <td>143 g/km</td>\n",
       "      <td>77900.0</td>\n",
       "      <td>1.5T 2WD Elegance * 1. Hand * 24 Mon. Garantie *</td>\n",
       "    </tr>\n",
       "    <tr>\n",
       "      <th>99998</th>\n",
       "      <td>860</td>\n",
       "      <td>alfa-romeo</td>\n",
       "      <td>Alfa Romeo Giulietta</td>\n",
       "      <td>grey</td>\n",
       "      <td>12/2020</td>\n",
       "      <td>2020</td>\n",
       "      <td>22990</td>\n",
       "      <td>125</td>\n",
       "      <td>170</td>\n",
       "      <td>Automatic</td>\n",
       "      <td>Diesel</td>\n",
       "      <td>5,5 l/100 km</td>\n",
       "      <td>145 g/km</td>\n",
       "      <td>52251.0</td>\n",
       "      <td>Lusso Ti 2.0 JTDM 16V Xenon Leder Navi</td>\n",
       "    </tr>\n",
       "    <tr>\n",
       "      <th>99999</th>\n",
       "      <td>15795</td>\n",
       "      <td>audi</td>\n",
       "      <td>Audi A3</td>\n",
       "      <td>black</td>\n",
       "      <td>05/2018</td>\n",
       "      <td>2018</td>\n",
       "      <td>21900</td>\n",
       "      <td>110</td>\n",
       "      <td>150</td>\n",
       "      <td>Manual</td>\n",
       "      <td>Petrol</td>\n",
       "      <td>5,3 l/100 km</td>\n",
       "      <td>120 g/km</td>\n",
       "      <td>30400.0</td>\n",
       "      <td>Sportback1.5 Sport|VIRTUAL|NAVI|LED|30KM|</td>\n",
       "    </tr>\n",
       "  </tbody>\n",
       "</table>\n",
       "</div>"
      ],
      "text/plain": [
       "       Unnamed: 0       brand                 model  color registration_date  \\\n",
       "99995        6265        audi               Audi A1   blue           05/2012   \n",
       "99996       54886        fiat              Fiat 500  black           12/2019   \n",
       "99997       76820       honda            Honda CR-V  brown           01/2019   \n",
       "99998         860  alfa-romeo  Alfa Romeo Giulietta   grey           12/2020   \n",
       "99999       15795        audi               Audi A3  black           05/2018   \n",
       "\n",
       "       year price_in_euro power_kw power_ps transmission_type fuel_type  \\\n",
       "99995  2012         12599       90      122            Manual    Petrol   \n",
       "99996  2019          9999       51       69         Automatic    Petrol   \n",
       "99997  2019         24800      127      173            Manual    Petrol   \n",
       "99998  2020         22990      125      170         Automatic    Diesel   \n",
       "99999  2018         21900      110      150            Manual    Petrol   \n",
       "\n",
       "      fuel_consumption_l_100km fuel_consumption_g_km  mileage_in_km  \\\n",
       "99995             5,3 l/100 km              126 g/km       148000.0   \n",
       "99996             5,2 l/100 km              120 g/km        31698.0   \n",
       "99997             6,3 l/100 km              143 g/km        77900.0   \n",
       "99998             5,5 l/100 km              145 g/km        52251.0   \n",
       "99999             5,3 l/100 km              120 g/km        30400.0   \n",
       "\n",
       "                                      offer_description  \n",
       "99995        Ambition TFSI Navi/Leder/SHZ/PTS/KETTE NEU  \n",
       "99996                       1.2 Lounge +Automatik + PDC  \n",
       "99997  1.5T 2WD Elegance * 1. Hand * 24 Mon. Garantie *  \n",
       "99998            Lusso Ti 2.0 JTDM 16V Xenon Leder Navi  \n",
       "99999         Sportback1.5 Sport|VIRTUAL|NAVI|LED|30KM|  "
      ]
     },
     "execution_count": 32,
     "metadata": {},
     "output_type": "execute_result"
    }
   ],
   "source": [
    "# last five rows\n",
    "df.tail(5)"
   ]
  },
  {
   "cell_type": "code",
   "execution_count": 33,
   "id": "2dfa6d4b",
   "metadata": {},
   "outputs": [],
   "source": [
    "# Find out the measures of central tendancy for this Numpy array : np.array([1,5,5,3,100,4,48])"
   ]
  },
  {
   "cell_type": "code",
   "execution_count": 36,
   "id": "c37def1f",
   "metadata": {},
   "outputs": [
    {
     "name": "stdout",
     "output_type": "stream",
     "text": [
      "The mean is: 23.714285714285715\n",
      "The median is: 5.0\n",
      "The std is: 34.73044891205198\n"
     ]
    }
   ],
   "source": [
    "import numpy as np\n",
    "n1 =np.array([1,5,5,3,100,4,48])\n",
    "\n",
    "print(\"The mean is:\",(np.mean(n1)))\n",
    "print(\"The median is:\",(np.median(n1)))\n",
    "print(\"The std is:\",(np.std(n1)))"
   ]
  },
  {
   "cell_type": "code",
   "execution_count": 37,
   "id": "d6422f19",
   "metadata": {},
   "outputs": [],
   "source": [
    "# How do you get lis of all keys in the dict\n",
    "dict = {\"first_name\":\"John\",\"Middle_name\":\"Suresh\",\"last_name\":\"Mahire\"}"
   ]
  },
  {
   "cell_type": "code",
   "execution_count": 38,
   "id": "2c5d5b32",
   "metadata": {},
   "outputs": [
    {
     "data": {
      "text/plain": [
       "dict_keys(['first_name', 'Middle_name', 'last_name'])"
      ]
     },
     "execution_count": 38,
     "metadata": {},
     "output_type": "execute_result"
    }
   ],
   "source": [
    "dict.keys()"
   ]
  },
  {
   "cell_type": "code",
   "execution_count": 39,
   "id": "c0ce7288",
   "metadata": {},
   "outputs": [],
   "source": [
    "str = \"greatlearning\""
   ]
  },
  {
   "cell_type": "code",
   "execution_count": 40,
   "id": "e0bde3b1",
   "metadata": {},
   "outputs": [
    {
     "name": "stdout",
     "output_type": "stream",
     "text": [
      "Greatlearning\n"
     ]
    }
   ],
   "source": [
    "print(str.capitalize())\n"
   ]
  },
  {
   "cell_type": "code",
   "execution_count": 41,
   "id": "20193fae",
   "metadata": {},
   "outputs": [],
   "source": [
    "# how can u insert element in  in given index\n"
   ]
  },
  {
   "cell_type": "code",
   "execution_count": 44,
   "id": "29c14b6a",
   "metadata": {},
   "outputs": [
    {
     "data": {
      "text/plain": [
       "[3, 1, 2, 3, 4, 56, 7, 8, 9, 9]"
      ]
     },
     "execution_count": 44,
     "metadata": {},
     "output_type": "execute_result"
    }
   ],
   "source": [
    "list = [1,2,3,4,56,7,8,9,9]\n",
    "list.insert(0,3)\n",
    "\n",
    "list"
   ]
  },
  {
   "cell_type": "code",
   "execution_count": 46,
   "id": "2325791f",
   "metadata": {},
   "outputs": [],
   "source": [
    "# how will iu delete duplicate elements from list \n"
   ]
  },
  {
   "cell_type": "code",
   "execution_count": 52,
   "id": "6b541bf0",
   "metadata": {},
   "outputs": [
    {
     "name": "stdout",
     "output_type": "stream",
     "text": [
      "['x', 'y', 'z', 'a', 'b', 'c', 'd']\n"
     ]
    }
   ],
   "source": [
    "m = ['x','y','z','x','y','z','a','b','c','d']\n",
    "\n",
    "my_list = list(dict.fromkeys(m))\n",
    "print(my_list)"
   ]
  },
  {
   "cell_type": "code",
   "execution_count": 53,
   "id": "af19b133",
   "metadata": {},
   "outputs": [
    {
     "data": {
      "text/plain": [
       "[0, 1, 2, 3, 4, 5, 6, 7, 8, 9]"
      ]
     },
     "execution_count": 53,
     "metadata": {},
     "output_type": "execute_result"
    }
   ],
   "source": [
    "# explain python list comprehension\n",
    "\n",
    "list = [i for i in range(10)]\n",
    "\n",
    "list"
   ]
  },
  {
   "cell_type": "code",
   "execution_count": 56,
   "id": "54788588",
   "metadata": {},
   "outputs": [
    {
     "name": "stdout",
     "output_type": "stream",
     "text": [
      "[2, 4, 6, 8]\n"
     ]
    }
   ],
   "source": [
    "# map function\n",
    "\n",
    "def add_func(n):\n",
    "    return n*2\n",
    "\n",
    "num = (1,2,3,4)\n",
    "result = map(add_func,num)\n",
    "\n",
    "print(list(result))"
   ]
  },
  {
   "cell_type": "code",
   "execution_count": 57,
   "id": "1893a34c",
   "metadata": {},
   "outputs": [],
   "source": [
    "# how to convert int type into str "
   ]
  },
  {
   "cell_type": "code",
   "execution_count": 74,
   "id": "6276d527",
   "metadata": {},
   "outputs": [
    {
     "name": "stdout",
     "output_type": "stream",
     "text": [
      "<class 'int'>\n",
      "<class 'str'>\n"
     ]
    }
   ],
   "source": [
    "num = 10\n",
    "del str # if type error comes do this del str ,del list etc \n",
    "\n",
    "print(type(num))\n",
    "\n",
    "char = str(num)\n",
    "\n",
    "print(type(char))"
   ]
  },
  {
   "cell_type": "code",
   "execution_count": 83,
   "id": "2534caac",
   "metadata": {},
   "outputs": [
    {
     "name": "stdout",
     "output_type": "stream",
     "text": [
      "[\"'A','B','C',\", \"'helllo'\"]\n"
     ]
    }
   ],
   "source": [
    "letters = (\"'A','B','C', 'helllo'\")\n",
    "n = letters.split(\" \")  # it seperated string by space( )\n",
    "print(n)"
   ]
  },
  {
   "cell_type": "code",
   "execution_count": null,
   "id": "e4852ed6",
   "metadata": {},
   "outputs": [],
   "source": []
  }
 ],
 "metadata": {
  "kernelspec": {
   "display_name": "Python 3 (ipykernel)",
   "language": "python",
   "name": "python3"
  },
  "language_info": {
   "codemirror_mode": {
    "name": "ipython",
    "version": 3
   },
   "file_extension": ".py",
   "mimetype": "text/x-python",
   "name": "python",
   "nbconvert_exporter": "python",
   "pygments_lexer": "ipython3",
   "version": "3.11.7"
  }
 },
 "nbformat": 4,
 "nbformat_minor": 5
}
