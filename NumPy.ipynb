{
 "cells": [
  {
   "cell_type": "code",
   "execution_count": 1,
   "id": "b49ea1aa",
   "metadata": {},
   "outputs": [],
   "source": [
    "import numpy as np"
   ]
  },
  {
   "cell_type": "code",
   "execution_count": 2,
   "id": "b128486e",
   "metadata": {},
   "outputs": [],
   "source": [
    "# 1 Create one dimentional an array"
   ]
  },
  {
   "cell_type": "code",
   "execution_count": 3,
   "id": "75993bc0",
   "metadata": {},
   "outputs": [],
   "source": [
    "a = np.array([1,32,3,4,5,6])"
   ]
  },
  {
   "cell_type": "code",
   "execution_count": 4,
   "id": "d544cbe6",
   "metadata": {},
   "outputs": [
    {
     "data": {
      "text/plain": [
       "array([ 1, 32,  3,  4,  5,  6])"
      ]
     },
     "execution_count": 4,
     "metadata": {},
     "output_type": "execute_result"
    }
   ],
   "source": [
    "a"
   ]
  },
  {
   "cell_type": "code",
   "execution_count": 5,
   "id": "c30ff7f5",
   "metadata": {},
   "outputs": [],
   "source": [
    "# 2 create two dimentional an array"
   ]
  },
  {
   "cell_type": "code",
   "execution_count": 10,
   "id": "0b2f11b3",
   "metadata": {},
   "outputs": [],
   "source": [
    "b = np.array([(1,2,3),(4,5,6)]) "
   ]
  },
  {
   "cell_type": "code",
   "execution_count": 11,
   "id": "601f5242",
   "metadata": {},
   "outputs": [
    {
     "data": {
      "text/plain": [
       "array([[1, 2, 3],\n",
       "       [4, 5, 6]])"
      ]
     },
     "execution_count": 11,
     "metadata": {},
     "output_type": "execute_result"
    }
   ],
   "source": [
    "b"
   ]
  },
  {
   "cell_type": "code",
   "execution_count": 12,
   "id": "ea915121",
   "metadata": {},
   "outputs": [],
   "source": [
    "# 3 find the dimentions of an array"
   ]
  },
  {
   "cell_type": "code",
   "execution_count": 13,
   "id": "019cbcdd",
   "metadata": {},
   "outputs": [
    {
     "data": {
      "text/plain": [
       "array([[1, 2, 3],\n",
       "       [4, 5, 6]])"
      ]
     },
     "execution_count": 13,
     "metadata": {},
     "output_type": "execute_result"
    }
   ],
   "source": [
    "b"
   ]
  },
  {
   "cell_type": "code",
   "execution_count": 23,
   "id": "4a23d630",
   "metadata": {},
   "outputs": [
    {
     "data": {
      "text/plain": [
       "2"
      ]
     },
     "execution_count": 23,
     "metadata": {},
     "output_type": "execute_result"
    }
   ],
   "source": [
    "b.ndim"
   ]
  },
  {
   "cell_type": "code",
   "execution_count": 26,
   "id": "2ba32d1d",
   "metadata": {},
   "outputs": [],
   "source": [
    "c = np.array([(1,2,3),(4,5,6),(7,8,9)])"
   ]
  },
  {
   "cell_type": "code",
   "execution_count": 27,
   "id": "c99bfa08",
   "metadata": {},
   "outputs": [
    {
     "data": {
      "text/plain": [
       "array([[1, 2, 3],\n",
       "       [4, 5, 6],\n",
       "       [7, 8, 9]])"
      ]
     },
     "execution_count": 27,
     "metadata": {},
     "output_type": "execute_result"
    }
   ],
   "source": [
    "c"
   ]
  },
  {
   "cell_type": "code",
   "execution_count": 28,
   "id": "410c3aa1",
   "metadata": {},
   "outputs": [
    {
     "data": {
      "text/plain": [
       "2"
      ]
     },
     "execution_count": 28,
     "metadata": {},
     "output_type": "execute_result"
    }
   ],
   "source": [
    "c.ndim"
   ]
  },
  {
   "cell_type": "code",
   "execution_count": 14,
   "id": "5956e1b3",
   "metadata": {},
   "outputs": [],
   "source": [
    "# 4 find byte size of an  array"
   ]
  },
  {
   "cell_type": "code",
   "execution_count": 29,
   "id": "b205d15e",
   "metadata": {},
   "outputs": [
    {
     "data": {
      "text/plain": [
       "4"
      ]
     },
     "execution_count": 29,
     "metadata": {},
     "output_type": "execute_result"
    }
   ],
   "source": [
    "b.itemsize"
   ]
  },
  {
   "cell_type": "code",
   "execution_count": 15,
   "id": "86516934",
   "metadata": {},
   "outputs": [],
   "source": [
    "# 5 find data type of an  array"
   ]
  },
  {
   "cell_type": "code",
   "execution_count": 30,
   "id": "e330d5ee",
   "metadata": {},
   "outputs": [
    {
     "data": {
      "text/plain": [
       "dtype('int32')"
      ]
     },
     "execution_count": 30,
     "metadata": {},
     "output_type": "execute_result"
    }
   ],
   "source": [
    "b.dtype"
   ]
  },
  {
   "cell_type": "code",
   "execution_count": 16,
   "id": "fa079378",
   "metadata": {},
   "outputs": [],
   "source": [
    "# 6 find shape of  an array"
   ]
  },
  {
   "cell_type": "code",
   "execution_count": 31,
   "id": "8305ee4e",
   "metadata": {},
   "outputs": [
    {
     "data": {
      "text/plain": [
       "6"
      ]
     },
     "execution_count": 31,
     "metadata": {},
     "output_type": "execute_result"
    }
   ],
   "source": [
    "b.size"
   ]
  },
  {
   "cell_type": "code",
   "execution_count": 32,
   "id": "e0e36d2c",
   "metadata": {},
   "outputs": [
    {
     "data": {
      "text/plain": [
       "(2, 3)"
      ]
     },
     "execution_count": 32,
     "metadata": {},
     "output_type": "execute_result"
    }
   ],
   "source": [
    "b.shape"
   ]
  },
  {
   "cell_type": "code",
   "execution_count": 17,
   "id": "0b9f7865",
   "metadata": {},
   "outputs": [],
   "source": [
    "# 7 reshape of  an array"
   ]
  },
  {
   "cell_type": "code",
   "execution_count": 33,
   "id": "ef8b47aa",
   "metadata": {},
   "outputs": [],
   "source": [
    "d = np.array([(1,2,3,4),(5,6,7,8)])"
   ]
  },
  {
   "cell_type": "code",
   "execution_count": 34,
   "id": "cb9f77ed",
   "metadata": {},
   "outputs": [
    {
     "data": {
      "text/plain": [
       "array([[1, 2, 3, 4],\n",
       "       [5, 6, 7, 8]])"
      ]
     },
     "execution_count": 34,
     "metadata": {},
     "output_type": "execute_result"
    }
   ],
   "source": [
    "d"
   ]
  },
  {
   "cell_type": "code",
   "execution_count": 35,
   "id": "4e11797d",
   "metadata": {},
   "outputs": [
    {
     "data": {
      "text/plain": [
       "(2, 4)"
      ]
     },
     "execution_count": 35,
     "metadata": {},
     "output_type": "execute_result"
    }
   ],
   "source": [
    "d.shape"
   ]
  },
  {
   "cell_type": "code",
   "execution_count": 37,
   "id": "7cf39d99",
   "metadata": {},
   "outputs": [
    {
     "data": {
      "text/plain": [
       "array([[1, 2],\n",
       "       [3, 4],\n",
       "       [5, 6],\n",
       "       [7, 8]])"
      ]
     },
     "execution_count": 37,
     "metadata": {},
     "output_type": "execute_result"
    }
   ],
   "source": [
    "d.reshape(4,2)"
   ]
  },
  {
   "cell_type": "code",
   "execution_count": 18,
   "id": "117c0c3b",
   "metadata": {},
   "outputs": [],
   "source": [
    "# 8 slicing of an array"
   ]
  },
  {
   "cell_type": "code",
   "execution_count": 38,
   "id": "d15bb187",
   "metadata": {
    "scrolled": true
   },
   "outputs": [
    {
     "data": {
      "text/plain": [
       "array([[1, 2, 3, 4],\n",
       "       [5, 6, 7, 8]])"
      ]
     },
     "execution_count": 38,
     "metadata": {},
     "output_type": "execute_result"
    }
   ],
   "source": [
    "d"
   ]
  },
  {
   "cell_type": "code",
   "execution_count": 39,
   "id": "e5c601a3",
   "metadata": {},
   "outputs": [
    {
     "data": {
      "text/plain": [
       "array([1, 5])"
      ]
     },
     "execution_count": 39,
     "metadata": {},
     "output_type": "execute_result"
    }
   ],
   "source": [
    "d[0:,0]   # it will fetch both zeroth index values"
   ]
  },
  {
   "cell_type": "code",
   "execution_count": 40,
   "id": "c30c49dc",
   "metadata": {},
   "outputs": [
    {
     "data": {
      "text/plain": [
       "array([2, 6])"
      ]
     },
     "execution_count": 40,
     "metadata": {},
     "output_type": "execute_result"
    }
   ],
   "source": [
    "d[0:,1]"
   ]
  },
  {
   "cell_type": "code",
   "execution_count": 41,
   "id": "8e4b5dd0",
   "metadata": {},
   "outputs": [
    {
     "data": {
      "text/plain": [
       "array([3, 7])"
      ]
     },
     "execution_count": 41,
     "metadata": {},
     "output_type": "execute_result"
    }
   ],
   "source": [
    "d[0:,2]"
   ]
  },
  {
   "cell_type": "code",
   "execution_count": 42,
   "id": "44971cba",
   "metadata": {},
   "outputs": [
    {
     "data": {
      "text/plain": [
       "array([6])"
      ]
     },
     "execution_count": 42,
     "metadata": {},
     "output_type": "execute_result"
    }
   ],
   "source": [
    "d[1:,1]   # if we have to fetch first index value from 2nd row"
   ]
  },
  {
   "cell_type": "code",
   "execution_count": 43,
   "id": "885b0f29",
   "metadata": {},
   "outputs": [
    {
     "data": {
      "text/plain": [
       "array([[1, 2, 3, 4]])"
      ]
     },
     "execution_count": 43,
     "metadata": {},
     "output_type": "execute_result"
    }
   ],
   "source": [
    "d[0:1]   # if have to fetch only first row from array"
   ]
  },
  {
   "cell_type": "code",
   "execution_count": 44,
   "id": "e265914a",
   "metadata": {},
   "outputs": [
    {
     "data": {
      "text/plain": [
       "array([[5, 6, 7, 8]])"
      ]
     },
     "execution_count": 44,
     "metadata": {},
     "output_type": "execute_result"
    }
   ],
   "source": [
    "d[1:2]  # if have to fetch only second row from array"
   ]
  },
  {
   "cell_type": "code",
   "execution_count": 45,
   "id": "777b002a",
   "metadata": {},
   "outputs": [
    {
     "data": {
      "text/plain": [
       "array([[1, 2, 3, 4],\n",
       "       [5, 6, 7, 8]])"
      ]
     },
     "execution_count": 45,
     "metadata": {},
     "output_type": "execute_result"
    }
   ],
   "source": [
    "d[0:2]"
   ]
  },
  {
   "cell_type": "code",
   "execution_count": null,
   "id": "4982eff6",
   "metadata": {},
   "outputs": [],
   "source": []
  },
  {
   "cell_type": "code",
   "execution_count": 19,
   "id": "93124f4d",
   "metadata": {},
   "outputs": [],
   "source": [
    "# 9 find min, max, mean, median, std of an array"
   ]
  },
  {
   "cell_type": "code",
   "execution_count": 47,
   "id": "342b76d0",
   "metadata": {},
   "outputs": [
    {
     "data": {
      "text/plain": [
       "(8, 1, 4.5, 2.29128784747792)"
      ]
     },
     "execution_count": 47,
     "metadata": {},
     "output_type": "execute_result"
    }
   ],
   "source": [
    "d.max(),d.min(),d.mean(),d.std()"
   ]
  },
  {
   "cell_type": "code",
   "execution_count": 21,
   "id": "c7525540",
   "metadata": {},
   "outputs": [],
   "source": [
    "# 10 axis"
   ]
  },
  {
   "cell_type": "code",
   "execution_count": 48,
   "id": "4068ace1",
   "metadata": {},
   "outputs": [],
   "source": [
    "# axis 0 refers to column \n",
    "# axis 1 refers to row"
   ]
  },
  {
   "cell_type": "code",
   "execution_count": 49,
   "id": "fc8271a0",
   "metadata": {},
   "outputs": [
    {
     "data": {
      "text/plain": [
       "array([ 6,  8, 10, 12])"
      ]
     },
     "execution_count": 49,
     "metadata": {},
     "output_type": "execute_result"
    }
   ],
   "source": [
    "d.sum(axis=0)"
   ]
  },
  {
   "cell_type": "code",
   "execution_count": 50,
   "id": "717c83b3",
   "metadata": {},
   "outputs": [
    {
     "data": {
      "text/plain": [
       "array([10, 26])"
      ]
     },
     "execution_count": 50,
     "metadata": {},
     "output_type": "execute_result"
    }
   ],
   "source": [
    "d.sum(axis=1)"
   ]
  },
  {
   "cell_type": "code",
   "execution_count": 22,
   "id": "7c808d73",
   "metadata": {},
   "outputs": [],
   "source": [
    "# 11 concatenate array"
   ]
  },
  {
   "cell_type": "code",
   "execution_count": 52,
   "id": "9c5c9c61",
   "metadata": {},
   "outputs": [],
   "source": [
    "x = np.array([(1,2,3,4,9),(5,6,7,8,9)])\n",
    "y = np.array([(9,8,7,6,5),(5,4,3,2,1)])"
   ]
  },
  {
   "cell_type": "code",
   "execution_count": 53,
   "id": "63c53a1e",
   "metadata": {},
   "outputs": [
    {
     "data": {
      "text/plain": [
       "array([[1, 2, 3, 4, 9],\n",
       "       [5, 6, 7, 8, 9],\n",
       "       [9, 8, 7, 6, 5],\n",
       "       [5, 4, 3, 2, 1]])"
      ]
     },
     "execution_count": 53,
     "metadata": {},
     "output_type": "execute_result"
    }
   ],
   "source": [
    "np.vstack((x,y))"
   ]
  },
  {
   "cell_type": "code",
   "execution_count": 54,
   "id": "fd02d209",
   "metadata": {},
   "outputs": [
    {
     "data": {
      "text/plain": [
       "array([[1, 2, 3, 4, 9, 9, 8, 7, 6, 5],\n",
       "       [5, 6, 7, 8, 9, 5, 4, 3, 2, 1]])"
      ]
     },
     "execution_count": 54,
     "metadata": {},
     "output_type": "execute_result"
    }
   ],
   "source": [
    "np.hstack((x,y))"
   ]
  },
  {
   "cell_type": "code",
   "execution_count": null,
   "id": "d7b06b03",
   "metadata": {},
   "outputs": [],
   "source": [
    "# 12 convert multidimentional array into single column"
   ]
  },
  {
   "cell_type": "code",
   "execution_count": 55,
   "id": "e5d673e1",
   "metadata": {},
   "outputs": [
    {
     "data": {
      "text/plain": [
       "array([1, 2, 3, 4, 9, 5, 6, 7, 8, 9])"
      ]
     },
     "execution_count": 55,
     "metadata": {},
     "output_type": "execute_result"
    }
   ],
   "source": [
    "np.ravel(x)"
   ]
  },
  {
   "cell_type": "code",
   "execution_count": null,
   "id": "9842e72d",
   "metadata": {},
   "outputs": [],
   "source": [
    "# 13 Arithmatic operations on array"
   ]
  },
  {
   "cell_type": "code",
   "execution_count": 56,
   "id": "9d85c08d",
   "metadata": {},
   "outputs": [],
   "source": [
    "x = np.array([(1,2,3,4,9),(5,6,7,8,9)])\n",
    "y = np.array([(9,8,7,6,5),(5,4,3,2,1)])"
   ]
  },
  {
   "cell_type": "code",
   "execution_count": 58,
   "id": "b5564bc1",
   "metadata": {},
   "outputs": [
    {
     "data": {
      "text/plain": [
       "array([[10, 10, 10, 10, 14],\n",
       "       [10, 10, 10, 10, 10]])"
      ]
     },
     "execution_count": 58,
     "metadata": {},
     "output_type": "execute_result"
    }
   ],
   "source": [
    "x+y"
   ]
  },
  {
   "cell_type": "code",
   "execution_count": 59,
   "id": "cb2b2746",
   "metadata": {},
   "outputs": [
    {
     "data": {
      "text/plain": [
       "array([[-8, -6, -4, -2,  4],\n",
       "       [ 0,  2,  4,  6,  8]])"
      ]
     },
     "execution_count": 59,
     "metadata": {},
     "output_type": "execute_result"
    }
   ],
   "source": [
    "x-y"
   ]
  },
  {
   "cell_type": "code",
   "execution_count": 60,
   "id": "6bd2d14d",
   "metadata": {},
   "outputs": [
    {
     "data": {
      "text/plain": [
       "array([[ 9, 16, 21, 24, 45],\n",
       "       [25, 24, 21, 16,  9]])"
      ]
     },
     "execution_count": 60,
     "metadata": {},
     "output_type": "execute_result"
    }
   ],
   "source": [
    "x*y"
   ]
  },
  {
   "cell_type": "code",
   "execution_count": 61,
   "id": "18ddf31c",
   "metadata": {},
   "outputs": [
    {
     "data": {
      "text/plain": [
       "array([[0.11111111, 0.25      , 0.42857143, 0.66666667, 1.8       ],\n",
       "       [1.        , 1.5       , 2.33333333, 4.        , 9.        ]])"
      ]
     },
     "execution_count": 61,
     "metadata": {},
     "output_type": "execute_result"
    }
   ],
   "source": [
    "x/y"
   ]
  },
  {
   "cell_type": "code",
   "execution_count": null,
   "id": "384ebbc7",
   "metadata": {},
   "outputs": [],
   "source": []
  }
 ],
 "metadata": {
  "kernelspec": {
   "display_name": "Python 3 (ipykernel)",
   "language": "python",
   "name": "python3"
  },
  "language_info": {
   "codemirror_mode": {
    "name": "ipython",
    "version": 3
   },
   "file_extension": ".py",
   "mimetype": "text/x-python",
   "name": "python",
   "nbconvert_exporter": "python",
   "pygments_lexer": "ipython3",
   "version": "3.11.7"
  }
 },
 "nbformat": 4,
 "nbformat_minor": 5
}
