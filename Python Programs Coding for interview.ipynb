{
 "cells": [
  {
   "cell_type": "markdown",
   "id": "309a38d4",
   "metadata": {},
   "source": [
    "# PP to add two numbers"
   ]
  },
  {
   "cell_type": "code",
   "execution_count": 3,
   "id": "9b891882",
   "metadata": {},
   "outputs": [
    {
     "name": "stdout",
     "output_type": "stream",
     "text": [
      "The sum of the given two numbers is: 26\n",
      "\n"
     ]
    },
    {
     "name": "stdin",
     "output_type": "stream",
     "text": [
      "Enter first number here: 12\n",
      "Enter  second number here: 2\n"
     ]
    },
    {
     "name": "stdout",
     "output_type": "stream",
     "text": [
      "14\n"
     ]
    }
   ],
   "source": [
    "num1 = 12\n",
    "num2 = 14\n",
    "print(\"The sum of the given two numbers is:\",num1+num2)\n",
    "print()\n",
    "\n",
    "# with user input\n",
    "\n",
    "num1 = int(input(\"Enter first number here:\"))\n",
    "num2 = int(input(\"Enter  second number here:\"))\n",
    "\n",
    "sum = num1+num2\n",
    "print(sum)"
   ]
  },
  {
   "cell_type": "markdown",
   "id": "bcb72805-82d4-4284-a910-4a6931e9cc8a",
   "metadata": {},
   "source": [
    "# PP to calculate area of trinagle"
   ]
  },
  {
   "cell_type": "code",
   "execution_count": null,
   "id": "71874567",
   "metadata": {},
   "outputs": [],
   "source": [
    "# PP to convert km into miles"
   ]
  },
  {
   "cell_type": "code",
   "execution_count": null,
   "id": "79f24906-04c4-4b8d-9bfa-94c1c3360493",
   "metadata": {},
   "outputs": [],
   "source": []
  },
  {
   "cell_type": "code",
   "execution_count": 6,
   "id": "ee10568e",
   "metadata": {},
   "outputs": [],
   "source": [
    "# PP to swap two variables\n"
   ]
  },
  {
   "cell_type": "code",
   "execution_count": 5,
   "id": "c55a7dfc-4198-4f59-b7e6-7d935537594f",
   "metadata": {},
   "outputs": [],
   "source": [
    "# soln 1 \n",
    "# Using third variable\n"
   ]
  },
  {
   "cell_type": "code",
   "execution_count": 10,
   "id": "8fddbe9c-dafe-45ba-9a51-cceb63c94bf7",
   "metadata": {},
   "outputs": [
    {
     "name": "stdout",
     "output_type": "stream",
     "text": [
      "The value of temp variable is: 2\n",
      "The value of x variable is: 4\n",
      "The value of y variable is: 2\n"
     ]
    }
   ],
   "source": [
    "x = 2\n",
    "y = 4\n",
    "temp = x\n",
    "print(\"The value of temp variable is:\",temp)\n",
    "\n",
    "x = y \n",
    "print(\"The value of x variable is:\",x)\n",
    "\n",
    "\n",
    "y = temp \n",
    "print(\"The value of y variable is:\",y)\n",
    "\n",
    "\n"
   ]
  },
  {
   "cell_type": "code",
   "execution_count": 12,
   "id": "2374ca73-c392-41d7-aa1d-67774d743a8f",
   "metadata": {},
   "outputs": [
    {
     "name": "stdout",
     "output_type": "stream",
     "text": [
      "The value of x variable is: 8\n",
      "The value of y variable is: 2\n"
     ]
    }
   ],
   "source": [
    "# or\n",
    "\n",
    "x = 2 # or can take input from user \n",
    "y = 8\n",
    "\n",
    "temp = x\n",
    "x = y \n",
    "y = temp \n",
    "\n",
    "print(\"The value of x variable is:\",x)\n",
    "print(\"The value of y variable is:\",y)"
   ]
  },
  {
   "cell_type": "code",
   "execution_count": 13,
   "id": "ecab52cf-aec8-4e4b-930a-b4e5ba581f2f",
   "metadata": {},
   "outputs": [],
   "source": [
    "# Without using third variable"
   ]
  },
  {
   "cell_type": "code",
   "execution_count": 15,
   "id": "fb247114-315d-4dfb-9dda-dffe5a816d11",
   "metadata": {},
   "outputs": [
    {
     "name": "stdin",
     "output_type": "stream",
     "text": [
      "Enter value of x: 2\n",
      "Enter value of  y: 3\n"
     ]
    },
    {
     "name": "stdout",
     "output_type": "stream",
     "text": [
      "The value of x is: 3\n",
      "The value of y is: 2\n"
     ]
    }
   ],
   "source": [
    "x = int(input(\"Enter value of x:\"))\n",
    "y = int(input(\"Enter value of  y:\"))\n",
    "\n",
    "x,y = y,x        # this is  simple logic here\n",
    "\n",
    "print(\"The value of x is:\",x)\n",
    "print(\"The value of y is:\",y)"
   ]
  },
  {
   "cell_type": "code",
   "execution_count": 7,
   "id": "67aad079",
   "metadata": {},
   "outputs": [],
   "source": [
    "# PP to check if number is even or odd"
   ]
  },
  {
   "cell_type": "code",
   "execution_count": 17,
   "id": "23dc3cb0-32d2-4230-81e5-735dc3dbafb5",
   "metadata": {},
   "outputs": [
    {
     "name": "stdin",
     "output_type": "stream",
     "text": [
      "Enter number here: 7\n"
     ]
    },
    {
     "name": "stdout",
     "output_type": "stream",
     "text": [
      "The num is ODD\n"
     ]
    }
   ],
   "source": [
    "num = int(input(\"Enter number here:\"))\n",
    "\n",
    "if num % 2 == 0:\n",
    "    print(\"The num is EVEN\")\n",
    "else:\n",
    "    print(\"The num is ODD\")"
   ]
  },
  {
   "cell_type": "code",
   "execution_count": 8,
   "id": "bd39ae78",
   "metadata": {},
   "outputs": [],
   "source": [
    "# pp to check if a number is positive or negative or zero"
   ]
  },
  {
   "cell_type": "code",
   "execution_count": 21,
   "id": "44e7ca79-e725-4d6d-a5d0-c541901adb58",
   "metadata": {},
   "outputs": [
    {
     "name": "stdin",
     "output_type": "stream",
     "text": [
      "Enter a number here: -1\n"
     ]
    },
    {
     "name": "stdout",
     "output_type": "stream",
     "text": [
      "Negative\n"
     ]
    }
   ],
   "source": [
    "num = int(input(\"Enter a number here:\"))\n",
    "\n",
    "if num > 0 :\n",
    "    print(\"Positive\")\n",
    "elif num == 0:\n",
    "    print(\"It is zero\")\n",
    "else:\n",
    "    print(\"Negative\")"
   ]
  },
  {
   "cell_type": "code",
   "execution_count": 9,
   "id": "29aaa291",
   "metadata": {},
   "outputs": [],
   "source": [
    "# PP to find the largest among three numbers"
   ]
  },
  {
   "cell_type": "code",
   "execution_count": 26,
   "id": "20f529b9-ba32-4b9d-86be-fc9a809a2853",
   "metadata": {},
   "outputs": [
    {
     "name": "stdin",
     "output_type": "stream",
     "text": [
      "Enter num1 here: 2\n",
      "Enter num2 here: 9\n",
      "Enter num3 here: 3\n"
     ]
    },
    {
     "name": "stdout",
     "output_type": "stream",
     "text": [
      "num2 is largest\n"
     ]
    }
   ],
   "source": [
    "num1 = int(input(\"Enter num1 here:\"))\n",
    "num2 = int(input(\"Enter num2 here:\"))\n",
    "num3 = int(input(\"Enter num3 here:\"))\n",
    "\n",
    "if num1>num2 and num1>num3:\n",
    "    print(\"num1 is largest\")\n",
    "elif num2>num1 and num2>num3:\n",
    "    print(\"num2 is largest\")\n",
    "else:\n",
    "    print(\"num3 is largest\")"
   ]
  },
  {
   "cell_type": "code",
   "execution_count": null,
   "id": "2ff731f1",
   "metadata": {},
   "outputs": [],
   "source": [
    "# PP to check leap year"
   ]
  },
  {
   "cell_type": "code",
   "execution_count": null,
   "id": "4eebf794-8ba8-4557-b53f-27ab6db311ae",
   "metadata": {},
   "outputs": [],
   "source": []
  },
  {
   "cell_type": "code",
   "execution_count": 11,
   "id": "ec0ab360",
   "metadata": {},
   "outputs": [],
   "source": [
    "# PP to generate a random number"
   ]
  },
  {
   "cell_type": "code",
   "execution_count": 10,
   "id": "243c5194-9992-48c8-9f51-33735c2443e1",
   "metadata": {},
   "outputs": [
    {
     "name": "stdout",
     "output_type": "stream",
     "text": [
      "3\n"
     ]
    }
   ],
   "source": [
    "import random\n",
    "num = random.randint(1,9)\n",
    "print(num)"
   ]
  },
  {
   "cell_type": "code",
   "execution_count": 9,
   "id": "83410e42",
   "metadata": {},
   "outputs": [],
   "source": [
    "# PP to print all prime numbers in an interval"
   ]
  },
  {
   "cell_type": "code",
   "execution_count": 16,
   "id": "3b37135d-966d-46b8-b5ef-20ac2dfd2d23",
   "metadata": {},
   "outputs": [
    {
     "name": "stdin",
     "output_type": "stream",
     "text": [
      "Enter lower number: 1\n",
      "Enter upper number: 20\n"
     ]
    },
    {
     "name": "stdout",
     "output_type": "stream",
     "text": [
      "2\n",
      "3\n",
      "5\n",
      "7\n",
      "11\n",
      "13\n",
      "17\n",
      "19\n"
     ]
    }
   ],
   "source": [
    "lower = int(input(\"Enter lower number:\"))\n",
    "upper = int(input(\"Enter upper number:\"))\n",
    "\n",
    "for num in range (lower,upper+1):\n",
    "    if num>1:\n",
    "        for i in range (2,num):\n",
    "            if num % i == 0:\n",
    "                break\n",
    "        else:\n",
    "            print(num)"
   ]
  },
  {
   "cell_type": "code",
   "execution_count": 13,
   "id": "73ac8a58",
   "metadata": {},
   "outputs": [],
   "source": [
    "# PP to check prime number"
   ]
  },
  {
   "cell_type": "code",
   "execution_count": null,
   "id": "e7e24e38-4130-49e8-a2b3-c2490e4ddb3c",
   "metadata": {},
   "outputs": [],
   "source": []
  },
  {
   "cell_type": "code",
   "execution_count": 14,
   "id": "796680a7",
   "metadata": {},
   "outputs": [],
   "source": [
    "# PP to convert celsius to fahrenheit"
   ]
  },
  {
   "cell_type": "code",
   "execution_count": null,
   "id": "d00c1cb3-3e99-4915-8210-8e536488b149",
   "metadata": {},
   "outputs": [],
   "source": []
  },
  {
   "cell_type": "code",
   "execution_count": 15,
   "id": "9916fef7",
   "metadata": {},
   "outputs": [],
   "source": [
    "# PP to display the multiplication table"
   ]
  },
  {
   "cell_type": "code",
   "execution_count": null,
   "id": "5e225f4f-c8d6-4411-b1cd-05ce328d7187",
   "metadata": {},
   "outputs": [],
   "source": []
  },
  {
   "cell_type": "code",
   "execution_count": 16,
   "id": "bebf0e92",
   "metadata": {},
   "outputs": [],
   "source": [
    "# PP to find factorial of a number"
   ]
  },
  {
   "cell_type": "code",
   "execution_count": null,
   "id": "9b3b31d4",
   "metadata": {},
   "outputs": [],
   "source": [
    "num = int(input(\"Enter num here:\"))  # 5\n",
    "fact = 1            # here we are going to multiply with this value \n",
    "                    # thats why I've taken 1 not 0 cause 0*something is 0\n",
    "    \n",
    "if num >= 1:        # cause negative numbers don't have \n",
    "                    #factorial value and factorial of 0 is 1 \n",
    "        \n",
    "    for i in range (1,num+1):   # 1 taken because it will start from one and will go on\n",
    "                                #(num+1) is taken because num means 5 so it will take num-1 a/c indexing of python\n",
    "        \n",
    "        fact = fact * i        # i le ke chal raha hai 1,2,3,4,5 etc\n",
    "                               # here is the logic   1*2\n",
    "#                                                    2*3\n",
    "#                                                    6*4\n",
    "#                                                    24*5\n",
    "#                                                    120 so the fact will 120\n",
    "    \n",
    "print(\"factorial of given num is:\",fact)"
   ]
  },
  {
   "cell_type": "code",
   "execution_count": 2,
   "id": "b5165c64-61aa-40c1-8c7d-851e610bd70b",
   "metadata": {},
   "outputs": [
    {
     "name": "stdout",
     "output_type": "stream",
     "text": [
      "Enter a number: -1\n",
      "The factorial of number does not exist\n",
      "Factorial of the given number is:  1\n"
     ]
    }
   ],
   "source": [
    "n = int(input(\"Enter a number: \"))\n",
    "factorial = 1\n",
    "if n >= 1:\n",
    "    for i in range(1, n+1):\n",
    "        factorial = factorial * i\n",
    "print(\"Factorial of the given number is: \", factorial)\n",
    "\n",
    "# Get a Number from the User: The program asks the user to type in a number. \n",
    "# This number is stored in a variable called num.\n",
    "\n",
    "# Initialize a Variable for the Result: Another variable named fact is set to 1. \n",
    "# This variable will hold the final result, which is the factorial of the number the user entered.\n",
    "\n",
    "# Check if the Number is Valid: If the number entered by the user is 1 or greater, \n",
    "# the program proceeds to calculate the factorial. Otherwise,\n",
    "# it stops because the factorial of a number less than 1 is 1.\n",
    "\n",
    "# # Calculate the Factorial: The program uses a loop to calculate the factorial. \n",
    "# It starts from 1 and goes up to the number entered by the user (num). With each iteration,\n",
    "# it multiplies the current value of fact by the current value of the loop counter i.\n",
    "\n",
    "# # Print the Result: After the loop finishes,\n",
    "# the program prints out the factorial of the number the user entered."
   ]
  },
  {
   "cell_type": "code",
   "execution_count": 3,
   "id": "ee8e89e4-b852-4cbd-93fb-0da47604ebf4",
   "metadata": {},
   "outputs": [
    {
     "name": "stdout",
     "output_type": "stream",
     "text": [
      "Enter num here:-5\n",
      "Factorial of negative number does not exist\n"
     ]
    }
   ],
   "source": [
    "num = int(input(\"Enter num here:\"))\n",
    "fact = 1\n",
    "\n",
    "if num<0:\n",
    "    print(\"Factorial of negative number does not exist\")\n",
    "elif num == 0:\n",
    "    print(\"Factorial of zero is:\",1)\n",
    "elif num >0:\n",
    "    for i in range(1,num+1):\n",
    "        fact = fact * i\n",
    "    print(\"The factorial of given num is:\",fact)"
   ]
  },
  {
   "cell_type": "code",
   "execution_count": 17,
   "id": "c5109a9e",
   "metadata": {},
   "outputs": [],
   "source": [
    "# PP to find factorial of a number using recursion \n",
    "\n",
    "# function calling itself in function (factorial fun is used inside factorial)"
   ]
  },
  {
   "cell_type": "code",
   "execution_count": 4,
   "id": "105b03a1-6327-4dc8-bfb9-c7e4827b13dc",
   "metadata": {},
   "outputs": [
    {
     "name": "stdout",
     "output_type": "stream",
     "text": [
      "The factorial of 5 is 120\n"
     ]
    }
   ],
   "source": [
    "def factorial(n):\n",
    "    if n == 0:\n",
    "        return 1\n",
    "    else:\n",
    "        return n * factorial(n-1)   #5*4!\n",
    "                                    #4*3!\n",
    "                                    #3*2!\n",
    "                                    #2*1!\n",
    "\n",
    "num = 5\n",
    "result = factorial(num)\n",
    "print(\"The factorial of\", num, \"is\", result)"
   ]
  },
  {
   "cell_type": "code",
   "execution_count": 28,
   "id": "95396862-a37f-45b4-b0ee-ef88047bd8e1",
   "metadata": {},
   "outputs": [
    {
     "name": "stdin",
     "output_type": "stream",
     "text": [
      "Enter num here: 5\n"
     ]
    },
    {
     "name": "stdout",
     "output_type": "stream",
     "text": [
      "The factorial of the given num is: 120\n"
     ]
    }
   ],
   "source": [
    "def fact(a):\n",
    "    if a == 0:\n",
    "        return 1\n",
    "    else:\n",
    "        return((a)*fact(a-1))\n",
    "        \n",
    "num = int(input(\"Enter num here:\"))\n",
    "\n",
    "result = fact(num)\n",
    "print(\"The factorial of the given num is:\",result)"
   ]
  },
  {
   "cell_type": "code",
   "execution_count": null,
   "id": "0be5d91e-ac9f-4141-aff6-e587a69828fa",
   "metadata": {},
   "outputs": [],
   "source": []
  },
  {
   "cell_type": "code",
   "execution_count": 18,
   "id": "2637e02d",
   "metadata": {},
   "outputs": [],
   "source": [
    "# PP to check armstrong number"
   ]
  },
  {
   "cell_type": "code",
   "execution_count": null,
   "id": "4fec2b45-058a-47c2-b1f7-3fd0f33e9c53",
   "metadata": {},
   "outputs": [],
   "source": []
  },
  {
   "cell_type": "code",
   "execution_count": 19,
   "id": "b6eda165",
   "metadata": {},
   "outputs": [],
   "source": [
    "# PP to find armstrong number in an interval"
   ]
  },
  {
   "cell_type": "code",
   "execution_count": null,
   "id": "1836df33-7bc1-4c98-8336-9da1c00639d7",
   "metadata": {},
   "outputs": [],
   "source": []
  },
  {
   "cell_type": "code",
   "execution_count": 20,
   "id": "cc830366",
   "metadata": {},
   "outputs": [],
   "source": [
    "# PP to print the fibonacci sequence"
   ]
  },
  {
   "cell_type": "code",
   "execution_count": 34,
   "id": "79d4bbda-2307-404a-b910-2586d55efaa6",
   "metadata": {},
   "outputs": [
    {
     "name": "stdin",
     "output_type": "stream",
     "text": [
      "Enter number here: 5\n"
     ]
    },
    {
     "name": "stdout",
     "output_type": "stream",
     "text": [
      "0\n",
      "1\n",
      "1\n",
      "2\n",
      "3\n",
      "5\n",
      "8\n"
     ]
    }
   ],
   "source": [
    "a = 0\n",
    "b = 1\n",
    "num = int(input(\"Enter number here:\"))\n",
    "if num  == 1:\n",
    "    print(a)\n",
    "else:\n",
    "    print(a)\n",
    "    print(b)\n",
    "    for i in range (1,num+1):\n",
    "        c = a+b\n",
    "        a = b\n",
    "        b = c \n",
    "        print(c)"
   ]
  },
  {
   "cell_type": "code",
   "execution_count": 21,
   "id": "6a86c44e",
   "metadata": {},
   "outputs": [],
   "source": [
    "# PP to print the fibonacci sequence using recursion"
   ]
  },
  {
   "cell_type": "code",
   "execution_count": 33,
   "id": "5feb7408-b78c-4fd2-a2e0-e4118a749595",
   "metadata": {},
   "outputs": [
    {
     "name": "stdin",
     "output_type": "stream",
     "text": [
      "Enter num here: 5\n"
     ]
    },
    {
     "name": "stdout",
     "output_type": "stream",
     "text": [
      "Fibonacci sequence\n",
      "0\n",
      "1\n",
      "1\n",
      "2\n",
      "3\n"
     ]
    }
   ],
   "source": [
    "def fibo(n):\n",
    "    if n <= 1:\n",
    "        return n\n",
    "    else:\n",
    "        return fibo(n-1) + fibo(n-2)\n",
    "\n",
    "n = int(input(\"Enter num here:\"))\n",
    "\n",
    "if n <= 0 :\n",
    "    print(\"enter a positive num\")\n",
    "else:\n",
    "    print(\"Fibonacci sequence\")\n",
    "    \n",
    "    for i in range (n):\n",
    "        print(fibo(i))"
   ]
  },
  {
   "cell_type": "code",
   "execution_count": 22,
   "id": "6ed5cb2b",
   "metadata": {},
   "outputs": [],
   "source": [
    "# PP to find sum of natural numbers"
   ]
  },
  {
   "cell_type": "code",
   "execution_count": null,
   "id": "f583d780-135d-4674-9956-9d7d7abf18b7",
   "metadata": {},
   "outputs": [],
   "source": []
  },
  {
   "cell_type": "code",
   "execution_count": null,
   "id": "b6f3379e",
   "metadata": {},
   "outputs": [],
   "source": [
    "# PP to find aum of natural numbers using recursion"
   ]
  },
  {
   "cell_type": "code",
   "execution_count": null,
   "id": "511ffc43-fd92-406a-b82e-d160574f615a",
   "metadata": {},
   "outputs": [],
   "source": []
  },
  {
   "cell_type": "code",
   "execution_count": null,
   "id": "824d7f30",
   "metadata": {},
   "outputs": [],
   "source": []
  },
  {
   "cell_type": "code",
   "execution_count": 27,
   "id": "af34a096",
   "metadata": {},
   "outputs": [
    {
     "name": "stdout",
     "output_type": "stream",
     "text": [
      "3\n",
      "2\n"
     ]
    }
   ],
   "source": [
    "# PP to swap two numbers\n",
    "\n",
    "x = 2\n",
    "y = 3\n",
    "\n",
    "x,y = y,x\n",
    "\n",
    "print(x)\n",
    "print(y)"
   ]
  },
  {
   "cell_type": "code",
   "execution_count": null,
   "id": "e44ef004",
   "metadata": {},
   "outputs": [],
   "source": []
  },
  {
   "cell_type": "code",
   "execution_count": null,
   "id": "86f1bc66",
   "metadata": {},
   "outputs": [],
   "source": []
  },
  {
   "cell_type": "code",
   "execution_count": null,
   "id": "e2b63453",
   "metadata": {},
   "outputs": [],
   "source": []
  },
  {
   "cell_type": "code",
   "execution_count": null,
   "id": "26dc83de",
   "metadata": {},
   "outputs": [],
   "source": []
  },
  {
   "cell_type": "markdown",
   "id": "066edb89",
   "metadata": {},
   "source": [
    "# PP to find sum of natural number using recursion"
   ]
  },
  {
   "cell_type": "code",
   "execution_count": 22,
   "id": "77dd6f6c",
   "metadata": {},
   "outputs": [
    {
     "name": "stdout",
     "output_type": "stream",
     "text": [
      "Enter a number:5\n",
      "The sum of natural number upto given number: 15\n"
     ]
    }
   ],
   "source": [
    "def NNS(n):\n",
    "    if n<=1:\n",
    "        return n\n",
    "    else:\n",
    "        return(n)+NNS(n-1)\n",
    "    \n",
    "n = int(input(\"Enter a number:\"))\n",
    "\n",
    "if n<=0:\n",
    "    print(\"enter a positive number\")\n",
    "else:\n",
    "    print(\"The sum of natural number upto given number:\",NNS(n))\n",
    "    \n",
    "        "
   ]
  },
  {
   "cell_type": "code",
   "execution_count": null,
   "id": "f8f8d2d0",
   "metadata": {},
   "outputs": [],
   "source": []
  },
  {
   "cell_type": "markdown",
   "id": "0bfdaa20",
   "metadata": {},
   "source": [
    "# PP to find numbers divisible by another number\n"
   ]
  },
  {
   "cell_type": "code",
   "execution_count": 29,
   "id": "3a55deed",
   "metadata": {},
   "outputs": [
    {
     "name": "stdout",
     "output_type": "stream",
     "text": [
      "The numbers divisible by 13 are :\n",
      "13\n",
      "26\n",
      "39\n",
      "52\n",
      "65\n",
      "78\n",
      "91\n"
     ]
    }
   ],
   "source": [
    "\n",
    "# soln using for loop\n",
    "\n",
    "print(\"The numbers divisible by 13 are :\")\n",
    "for i in range(1,100):\n",
    "    if i % 13 == 0:\n",
    "        print(i)"
   ]
  },
  {
   "cell_type": "code",
   "execution_count": 39,
   "id": "d10e63ca",
   "metadata": {},
   "outputs": [
    {
     "name": "stdout",
     "output_type": "stream",
     "text": [
      "[39, 26]\n"
     ]
    }
   ],
   "source": [
    "# soln by using lambda() & filter()\n",
    "\n",
    "l = [39,48,26,98,33,67,87]\n",
    "\n",
    "result = list(filter(lambda x : x % 13 == 0,l)) # filter here will give list otherwise it will not print list\n",
    "\n",
    "print(result)"
   ]
  },
  {
   "cell_type": "markdown",
   "id": "181f0aba",
   "metadata": {},
   "source": [
    "# PP to display powers of 2 using anonymous function or lambda function\n"
   ]
  },
  {
   "cell_type": "code",
   "execution_count": null,
   "id": "ef33379f",
   "metadata": {},
   "outputs": [],
   "source": [
    "# PP to display powers of 2 using anonymous function or lambda function\n",
    "# it is higher order function\n",
    "# it is temporary function\n",
    "# we don't need to define it it can works with statements too\n",
    "# saves the memory by using small line code\n",
    "# we use lambda when we need temporary functions\n"
   ]
  },
  {
   "cell_type": "code",
   "execution_count": 43,
   "id": "fc57ea38",
   "metadata": {},
   "outputs": [
    {
     "name": "stdout",
     "output_type": "stream",
     "text": [
      "enter the number of terms here: 5\n",
      "[1, 2, 4, 8, 16, 32]\n",
      "The value of 2 raised to power 0 is 1\n",
      "The value of 2 raised to power 1 is 2\n",
      "The value of 2 raised to power 2 is 4\n",
      "The value of 2 raised to power 3 is 8\n",
      "The value of 2 raised to power 4 is 16\n",
      "The value of 2 raised to power 5 is 32\n"
     ]
    }
   ],
   "source": [
    "nterms = int(input(\"enter the number of terms here: \"))\n",
    "result = list(map(lambda x : 2 ** x, range (nterms+1)))\n",
    "# print(result)\n",
    "\n",
    "for i in range(nterms+1):\n",
    "    print(\"The value of 2 raised to power\",i,\"is\",result[i])"
   ]
  },
  {
   "cell_type": "markdown",
   "id": "bad10298",
   "metadata": {},
   "source": [
    "# PP to find ASCII value of character\n",
    "# American Standard Code for Information Interchange\n"
   ]
  },
  {
   "cell_type": "code",
   "execution_count": 48,
   "id": "80e147ba",
   "metadata": {},
   "outputs": [
    {
     "name": "stdout",
     "output_type": "stream",
     "text": [
      "The ASCII value of A is 65\n"
     ]
    }
   ],
   "source": [
    "char = \"A\"\n",
    "print(\"The ASCII value of\",char,\"is\",ord(char))"
   ]
  },
  {
   "cell_type": "markdown",
   "id": "6edd0586",
   "metadata": {},
   "source": [
    "# PP to convert decimal to binary,octal,and hexadecimal\n"
   ]
  },
  {
   "cell_type": "code",
   "execution_count": 52,
   "id": "10c049ea",
   "metadata": {},
   "outputs": [
    {
     "name": "stdout",
     "output_type": "stream",
     "text": [
      "enter a number here:12\n",
      "The conversion of decimal number 12 is:\n",
      "0b1100 in binary\n",
      "0o14 in octal\n",
      "0xc in hexadecimal\n"
     ]
    }
   ],
   "source": [
    "decimal = int(input(\"enter a number here:\"))\n",
    "print(\"The conversion of decimal number\", decimal, \"is:\")\n",
    "print(bin(decimal),\"in binary\")\n",
    "print(oct(decimal), \"in octal\")\n",
    "print(hex(decimal),\"in hexadecimal\")\n"
   ]
  },
  {
   "cell_type": "markdown",
   "id": "273aaaac",
   "metadata": {},
   "source": [
    "# PP to convert decimal number into binary using recursion"
   ]
  },
  {
   "cell_type": "code",
   "execution_count": 55,
   "id": "5a10cbed",
   "metadata": {},
   "outputs": [
    {
     "name": "stdout",
     "output_type": "stream",
     "text": [
      "1111"
     ]
    }
   ],
   "source": [
    "def convertbinary(n):\n",
    "    if n > 1:\n",
    "        convertbinary(n//2)\n",
    "    print(n%2,end=\"\")\n",
    "    \n",
    "convertbinary(15)"
   ]
  },
  {
   "cell_type": "markdown",
   "id": "e2487df4",
   "metadata": {},
   "source": [
    "# PP to find the factors of a number"
   ]
  },
  {
   "cell_type": "code",
   "execution_count": 61,
   "id": "8728e04d",
   "metadata": {},
   "outputs": [
    {
     "name": "stdout",
     "output_type": "stream",
     "text": [
      "enter the nubmer here:300\n",
      "1\n",
      "2\n",
      "3\n",
      "4\n",
      "5\n",
      "6\n",
      "10\n",
      "12\n",
      "15\n",
      "20\n",
      "25\n",
      "30\n",
      "50\n",
      "60\n",
      "75\n",
      "100\n",
      "150\n",
      "300\n"
     ]
    }
   ],
   "source": [
    "num = int(input(\"enter the nubmer here:\"))\n",
    "for i in range(1,num+1):\n",
    "    if num % i == 0:\n",
    "        print(i)\n"
   ]
  },
  {
   "cell_type": "markdown",
   "id": "400677b5",
   "metadata": {},
   "source": [
    "# PP to find HCF(Highest common factor) or GCD(Greatest common diviser)"
   ]
  },
  {
   "cell_type": "code",
   "execution_count": 66,
   "id": "a829b9ad",
   "metadata": {},
   "outputs": [
    {
     "name": "stdout",
     "output_type": "stream",
     "text": [
      "the HCF of given two numbers is  6\n"
     ]
    }
   ],
   "source": [
    "def HCF(x,y):\n",
    "    if x>y:\n",
    "        smaller = y\n",
    "    else:\n",
    "        smaller = x\n",
    "    for i in range (1,smaller+1):\n",
    "        if ((x % i == 0) and (y% i == 0)):\n",
    "            hcf =i\n",
    "    return hcf\n",
    "\n",
    "print (\"the HCF of given two numbers is \",HCF(12,30))"
   ]
  },
  {
   "cell_type": "markdown",
   "id": "599c7e83",
   "metadata": {},
   "source": [
    "# PP to shuffle deck of cards"
   ]
  },
  {
   "cell_type": "code",
   "execution_count": 12,
   "id": "588aaf6c",
   "metadata": {},
   "outputs": [
    {
     "name": "stdout",
     "output_type": "stream",
     "text": [
      "[(1, 'Spade'), (1, 'Club'), (1, 'Heart'), (1, 'Diamond'), (2, 'Spade'), (2, 'Club'), (2, 'Heart'), (2, 'Diamond'), (3, 'Spade'), (3, 'Club'), (3, 'Heart'), (3, 'Diamond'), (4, 'Spade'), (4, 'Club'), (4, 'Heart'), (4, 'Diamond'), (5, 'Spade'), (5, 'Club'), (5, 'Heart'), (5, 'Diamond'), (6, 'Spade'), (6, 'Club'), (6, 'Heart'), (6, 'Diamond'), (7, 'Spade'), (7, 'Club'), (7, 'Heart'), (7, 'Diamond'), (8, 'Spade'), (8, 'Club'), (8, 'Heart'), (8, 'Diamond'), (9, 'Spade'), (9, 'Club'), (9, 'Heart'), (9, 'Diamond'), (10, 'Spade'), (10, 'Club'), (10, 'Heart'), (10, 'Diamond'), (11, 'Spade'), (11, 'Club'), (11, 'Heart'), (11, 'Diamond'), (12, 'Spade'), (12, 'Club'), (12, 'Heart'), (12, 'Diamond'), (13, 'Spade'), (13, 'Club'), (13, 'Heart'), (13, 'Diamond')]\n",
      "1 of Spade\n",
      "1 of Club\n",
      "1 of Heart\n",
      "1 of Diamond\n",
      "2 of Spade\n"
     ]
    }
   ],
   "source": [
    "import random, itertools\n",
    "deck = list(itertools.product(range(1,14),[\"Spade\",\"Club\",\"Heart\",\"Diamond\"]))\n",
    "print(deck)\n",
    "\n",
    "for i in range(5):\n",
    "    print(deck[i][0],\"of\", deck[i][1])\n",
    "     "
   ]
  },
  {
   "cell_type": "markdown",
   "id": "a9cc7497",
   "metadata": {},
   "source": [
    "# PP to make a simple calculator"
   ]
  },
  {
   "cell_type": "code",
   "execution_count": 21,
   "id": "eafebbab",
   "metadata": {},
   "outputs": [
    {
     "name": "stdout",
     "output_type": "stream",
     "text": [
      "******************** mini calculator ********************\n",
      "enter  first number here: 2\n",
      "enter  second number here: 3\n",
      "press 1 for addition \n",
      "press 2 for substration \n",
      "press 3 for multiplication \n",
      "press 4 for division\n",
      "Enter your choice from 1-4:1\n",
      "The addition of given two numbers 5.0\n"
     ]
    }
   ],
   "source": [
    "print (\"*\"*20,\"mini calculator\",\"*\"*20)\n",
    "num1 = float(input(\"enter  first number here: \"))\n",
    "num2 = float(input(\"enter  second number here: \"))\n",
    "print(\"press 1 for addition \\npress 2 for substration \\npress 3 for multiplication \\npress 4 for division\") \n",
    "\n",
    "\n",
    "choice = int(input(\"Enter your choice from 1-4:\"))\n",
    "if choice == 1:\n",
    "    print(\"The addition of given two numbers\",num1+num2)\n",
    "elif choice == 2:\n",
    "    print(\"The subtraction of given two numbers\",num1-num2)\n",
    "elif choice == 3:\n",
    "    print(\"The multiplication of given two numbers\",num1*num2)\n",
    "elif choice ==4:\n",
    "    print(\"The division of given two numbers\",num1/num2)\n",
    "else:\n",
    "    print(\"invalid input\")\n"
   ]
  },
  {
   "cell_type": "markdown",
   "id": "64247a84",
   "metadata": {},
   "source": [
    "# PP to display calender\n"
   ]
  },
  {
   "cell_type": "code",
   "execution_count": 3,
   "id": "9737f615",
   "metadata": {},
   "outputs": [
    {
     "name": "stdout",
     "output_type": "stream",
     "text": [
      "Enter year here:1993\n",
      "Enter month here:7\n",
      "<module 'calendar' from 'C:\\\\ProgramData\\\\anaconda3\\\\Lib\\\\calendar.py'>\n"
     ]
    }
   ],
   "source": [
    "import calendar \n",
    "year = int(input(\"Enter year here:\"))\n",
    "month = int(input(\"Enter month here:\"))\n",
    "calender = calendar.month(year,month)\n",
    "print(calendar)"
   ]
  },
  {
   "cell_type": "markdown",
   "id": "73e7eb0e",
   "metadata": {},
   "source": [
    "# PP to add two matrices"
   ]
  },
  {
   "cell_type": "code",
   "execution_count": 9,
   "id": "ce1b0009",
   "metadata": {},
   "outputs": [
    {
     "name": "stdout",
     "output_type": "stream",
     "text": [
      "[[5, 10, 14], [12, 15, 8], [10, 7, 9]]\n",
      "[5, 10, 14]\n",
      "[12, 15, 8]\n",
      "[10, 7, 9]\n"
     ]
    }
   ],
   "source": [
    "A = [[1,5,8],\n",
    "    [4,6,7],\n",
    "    [7,2,3]]\n",
    "\n",
    "B =[[4,5,6],\n",
    "    [8,9,1],\n",
    "    [3,5,6]]\n",
    "\n",
    "result =[[0,0,0],\n",
    "         [0,0,0],\n",
    "         [0,0,0]]\n",
    "\n",
    "\n",
    "for i in range (len(A)):\n",
    "    for j in range (len(A[0])):\n",
    "        result[i][j] = A[i][j] + B[i][j]\n",
    "        \n",
    "print(result) # print in matrix but in row form or in list form\n",
    "\n",
    "for r in result:\n",
    "    print(r)       # to print in one matrix form"
   ]
  },
  {
   "cell_type": "markdown",
   "id": "bbcddd13",
   "metadata": {},
   "source": [
    "# PP to multiply two matrices"
   ]
  },
  {
   "cell_type": "code",
   "execution_count": 14,
   "id": "0bc6058f",
   "metadata": {},
   "outputs": [
    {
     "name": "stdout",
     "output_type": "stream",
     "text": [
      "[[27, 15, 15, 8], [60, 36, 33, 20], [93, 57, 51, 32]]\n",
      "[27, 15, 15, 8]\n",
      "[60, 36, 33, 20]\n",
      "[93, 57, 51, 32]\n"
     ]
    }
   ],
   "source": [
    "A = [[1,2,3],\n",
    "     [4,5,6],\n",
    "     [7,8,9]]\n",
    "\n",
    "B = [[1,2,1,1],\n",
    "     [4,2,1,2],\n",
    "     [6,3,4,1]]\n",
    "\n",
    "result = [[0,0,0,0],\n",
    "         [0,0,0,0],\n",
    "         [0,0,0,0]]\n",
    "\n",
    "for i in range (len(A)):\n",
    "    for j in range (len(B[0])):\n",
    "        for k in range (len(B)):\n",
    "            result[i][j] += A[i][k] * B[k][j]\n",
    "            \n",
    "print(result)           ### result in list form\n",
    "\n",
    "for i in result:\n",
    "    print(i)         # result in matrix form\n",
    "\n",
    "                       "
   ]
  },
  {
   "cell_type": "markdown",
   "id": "dd5b77b1",
   "metadata": {},
   "source": [
    "# PP to transpose a matrix "
   ]
  },
  {
   "cell_type": "code",
   "execution_count": 20,
   "id": "fc82c1f1",
   "metadata": {},
   "outputs": [
    {
     "name": "stdout",
     "output_type": "stream",
     "text": [
      "[1, 4]\n",
      "[2, 5]\n",
      "[3, 6]\n"
     ]
    }
   ],
   "source": [
    "Soln 1 using for loop\n",
    "\n",
    "A = [[1,2,3],[4,5,6]]\n",
    "\n",
    "T = [[0,0],\n",
    "     [0,0],\n",
    "     [0,0]]\n",
    "\n",
    "for i in range (len(A)):\n",
    "    for j in range (len(A[0])):\n",
    "        T[j][i] = A[i][j] \n",
    "\n",
    "for i in T:\n",
    "    print(i)"
   ]
  },
  {
   "cell_type": "code",
   "execution_count": 23,
   "id": "c571b765",
   "metadata": {},
   "outputs": [
    {
     "name": "stdout",
     "output_type": "stream",
     "text": [
      "[[1, 4], [2, 5], [3, 6]]\n",
      "[1, 4]\n",
      "[2, 5]\n",
      "[3, 6]\n"
     ]
    }
   ],
   "source": [
    "# using list comprehension\n",
    "\n",
    "A = [[1,2,3],[4,5,6]]\n",
    "T = [[A[j][i] for j in range (len(A))] for i in range (len(A[0]))]\n",
    "\n",
    "print(T)\n",
    "\n",
    "for i in(T):\n",
    "    print(i)"
   ]
  },
  {
   "cell_type": "markdown",
   "id": "1a51770f",
   "metadata": {},
   "source": [
    "# STRING"
   ]
  },
  {
   "cell_type": "markdown",
   "id": "94a8ace0-63ff-419d-93ea-b84cd9c6fa76",
   "metadata": {},
   "source": [
    "# seperate number from string"
   ]
  },
  {
   "cell_type": "code",
   "execution_count": 5,
   "id": "82e6ab31-ad79-4d86-b091-07e84443c170",
   "metadata": {},
   "outputs": [
    {
     "name": "stdout",
     "output_type": "stream",
     "text": [
      "['60', '10']\n"
     ]
    }
   ],
   "source": [
    "# soln normal\n",
    "\n",
    "str = \"Nancy is 60 yrs old ,she wants 10 toffees\"\n",
    "num= []            # we have taken empty list here\n",
    "for word in str.split():      # here splitting of str\n",
    "    if word.isdigit():        # logic if digit     \n",
    "        num.append(word)     # here we are appending list\n",
    "print(num)                 # print that list"
   ]
  },
  {
   "cell_type": "markdown",
   "id": "a6d660ac-72ff-4ab2-9c4e-69fad4cc5ae5",
   "metadata": {},
   "source": []
  },
  {
   "cell_type": "markdown",
   "id": "be2d509b-4cb8-4d27-9727-ba92e54c60db",
   "metadata": {},
   "source": [
    "# [1, 2, 3, 'python' , 'java']\n",
    "# # Separate string and integer"
   ]
  },
  {
   "cell_type": "code",
   "execution_count": 49,
   "id": "8ec86505-25fb-4d56-82f5-ef8029a3714c",
   "metadata": {
    "scrolled": true
   },
   "outputs": [
    {
     "ename": "TypeError",
     "evalue": "isinstance() arg 2 must be a type, a tuple of types, or a union",
     "output_type": "error",
     "traceback": [
      "\u001b[1;31m---------------------------------------------------------------------------\u001b[0m",
      "\u001b[1;31mTypeError\u001b[0m                                 Traceback (most recent call last)",
      "Cell \u001b[1;32mIn[49], line 8\u001b[0m\n\u001b[0;32m      6\u001b[0m     \u001b[38;5;28;01mif\u001b[39;00m \u001b[38;5;28misinstance\u001b[39m(item, \u001b[38;5;28mint\u001b[39m):\n\u001b[0;32m      7\u001b[0m         integers\u001b[38;5;241m.\u001b[39mappend(item)\n\u001b[1;32m----> 8\u001b[0m     \u001b[38;5;28;01melif\u001b[39;00m \u001b[38;5;28misinstance\u001b[39m(item, \u001b[38;5;28mstr\u001b[39m):\n\u001b[0;32m      9\u001b[0m         strings\u001b[38;5;241m.\u001b[39mappend(item)\n\u001b[0;32m     11\u001b[0m \u001b[38;5;28mprint\u001b[39m(\u001b[38;5;124m\"\u001b[39m\u001b[38;5;124mIntegers:\u001b[39m\u001b[38;5;124m\"\u001b[39m, integers)\n",
      "\u001b[1;31mTypeError\u001b[0m: isinstance() arg 2 must be a type, a tuple of types, or a union"
     ]
    }
   ],
   "source": [
    "original_list = [1, 2, 3, 'python', 'java']\n",
    "integers = []\n",
    "strings = []\n",
    "\n",
    "for item in original_list:\n",
    "    if isinstance(item, int):\n",
    "        integers.append(item)\n",
    "    elif isinstance(item, str):\n",
    "        strings.append(item)\n",
    "\n",
    "print(\"Integers:\", integers)\n",
    "print(\"Strings:\", strings)"
   ]
  },
  {
   "cell_type": "code",
   "execution_count": null,
   "id": "0dbd0b97-b37d-47f5-a0c1-0fc78cb16eeb",
   "metadata": {},
   "outputs": [],
   "source": [
    "# if this problem comes at UR interview time do following"
   ]
  },
  {
   "cell_type": "code",
   "execution_count": 48,
   "id": "9525f2af-231a-449a-9f52-57030c59e3ee",
   "metadata": {},
   "outputs": [
    {
     "name": "stdout",
     "output_type": "stream",
     "text": [
      "[1, 2, 3]\n",
      "['python', 'java']\n"
     ]
    }
   ],
   "source": [
    "original_list = [1, 2, 3, 'python', 'java']\n",
    "\n",
    "integers = []\n",
    "strings = []\n",
    "\n",
    "for x in original_list:\n",
    "    if isinstance(x, int):\n",
    "        integers.append(x)\n",
    "    elif isinstance(x,type(str)):\n",
    "    \n",
    "        strings.append(x)\n",
    "        \n",
    "print(integers)        \n",
    "print(strings)"
   ]
  },
  {
   "cell_type": "code",
   "execution_count": 20,
   "id": "48eb191d-1253-4ad1-902a-82680fed7050",
   "metadata": {},
   "outputs": [],
   "source": [
    "# Using list comprehensions:"
   ]
  },
  {
   "cell_type": "code",
   "execution_count": 46,
   "id": "b3583e1e-1bdc-4d64-a3a0-174266547d16",
   "metadata": {},
   "outputs": [
    {
     "ename": "TypeError",
     "evalue": "isinstance() arg 2 must be a type, a tuple of types, or a union",
     "output_type": "error",
     "traceback": [
      "\u001b[1;31m---------------------------------------------------------------------------\u001b[0m",
      "\u001b[1;31mTypeError\u001b[0m                                 Traceback (most recent call last)",
      "Cell \u001b[1;32mIn[46], line 3\u001b[0m\n\u001b[0;32m      1\u001b[0m original_list \u001b[38;5;241m=\u001b[39m [\u001b[38;5;241m1\u001b[39m, \u001b[38;5;241m2\u001b[39m, \u001b[38;5;241m3\u001b[39m, \u001b[38;5;124m'\u001b[39m\u001b[38;5;124mpython\u001b[39m\u001b[38;5;124m'\u001b[39m, \u001b[38;5;124m'\u001b[39m\u001b[38;5;124mjava\u001b[39m\u001b[38;5;124m'\u001b[39m]\n\u001b[0;32m      2\u001b[0m integers \u001b[38;5;241m=\u001b[39m [x \u001b[38;5;28;01mfor\u001b[39;00m x \u001b[38;5;129;01min\u001b[39;00m original_list \u001b[38;5;28;01mif\u001b[39;00m \u001b[38;5;28misinstance\u001b[39m(x, \u001b[38;5;28mint\u001b[39m)]\n\u001b[1;32m----> 3\u001b[0m strings \u001b[38;5;241m=\u001b[39m [x \u001b[38;5;28;01mfor\u001b[39;00m x \u001b[38;5;129;01min\u001b[39;00m original_list \u001b[38;5;28;01mif\u001b[39;00m \u001b[38;5;28misinstance\u001b[39m(x, \u001b[38;5;28mstr\u001b[39m)]\n",
      "Cell \u001b[1;32mIn[46], line 3\u001b[0m, in \u001b[0;36m<listcomp>\u001b[1;34m(.0)\u001b[0m\n\u001b[0;32m      1\u001b[0m original_list \u001b[38;5;241m=\u001b[39m [\u001b[38;5;241m1\u001b[39m, \u001b[38;5;241m2\u001b[39m, \u001b[38;5;241m3\u001b[39m, \u001b[38;5;124m'\u001b[39m\u001b[38;5;124mpython\u001b[39m\u001b[38;5;124m'\u001b[39m, \u001b[38;5;124m'\u001b[39m\u001b[38;5;124mjava\u001b[39m\u001b[38;5;124m'\u001b[39m]\n\u001b[0;32m      2\u001b[0m integers \u001b[38;5;241m=\u001b[39m [x \u001b[38;5;28;01mfor\u001b[39;00m x \u001b[38;5;129;01min\u001b[39;00m original_list \u001b[38;5;28;01mif\u001b[39;00m \u001b[38;5;28misinstance\u001b[39m(x, \u001b[38;5;28mint\u001b[39m)]\n\u001b[1;32m----> 3\u001b[0m strings \u001b[38;5;241m=\u001b[39m [x \u001b[38;5;28;01mfor\u001b[39;00m x \u001b[38;5;129;01min\u001b[39;00m original_list \u001b[38;5;28;01mif\u001b[39;00m \u001b[38;5;28misinstance\u001b[39m(x, \u001b[38;5;28mstr\u001b[39m)]\n",
      "\u001b[1;31mTypeError\u001b[0m: isinstance() arg 2 must be a type, a tuple of types, or a union"
     ]
    }
   ],
   "source": [
    "original_list = [1, 2, 3, 'python', 'java']\n",
    "integers = [x for x in original_list if isinstance(x, int)]\n",
    "strings = [x for x in original_list if isinstance(x, str)]"
   ]
  },
  {
   "cell_type": "code",
   "execution_count": null,
   "id": "671fce93-ade0-44d0-a1c1-7fcf4a9eb3e3",
   "metadata": {},
   "outputs": [],
   "source": [
    "# if this problem comes at UR interview time do following"
   ]
  },
  {
   "cell_type": "code",
   "execution_count": 50,
   "id": "0829c960-fe67-4bc9-a870-0bf3214ee2d7",
   "metadata": {},
   "outputs": [
    {
     "name": "stdout",
     "output_type": "stream",
     "text": [
      "[1, 2, 3]\n",
      "['python', 'java']\n"
     ]
    }
   ],
   "source": [
    "original_list = [1, 2, 3, 'python', 'java']\n",
    "\n",
    "integers = [x for x in original_list if isinstance(x, int)]\n",
    "strings = [x for x in original_list if isinstance(x,type(str))]\n",
    "\n",
    "print(integers)\n",
    "print(strings)"
   ]
  },
  {
   "cell_type": "code",
   "execution_count": null,
   "id": "16a3fdc1-3d29-461e-8ef9-f8f37b68e1d0",
   "metadata": {},
   "outputs": [],
   "source": []
  },
  {
   "cell_type": "code",
   "execution_count": null,
   "id": "ff4e4acc-5b69-463b-b64f-742025db6cd1",
   "metadata": {},
   "outputs": [],
   "source": []
  },
  {
   "cell_type": "code",
   "execution_count": null,
   "id": "07f17b38-9cf5-49ab-84a3-1ab3af1bda00",
   "metadata": {},
   "outputs": [],
   "source": []
  },
  {
   "cell_type": "code",
   "execution_count": null,
   "id": "f6a2c4ba-c963-409b-b80d-73bcd7ff3ff5",
   "metadata": {},
   "outputs": [],
   "source": []
  },
  {
   "cell_type": "code",
   "execution_count": null,
   "id": "06396de5-387a-48d9-a220-84ec8ffaceb2",
   "metadata": {},
   "outputs": [],
   "source": []
  },
  {
   "cell_type": "markdown",
   "id": "775de998",
   "metadata": {},
   "source": [
    "# PP to check whether the string is palindrome or not"
   ]
  },
  {
   "cell_type": "code",
   "execution_count": 9,
   "id": "49566795",
   "metadata": {},
   "outputs": [
    {
     "name": "stdout",
     "output_type": "stream",
     "text": [
      "enter a word here: Jonathan\n",
      "It is not palindrome\n"
     ]
    }
   ],
   "source": [
    "a = input(\"enter a word here: \")\n",
    "rev = a [::-1]          # to reverse the str\n",
    "if a == rev:\n",
    "    print(\"it is palindrome\")\n",
    "else:\n",
    "    print(\"It is not palindrome\")"
   ]
  },
  {
   "cell_type": "markdown",
   "id": "d5ca247c",
   "metadata": {},
   "source": [
    "# PP to remove punctuations from string"
   ]
  },
  {
   "cell_type": "code",
   "execution_count": 13,
   "id": "de249323",
   "metadata": {},
   "outputs": [
    {
     "name": "stdout",
     "output_type": "stream",
     "text": [
      "Enter anything here:Hello!!! I'm vishal Maahire.\n",
      "Hello Im vishal Maahire\n"
     ]
    }
   ],
   "source": [
    "punc = \"\"\"!()-[]{};:'\"\\,.<>?/@#$%^&*_~`\"\"\"\n",
    "\n",
    "string = input(\"Enter anything here:\")\n",
    "\n",
    "empty_string = \"\"\n",
    "\n",
    "for i in string:\n",
    "    if i not in punc:\n",
    "        empty_string = empty_string + i \n",
    "\n",
    "print(empty_string)"
   ]
  },
  {
   "cell_type": "markdown",
   "id": "c1eaf9f0",
   "metadata": {},
   "source": [
    "# PP to check if a string is a number"
   ]
  },
  {
   "cell_type": "code",
   "execution_count": 6,
   "id": "3219a29c",
   "metadata": {},
   "outputs": [
    {
     "name": "stdout",
     "output_type": "stream",
     "text": [
      "Enter something here:he\n",
      "False\n"
     ]
    }
   ],
   "source": [
    "num = input(\"Enter something here:\")\n",
    "\n",
    "def check_float(num):\n",
    "    try:\n",
    "        float(num)\n",
    "        return True\n",
    "    except:\n",
    "        return False\n",
    "    \n",
    "print(check_float(num))"
   ]
  },
  {
   "cell_type": "markdown",
   "id": "7ab15e08",
   "metadata": {},
   "source": [
    "# PP to parse a string to a float or int"
   ]
  },
  {
   "cell_type": "code",
   "execution_count": 9,
   "id": "28026c2d",
   "metadata": {},
   "outputs": [],
   "source": [
    "# soln 1 parse string into integer"
   ]
  },
  {
   "cell_type": "code",
   "execution_count": 19,
   "id": "4ef7097d",
   "metadata": {},
   "outputs": [
    {
     "name": "stdout",
     "output_type": "stream",
     "text": [
      "<class 'str'>\n",
      "<class 'int'>\n"
     ]
    }
   ],
   "source": [
    "string = \"12345\"\n",
    "print(type(string))\n",
    "\n",
    "int_str = int(string)\n",
    "print(type(int_str))"
   ]
  },
  {
   "cell_type": "code",
   "execution_count": 20,
   "id": "a5f3c975",
   "metadata": {},
   "outputs": [],
   "source": [
    "# soln2 parse string into float"
   ]
  },
  {
   "cell_type": "code",
   "execution_count": 28,
   "id": "d5286763",
   "metadata": {},
   "outputs": [
    {
     "name": "stdout",
     "output_type": "stream",
     "text": [
      "<class 'str'>\n",
      "123.456\n",
      "<class 'float'>\n",
      "123.456\n"
     ]
    }
   ],
   "source": [
    "str = \"123.456\"\n",
    "print(type(str))\n",
    "print(str)\n",
    "float_str = float(str)\n",
    "print(type(float_str))\n",
    "\n",
    "print(float_str)"
   ]
  },
  {
   "cell_type": "code",
   "execution_count": 29,
   "id": "5ec99693",
   "metadata": {},
   "outputs": [],
   "source": [
    "# soln 3 parse string float numeral into integer"
   ]
  },
  {
   "cell_type": "code",
   "execution_count": 33,
   "id": "3b952b4b",
   "metadata": {},
   "outputs": [
    {
     "name": "stdout",
     "output_type": "stream",
     "text": [
      "<class 'str'>\n",
      "234.567\n",
      "<class 'int'>\n",
      "234\n"
     ]
    }
   ],
   "source": [
    "string = \"234.567\"\n",
    "print(type(string))\n",
    "print(string)\n",
    "\n",
    "str_float_int = int(float(string))\n",
    "print(type(str_float_int))\n",
    "print(str_float_int)\n"
   ]
  },
  {
   "cell_type": "markdown",
   "id": "ce1b6d0d",
   "metadata": {},
   "source": [
    "# How to check if a string is a valid keyword in python"
   ]
  },
  {
   "cell_type": "code",
   "execution_count": 37,
   "id": "c9c80499",
   "metadata": {},
   "outputs": [
    {
     "name": "stdout",
     "output_type": "stream",
     "text": [
      "break is a keyword in python\n",
      "john is not a keyword\n",
      "continue is a keyword in python\n",
      "while is a keyword in python\n",
      "lambda is a keyword in python\n",
      "False is a keyword in python\n",
      "global is a keyword in python\n",
      "Dimitri is not a keyword\n"
     ]
    }
   ],
   "source": [
    "import keyword\n",
    "words = [\"break\",\"john\",\"continue\",\"while\",\"lambda\",\"False\",\"global\",\"Dimitri\"]\n",
    "\n",
    "for i in range (len(words)):\n",
    "    if keyword.iskeyword(words[i]):\n",
    "        print(words[i], \"is a keyword in python\")\n",
    "    else:\n",
    "        print(words[i], \"is not a keyword\")"
   ]
  },
  {
   "cell_type": "code",
   "execution_count": 39,
   "id": "b1c02995",
   "metadata": {},
   "outputs": [
    {
     "name": "stdout",
     "output_type": "stream",
     "text": [
      "['False', 'None', 'True', 'and', 'as', 'assert', 'async', 'await', 'break', 'class', 'continue', 'def', 'del', 'elif', 'else', 'except', 'finally', 'for', 'from', 'global', 'if', 'import', 'in', 'is', 'lambda', 'nonlocal', 'not', 'or', 'pass', 'raise', 'return', 'try', 'while', 'with', 'yield']\n"
     ]
    }
   ],
   "source": [
    "import keyword\n",
    "print(keyword.kwlist)"
   ]
  },
  {
   "cell_type": "markdown",
   "id": "10b38823",
   "metadata": {},
   "source": [
    "# PP to get substring of a string "
   ]
  },
  {
   "cell_type": "code",
   "execution_count": 52,
   "id": "831998c8",
   "metadata": {},
   "outputs": [
    {
     "name": "stdout",
     "output_type": "stream",
     "text": [
      "Harry Potter\n",
      "Goblet of Fire\n",
      "Goblet\n",
      "HryPte n h olt\n"
     ]
    }
   ],
   "source": [
    "a = \"Harry Potter and The Goblet of Fire\"\n",
    "print(a[0:12])\n",
    "print(a[-14:])\n",
    "print(a[-14:-8])\n",
    "print(a[0:28:2])         #start : end : step or gap\n"
   ]
  },
  {
   "cell_type": "markdown",
   "id": "f1abb8c7",
   "metadata": {},
   "source": [
    "# PP to convert string to datetime"
   ]
  },
  {
   "cell_type": "code",
   "execution_count": 57,
   "id": "57621670",
   "metadata": {},
   "outputs": [
    {
     "name": "stdout",
     "output_type": "stream",
     "text": [
      "<class 'str'>\n",
      "1996-10-14 07:15:00\n",
      "<class 'datetime.datetime'>\n"
     ]
    }
   ],
   "source": [
    "# Using date time module\n",
    "\n",
    "from datetime import datetime\n",
    "date = \"Oct 14 1996 7:15AM\"\n",
    "print(type(date))\n",
    "date_time = datetime.strptime(date,\"%b %d %Y %I:%M%p\")\n",
    "print(date_time)\n",
    "print(type(date_time))"
   ]
  },
  {
   "cell_type": "code",
   "execution_count": 58,
   "id": "9946ef24",
   "metadata": {},
   "outputs": [
    {
     "name": "stdout",
     "output_type": "stream",
     "text": [
      "1996-10-14 07:15:00\n",
      "<class 'datetime.datetime'>\n"
     ]
    }
   ],
   "source": [
    "# using dateutil module\n",
    "\n",
    "from dateutil import parser \n",
    "date_time = parser.parse(\"Oct 14 1996 7:15AM\")\n",
    "print(date_time)\n",
    "print(type(date_time))"
   ]
  },
  {
   "cell_type": "markdown",
   "id": "a0dcff42",
   "metadata": {},
   "source": [
    "# PP to catch multiple exceptions in one line"
   ]
  },
  {
   "cell_type": "code",
   "execution_count": 61,
   "id": "8f7ad49d",
   "metadata": {},
   "outputs": [
    {
     "name": "stdout",
     "output_type": "stream",
     "text": [
      "enter something here:hello\n",
      "enter a number here:2\n",
      "can only concatenate str (not \"float\") to str\n"
     ]
    }
   ],
   "source": [
    "try:\n",
    "    string = input(\"enter something here:\")\n",
    "\n",
    "    num = float(input(\"enter a number here:\"))\n",
    "\n",
    "    print(string+num)\n",
    "except(ValueError,TypeError) as a:\n",
    "    print(a)"
   ]
  },
  {
   "cell_type": "code",
   "execution_count": 62,
   "id": "286cde94",
   "metadata": {},
   "outputs": [
    {
     "name": "stdout",
     "output_type": "stream",
     "text": [
      "enter something here:hello\n",
      "enter a number here:hello\n",
      "could not convert string to float: 'hello'\n"
     ]
    }
   ],
   "source": [
    "try:\n",
    "    string = input(\"enter something here:\")\n",
    "\n",
    "    num = float(input(\"enter a number here:\"))\n",
    "\n",
    "    print(string+num)\n",
    "except(ValueError,TypeError) as a:\n",
    "    print(a)"
   ]
  },
  {
   "cell_type": "markdown",
   "id": "c6992513",
   "metadata": {},
   "source": [
    "# PP to print output without a newline"
   ]
  },
  {
   "cell_type": "code",
   "execution_count": 64,
   "id": "9c5891c0",
   "metadata": {},
   "outputs": [
    {
     "name": "stdout",
     "output_type": "stream",
     "text": [
      "Harry Potter\n",
      "and the Goblet of Fire\n"
     ]
    }
   ],
   "source": [
    "print(\"Harry Potter\")\n",
    "print(\"and the Goblet of Fire\")"
   ]
  },
  {
   "cell_type": "code",
   "execution_count": 67,
   "id": "5e2b046e",
   "metadata": {},
   "outputs": [
    {
     "name": "stdout",
     "output_type": "stream",
     "text": [
      "Harry Potter and the Goblet of Fire\n"
     ]
    }
   ],
   "source": [
    "print(\"Harry Potter\",end =\" \")\n",
    "print(\"and the Goblet of Fire\")"
   ]
  },
  {
   "cell_type": "markdown",
   "id": "d6668555",
   "metadata": {},
   "source": [
    "# Python Iterators "
   ]
  },
  {
   "cell_type": "markdown",
   "id": "ba8745a2",
   "metadata": {},
   "source": [
    "# Python Iterators along with next function"
   ]
  },
  {
   "cell_type": "code",
   "execution_count": 70,
   "id": "e4efde26",
   "metadata": {},
   "outputs": [
    {
     "name": "stdout",
     "output_type": "stream",
     "text": [
      "1\n",
      "2\n",
      "3\n",
      "4\n",
      "5\n",
      "6\n",
      "7\n",
      "8\n",
      "9\n"
     ]
    }
   ],
   "source": [
    "nums = [1,2,3,4,5,6,7,8,9]\n",
    "for i in nums:\n",
    "    print(i)"
   ]
  },
  {
   "cell_type": "code",
   "execution_count": 74,
   "id": "9bec726c",
   "metadata": {},
   "outputs": [
    {
     "name": "stdout",
     "output_type": "stream",
     "text": [
      "1\n",
      "2\n"
     ]
    }
   ],
   "source": [
    "nums = [1,2,3,4,5,6,7,8,9]\n",
    "iterate = iter(nums)\n",
    "print(iterate.__next__())\n",
    "print(iterate.__next__())         # as many ypu will copy paste this line ans will follow\n"
   ]
  },
  {
   "cell_type": "code",
   "execution_count": 76,
   "id": "78ce5773",
   "metadata": {},
   "outputs": [
    {
     "name": "stdout",
     "output_type": "stream",
     "text": [
      "J\n",
      "o\n",
      "h\n",
      "n\n",
      "a\n",
      "t\n",
      "h\n",
      "a\n",
      "n\n"
     ]
    }
   ],
   "source": [
    "str = \"Johnathan\"\n",
    "for i in str:\n",
    "    print(i)"
   ]
  },
  {
   "cell_type": "code",
   "execution_count": 81,
   "id": "d6219410",
   "metadata": {},
   "outputs": [
    {
     "name": "stdout",
     "output_type": "stream",
     "text": [
      "J\n",
      "o\n",
      "h\n",
      "n\n"
     ]
    }
   ],
   "source": [
    "str = \"Johnathan\"\n",
    "iterate = iter(str)\n",
    "print(iterate.__next__())\n",
    "print(iterate.__next__())\n",
    "\n",
    "print(iterate.__next__())\n",
    "print(iterate.__next__())"
   ]
  },
  {
   "cell_type": "code",
   "execution_count": 83,
   "id": "0e06a2ff",
   "metadata": {},
   "outputs": [
    {
     "name": "stdout",
     "output_type": "stream",
     "text": [
      "J\n",
      "o\n",
      "h\n",
      "n\n"
     ]
    }
   ],
   "source": [
    "str = \"Johnathan\"\n",
    "iterate = iter(str)\n",
    "print(next(iterate))\n",
    "print(next(iterate))\n",
    "print(next(iterate))\n",
    "print(next(iterate))\n"
   ]
  },
  {
   "cell_type": "markdown",
   "id": "ce84d376",
   "metadata": {},
   "source": [
    "#  HERE WE CREATED OUR OWN ITERATOR   "
   ]
  },
  {
   "cell_type": "code",
   "execution_count": 85,
   "id": "0f011c84",
   "metadata": {},
   "outputs": [
    {
     "name": "stdout",
     "output_type": "stream",
     "text": [
      "1\n",
      "2\n",
      "3\n",
      "4\n",
      "5\n"
     ]
    }
   ],
   "source": [
    "class Fantastic_Five:             ########### HERE WE CREATED OUR OWN ITERATOR             \n",
    "    def __init__(self):\n",
    "        self.num = 1\n",
    "    def __iter__(self):\n",
    "        return self\n",
    "    def __next__(self):\n",
    "        if self.num<=5:\n",
    "            value = self.num\n",
    "            self.num += 1\n",
    "            return value\n",
    "        else:\n",
    "            raise StopIteration\n",
    "FF = Fantastic_Five()\n",
    "\n",
    "for i in FF:\n",
    "    print(i)"
   ]
  },
  {
   "cell_type": "markdown",
   "id": "e10d9268",
   "metadata": {},
   "source": [
    "# Python Generators"
   ]
  },
  {
   "cell_type": "code",
   "execution_count": null,
   "id": "a4a1a6eb",
   "metadata": {},
   "outputs": [],
   "source": [
    "# Iterators :\n",
    "#     iterators gives one by one function\n",
    "#     we've to use iter() and next()function\n",
    "\n",
    "    \n",
    "# Generators:\n",
    "#     no need for iter() and next() function\n",
    "#     it gives us functions by generating the function by one keyword that is yield \n",
    "\n",
    "\n",
    "# HERE NOTE TO REMEMBER: yield() function is there in generator which works like return() it gives(returns) us object. \n",
    "# it does not give value directly until and unless we use next() function with it. "
   ]
  },
  {
   "cell_type": "code",
   "execution_count": 21,
   "id": "4931d4ca",
   "metadata": {},
   "outputs": [
    {
     "name": "stdout",
     "output_type": "stream",
     "text": [
      "john\n"
     ]
    }
   ],
   "source": [
    "def my_gen():\n",
    "    yield \"john\"\n",
    "\n",
    "x = my_gen()\n",
    "print(x.__next__())\n",
    "    "
   ]
  },
  {
   "cell_type": "code",
   "execution_count": 22,
   "id": "ef789de7",
   "metadata": {},
   "outputs": [
    {
     "name": "stdout",
     "output_type": "stream",
     "text": [
      "666\n"
     ]
    }
   ],
   "source": [
    "def my_gen():\n",
    "    yield 666\n",
    "\n",
    "x = my_gen()\n",
    "print(x.__next__())\n",
    "    "
   ]
  },
  {
   "cell_type": "code",
   "execution_count": 23,
   "id": "393fcc96",
   "metadata": {},
   "outputs": [
    {
     "name": "stdout",
     "output_type": "stream",
     "text": [
      "666\n"
     ]
    }
   ],
   "source": [
    "# use of return             IT IS SIMPLE FUNCTION\n",
    "\n",
    "def my_gen():      \n",
    "    return 666\n",
    "\n",
    "x = my_gen()\n",
    "print(x)"
   ]
  },
  {
   "cell_type": "code",
   "execution_count": 25,
   "id": "c2f20a86",
   "metadata": {},
   "outputs": [
    {
     "name": "stdout",
     "output_type": "stream",
     "text": [
      "<generator object my_gen at 0x00000203FC36E770>\n"
     ]
    }
   ],
   "source": [
    "def my_gen():      \n",
    "   yield 666\n",
    "\n",
    "x = my_gen()\n",
    "print(x)              # It will  return object not value     remember  you must use __next__() in generator "
   ]
  },
  {
   "cell_type": "code",
   "execution_count": 27,
   "id": "b8edd01c",
   "metadata": {},
   "outputs": [
    {
     "name": "stdout",
     "output_type": "stream",
     "text": [
      "john\n",
      "666\n"
     ]
    }
   ],
   "source": [
    "def my_gen():\n",
    "    yield \"john\"\n",
    "    yield 666\n",
    "x = my_gen()\n",
    "print(x.__next__())\n",
    "print(x.__next__())"
   ]
  },
  {
   "cell_type": "code",
   "execution_count": 37,
   "id": "555063bd",
   "metadata": {},
   "outputs": [
    {
     "name": "stdout",
     "output_type": "stream",
     "text": [
      "0\n",
      "2\n",
      "4\n",
      "6\n",
      "8\n",
      "10\n",
      "12\n",
      "14\n"
     ]
    }
   ],
   "source": [
    "def Gen(n):                      # defined generator here                   # here n is args(argument)\n",
    "    a = 0                        # a taken as 0 then we will increment this\n",
    "    while a<n:                   # if a is less than n\n",
    "        if a % 2 == 0:           # a  is divisible by 2 gives remender 0 \n",
    "            yield a              # return a\n",
    "        \n",
    "        a += 1                   # to increment a by one digit\n",
    "        \n",
    "x = Gen(16)                      # 15 is parameter\n",
    "\n",
    "for i in x:                   # here I am using for loop to increment the vlaue of i in x so \n",
    "     print(i)                 #value will go upto 16(one less than 16 that's why it is not showing 16 in it) as I given in x\n",
    "                            # no need of next() function as I used for loop"
   ]
  },
  {
   "cell_type": "code",
   "execution_count": 40,
   "id": "9b4c4353",
   "metadata": {},
   "outputs": [
    {
     "name": "stdout",
     "output_type": "stream",
     "text": [
      "0\n",
      "2\n",
      "4\n",
      "6\n",
      "8\n"
     ]
    }
   ],
   "source": [
    "def Gen(n):                      # defined generator here                   # here n is args(argument)\n",
    "    a = 0                        # a taken as 0 then we will increment this\n",
    "    while a<n:                   # if a is less than n\n",
    "        if a % 2 == 0:           # a  is divisible by 2 gives remender 0 \n",
    "            yield a              # return a\n",
    "        \n",
    "        a += 1                   # to increment a by one digit\n",
    "        \n",
    "x = Gen(16)                      # 15 is parameter\n",
    "\n",
    "print(x.__next__())\n",
    "print(x.__next__())                # here is need of next() function as I've not used for loop\n",
    "print(x.__next__())         \n",
    "print(next(x))                     # here I can use next like this too.\n",
    "print(next(x))"
   ]
  },
  {
   "cell_type": "markdown",
   "id": "7551337f",
   "metadata": {},
   "source": [
    "# Fibonacci sequence by generator"
   ]
  },
  {
   "cell_type": "code",
   "execution_count": 46,
   "id": "6b8adcf1",
   "metadata": {},
   "outputs": [
    {
     "name": "stdout",
     "output_type": "stream",
     "text": [
      "0\n",
      "1\n",
      "1\n",
      "2\n",
      "3\n",
      "5\n",
      "8\n"
     ]
    }
   ],
   "source": [
    "def fibo(n):\n",
    "    a,b = 0,1\n",
    "    \n",
    "    while a<n:\n",
    "        yield a\n",
    "        a,b = b,b+a\n",
    "        \n",
    "x = fibo(10)\n",
    "print(next(x))\n",
    "print(next(x))\n",
    "print(next(x))\n",
    "print(next(x))\n",
    "print(next(x))\n",
    "print(next(x))\n",
    "print(next(x))\n",
    "    "
   ]
  },
  {
   "cell_type": "code",
   "execution_count": 45,
   "id": "22e4e863",
   "metadata": {},
   "outputs": [
    {
     "name": "stdout",
     "output_type": "stream",
     "text": [
      "0\n",
      "1\n",
      "1\n",
      "2\n",
      "3\n",
      "5\n",
      "8\n"
     ]
    }
   ],
   "source": [
    "def fibo(n):\n",
    "    a,b = 0,1\n",
    "    \n",
    "    while a<n:\n",
    "        yield a\n",
    "        a,b = b,b+a\n",
    "        \n",
    "x = fibo(10)\n",
    "\n",
    "for i in x:\n",
    "    print(i)\n"
   ]
  },
  {
   "cell_type": "markdown",
   "id": "30dce6bb",
   "metadata": {},
   "source": [
    "# Taking multiple inputs from user"
   ]
  },
  {
   "cell_type": "code",
   "execution_count": 53,
   "id": "a5c11842",
   "metadata": {},
   "outputs": [
    {
     "name": "stdout",
     "output_type": "stream",
     "text": [
      "Enter a num here:2\n",
      "Enter a num here:3\n",
      "Enter a num here:4\n",
      "The value of a is: 2\n",
      "The value of b is: 3\n",
      "4\n"
     ]
    }
   ],
   "source": [
    "a = input(\"Enter a num here:\")\n",
    "b = input(\"Enter a num here:\")\n",
    "c = input(\"Enter a num here:\")\n",
    "print(\"The value of a is:\",a)\n",
    "print(\"The value of b is:\",b)\n",
    "print(c)"
   ]
  },
  {
   "cell_type": "code",
   "execution_count": 59,
   "id": "2a5e9d39",
   "metadata": {},
   "outputs": [
    {
     "name": "stdout",
     "output_type": "stream",
     "text": [
      "Enter three numbers here:1 2 3 \n",
      "the value of a is: 1\n",
      "the value of b is: 2\n",
      "the value of c is: 3\n"
     ]
    }
   ],
   "source": [
    "a,b,c = input(\"Enter three numbers here:\").split()\n",
    "print(\"the value of a is:\",a)\n",
    "print(\"the value of b is:\",b)\n",
    "print(\"the value of c is:\",c)"
   ]
  },
  {
   "cell_type": "code",
   "execution_count": 61,
   "id": "9aa671e0",
   "metadata": {},
   "outputs": [
    {
     "name": "stdout",
     "output_type": "stream",
     "text": [
      "Enter three numbers here:1,2,3\n",
      "the value of a is: 1\n",
      "the value of b is: 2\n",
      "the value of c is: 3\n"
     ]
    }
   ],
   "source": [
    "a,b,c = input(\"Enter three numbers here:\").split(\",\")\n",
    "print(\"the value of a is:\",a)\n",
    "print(\"the value of b is:\",b)\n",
    "print(\"the value of c is:\",c)"
   ]
  },
  {
   "cell_type": "code",
   "execution_count": 64,
   "id": "921ad807",
   "metadata": {},
   "outputs": [
    {
     "name": "stdout",
     "output_type": "stream",
     "text": [
      "Enter three names here:john,jaani,janardan\n",
      "the value of a is: john\n",
      "the value of b is: jaani\n",
      "the value of c is: janardan\n"
     ]
    }
   ],
   "source": [
    "a,b,c = input(\"Enter three names here:\").split(\",\")\n",
    "print(\"the value of a is:\",a)\n",
    "print(\"the value of b is:\",b)\n",
    "print(\"the value of c is:\",c)"
   ]
  },
  {
   "cell_type": "code",
   "execution_count": 66,
   "id": "b445a2f7",
   "metadata": {},
   "outputs": [
    {
     "name": "stdout",
     "output_type": "stream",
     "text": [
      "Enter three numbers here:1,2,3\n",
      "the addition of three nums is:\n",
      "6\n"
     ]
    }
   ],
   "source": [
    "a,b,c = input(\"Enter three numbers here:\").split(\",\")\n",
    "print(\"the addition of three nums is:\")\n",
    "print(int(a)+int(b)+int(c))\n"
   ]
  },
  {
   "cell_type": "markdown",
   "id": "c30c865a",
   "metadata": {},
   "source": [
    "# using list comprehension"
   ]
  },
  {
   "cell_type": "code",
   "execution_count": 68,
   "id": "5db0e160",
   "metadata": {},
   "outputs": [
    {
     "name": "stdout",
     "output_type": "stream",
     "text": [
      "enter three values here:3 4 5\n",
      "3\n",
      "4\n",
      "5\n"
     ]
    }
   ],
   "source": [
    "a,b,c = [int(x) for x in input(\"enter three values here:\").split()] \n",
    "\n",
    "print(a)\n",
    "print(b)\n",
    "print(c)\n"
   ]
  },
  {
   "cell_type": "code",
   "execution_count": 70,
   "id": "0bb7df09",
   "metadata": {},
   "outputs": [
    {
     "name": "stdout",
     "output_type": "stream",
     "text": [
      "enter three values here:2,3,4\n",
      "the addition of three nums is:\n",
      "9\n"
     ]
    }
   ],
   "source": [
    "a,b,c = [int(x) for x in input(\"enter three values here:\").split(\",\")] \n",
    "print(\"the addition of three nums is:\")\n",
    "print(int(a)+int(b)+int(c))"
   ]
  },
  {
   "cell_type": "markdown",
   "id": "78c9d484",
   "metadata": {},
   "source": [
    "# PP to sort words in alphabetical orders\n"
   ]
  },
  {
   "cell_type": "code",
   "execution_count": 31,
   "id": "dd3cf6e8",
   "metadata": {
    "scrolled": true
   },
   "outputs": [
    {
     "name": "stdout",
     "output_type": "stream",
     "text": [
      "['harry', 'potter', 'and', 'the', 'goblet', 'of', 'fire']\n",
      "['and', 'fire', 'goblet', 'harry', 'of', 'potter', 'the']\n",
      "and\n",
      "fire\n",
      "goblet\n",
      "harry\n",
      "of\n",
      "potter\n",
      "the\n"
     ]
    }
   ],
   "source": [
    "a = \"Harry Potter And The Goblet Of Fire\"\n",
    "w = a.split()\n",
    "\n",
    "for i in range (len(w)):  #it will iterate the word and will lower its letters  \n",
    "    w[i] = w[i].lower() \n",
    "\n",
    "    \n",
    "print(w)            #for lower print\n",
    "\n",
    "\n",
    "w.sort()\n",
    "print(w)      # for sorting alphabetically\n",
    "\n",
    "for i in w:\n",
    "    print(i)  # for one word in one line"
   ]
  },
  {
   "cell_type": "markdown",
   "id": "af24762e",
   "metadata": {},
   "source": [
    "# PP to count number of each vowel"
   ]
  },
  {
   "cell_type": "code",
   "execution_count": 36,
   "id": "dcf3b2a4",
   "metadata": {},
   "outputs": [
    {
     "name": "stdout",
     "output_type": "stream",
     "text": [
      "the shawshank redemption\n",
      "{'a': 2, 'e': 3, 'i': 1, 'o': 1, 'u': 0}\n"
     ]
    }
   ],
   "source": [
    "# Soln : Using dictionary\n",
    "\n",
    "A = \"The Shawshank Redemption\"\n",
    "\n",
    "vowels = \"aeiou\"\n",
    "\n",
    "A = A.casefold()   # to make all the letters small\n",
    "print(A)\n",
    "\n",
    "count = {}.fromkeys(vowels,0)       # it will create dict\n",
    "\n",
    "for char in A:                       \n",
    "    if char in count:                \n",
    "        count[char] += 1                   ## to iterate for next char\n",
    "        \n",
    "print(count)\n"
   ]
  },
  {
   "cell_type": "code",
   "execution_count": 39,
   "id": "00091c15",
   "metadata": {
    "scrolled": true
   },
   "outputs": [
    {
     "name": "stdout",
     "output_type": "stream",
     "text": [
      "charlie and the chocolate factory\n",
      "{'a': 4, 'e': 3, 'i': 1, 'o': 3, 'u': 0}\n"
     ]
    }
   ],
   "source": [
    "# Using list and dictionary comprehension\n",
    "\n",
    "a = \"Charlie and The Chocolate Factory\"\n",
    "vowels = \"aeiou\"\n",
    "a = a.casefold()\n",
    "print(a)\n",
    "\n",
    "count = {key:sum([1 for char in a if char == key])for key in vowels}   # here key is vowels \n",
    "print(count)"
   ]
  },
  {
   "cell_type": "markdown",
   "id": "2e0fc152",
   "metadata": {},
   "source": [
    "# PP to safely create a Nested directory\n"
   ]
  },
  {
   "cell_type": "code",
   "execution_count": 2,
   "id": "2b69cedf",
   "metadata": {},
   "outputs": [],
   "source": [
    "from pathlib import Path\n",
    "Path(\"C:/Users/Admin/Desktop/new_dir/demo_dir\").mkdir(parents = True,exist_ok = True)"
   ]
  },
  {
   "cell_type": "markdown",
   "id": "30e768de",
   "metadata": {},
   "source": [
    "# DICTIONARY"
   ]
  },
  {
   "cell_type": "markdown",
   "id": "2edac12f",
   "metadata": {},
   "source": [
    "# PP to merge two dictionaries"
   ]
  },
  {
   "cell_type": "code",
   "execution_count": 50,
   "id": "c8b14c03",
   "metadata": {},
   "outputs": [
    {
     "name": "stdout",
     "output_type": "stream",
     "text": [
      "{'John': 96, 'lisa': 94, 'peter': 89}\n"
     ]
    }
   ],
   "source": [
    "# soln using | (bar) operator\n",
    "\n",
    "\n",
    "dict1 = {\"John\":96,\"lisa\":99}\n",
    "\n",
    "dict2 = {\"lisa\":94,\"peter\":89}\n",
    "\n",
    "print (dict1 | dict2)"
   ]
  },
  {
   "cell_type": "code",
   "execution_count": 53,
   "id": "8476ab96",
   "metadata": {},
   "outputs": [
    {
     "name": "stdout",
     "output_type": "stream",
     "text": [
      "{'John': 96, 'lisa': 94, 'peter': 89}\n"
     ]
    }
   ],
   "source": [
    "#soln using ** operator (kwargs)\n",
    "\n",
    "dict1 = {\"John\":96,\"lisa\":99}\n",
    "\n",
    "dict2 = {\"lisa\":94,\"peter\":89}\n",
    "\n",
    "print({**dict1,**dict2})"
   ]
  },
  {
   "cell_type": "code",
   "execution_count": 57,
   "id": "bec45143",
   "metadata": {},
   "outputs": [
    {
     "name": "stdout",
     "output_type": "stream",
     "text": [
      "{'lisa': 99, 'peter': 89, 'John': 96}\n"
     ]
    }
   ],
   "source": [
    "# soln using copy() and update() method\n",
    "\n",
    "dict1 = {\"John\":96,\"lisa\":99}\n",
    "\n",
    "dict2 = {\"lisa\":94,\"peter\":89}\n",
    "\n",
    "dict3 = dict2.copy()\n",
    "dict3.update(dict1)\n",
    "\n",
    "print(dict3)"
   ]
  },
  {
   "cell_type": "markdown",
   "id": "dad80d16",
   "metadata": {},
   "source": [
    "# PP to sort a dict by value\n"
   ]
  },
  {
   "cell_type": "code",
   "execution_count": null,
   "id": "0c757eb9",
   "metadata": {},
   "outputs": [],
   "source": [
    "# soln : sort the dict based on values\n",
    "\n",
    "marks = {\"John\":98,\"Lisa\":88,\"Peter\":68}\n",
    "\n",
    "sorted_values = sorted(marks.items(), key = lambda x : x [1])\n",
    "\n",
    "print(sorted_values)"
   ]
  },
  {
   "cell_type": "code",
   "execution_count": 61,
   "id": "27611b33",
   "metadata": {},
   "outputs": [
    {
     "name": "stdout",
     "output_type": "stream",
     "text": [
      "[68, 88, 98]\n"
     ]
    }
   ],
   "source": [
    "# soln sort only the values\n",
    "\n",
    "marks = {\"John\":98,\"Lisa\":88,\"Peter\":68}\n",
    "\n",
    "v = sorted(marks.values())\n",
    "print(v)"
   ]
  },
  {
   "cell_type": "markdown",
   "id": "9f3d5090",
   "metadata": {},
   "source": [
    "# PP to delete an element from dict"
   ]
  },
  {
   "cell_type": "code",
   "execution_count": 66,
   "id": "cf1015f7",
   "metadata": {},
   "outputs": [
    {
     "name": "stdout",
     "output_type": "stream",
     "text": [
      "{'John': 98, 'Lisa': 88, 'Peter': 68, 'Rahul': 56}\n",
      "{'Lisa': 88, 'Peter': 68, 'Rahul': 56}\n"
     ]
    }
   ],
   "source": [
    "# Soln 1\n",
    "# using del statement\n",
    "\n",
    "marks = {\"John\":98,\"Lisa\":88,\"Peter\":68,\"Rahul\":56}\n",
    "print(marks)\n",
    "\n",
    "del marks[\"John\"]\n",
    "print(marks)\n"
   ]
  },
  {
   "cell_type": "code",
   "execution_count": 68,
   "id": "eac9cfb5",
   "metadata": {},
   "outputs": [
    {
     "name": "stdout",
     "output_type": "stream",
     "text": [
      "{'John': 98, 'Lisa': 88, 'Rahul': 56}\n"
     ]
    }
   ],
   "source": [
    "# Soln 2 using pop() function\n",
    "\n",
    "marks = {\"John\":98,\"Lisa\":88,\"Peter\":68,\"Rahul\":56}\n",
    "pop_item = marks.pop(\"Peter\")\n",
    "print(marks)"
   ]
  },
  {
   "cell_type": "markdown",
   "id": "1a4cbac2",
   "metadata": {},
   "source": [
    "# PP to check if a key is already present in a dict\n",
    "\n"
   ]
  },
  {
   "cell_type": "code",
   "execution_count": 5,
   "id": "884510d5",
   "metadata": {},
   "outputs": [
    {
     "name": "stdout",
     "output_type": "stream",
     "text": [
      "Enter a key here:Ross\n",
      "It is present\n"
     ]
    }
   ],
   "source": [
    "# check if a list is empty\n",
    "\n",
    "friends = {\"Chandler\":\"Monica\",\"Ross\":\"Rachael\",\"Joey\":\"Phoebe\"}\n",
    "\n",
    "name = input(\"Enter a key here:\")\n",
    "\n",
    "if name in friends.keys():\n",
    "    print(\"It is present\")\n",
    "\n"
   ]
  },
  {
   "cell_type": "markdown",
   "id": "2c5e00e2",
   "metadata": {},
   "source": [
    "# PP to iterate over dictionaries using for loop"
   ]
  },
  {
   "cell_type": "code",
   "execution_count": 14,
   "id": "90e8c71d",
   "metadata": {},
   "outputs": [
    {
     "name": "stdout",
     "output_type": "stream",
     "text": [
      "{'Chandler': 'Monica', 'Ross': 'Rachael', 'Joey': 'Phoebe'}\n",
      "Chandler - Monica\n",
      "Ross - Rachael\n",
      "Joey - Phoebe\n"
     ]
    }
   ],
   "source": [
    "# Soln : dict using for loop\n",
    "    \n",
    "friends = {\"Chandler\":\"Monica\",\"Ross\":\"Rachael\",\"Joey\":\"Phoebe\"}  \n",
    "print(friends)\n",
    "\n",
    "\n",
    "# soln 1 with .items\n",
    "\n",
    "\n",
    "for key,value in friends.items():\n",
    "    print(key,\"-\",value)\n"
   ]
  },
  {
   "cell_type": "code",
   "execution_count": 18,
   "id": "f0c57ea1",
   "metadata": {},
   "outputs": [
    {
     "name": "stdout",
     "output_type": "stream",
     "text": [
      "Chandler : Monica\n",
      "Ross : Rachael\n",
      "Joey : Phoebe\n"
     ]
    }
   ],
   "source": [
    "# soln 2 with keys\n",
    "for key in friends:\n",
    "    print(key,\":\", friends[key])\n"
   ]
  },
  {
   "cell_type": "code",
   "execution_count": 22,
   "id": "e81414fc",
   "metadata": {},
   "outputs": [
    {
     "name": "stdout",
     "output_type": "stream",
     "text": [
      "Chandler\n",
      "Ross\n",
      "Joey\n",
      "Monica\n",
      "Rachael\n",
      "Phoebe\n"
     ]
    }
   ],
   "source": [
    "# soln 3 with keys and values\n",
    "\n",
    "for v in friends.keys():\n",
    "    print(v)\n",
    "    \n",
    "for i in friends.values():\n",
    "    print(i)"
   ]
  },
  {
   "cell_type": "markdown",
   "id": "80690917",
   "metadata": {},
   "source": [
    "# LIST\n",
    "\n",
    "# PP list comprehension\n"
   ]
  },
  {
   "cell_type": "code",
   "execution_count": 24,
   "id": "9ee4faaf",
   "metadata": {},
   "outputs": [
    {
     "name": "stdout",
     "output_type": "stream",
     "text": [
      "ironman\n",
      "hulk\n",
      "vision\n",
      "thor\n",
      "loki\n",
      "thanos\n"
     ]
    }
   ],
   "source": [
    "a = [\"Ironman\",\"Hulk\",\"Vision\",\"Thor\",\"Loki\",'Thanos']\n",
    "\n",
    "for i in a :\n",
    "    print(i.lower())      # upper()\n"
   ]
  },
  {
   "cell_type": "code",
   "execution_count": 1,
   "id": "197b87e6",
   "metadata": {},
   "outputs": [
    {
     "name": "stdout",
     "output_type": "stream",
     "text": [
      "['IRONMAN', 'HULK', 'VISION', 'THOR', 'LOKI', 'THANOS']\n"
     ]
    }
   ],
   "source": [
    "a = [\"Ironman\",\"Hulk\",\"Vision\",\"Thor\",\"Loki\",'Thanos']\n",
    "new_list = [i.upper() for i in a ]\n",
    "print(new_list)"
   ]
  },
  {
   "cell_type": "code",
   "execution_count": 4,
   "id": "d1c45e8f",
   "metadata": {},
   "outputs": [
    {
     "name": "stdout",
     "output_type": "stream",
     "text": [
      "[0, 1, 2, 3, 4, 5, 6, 7, 8, 9]\n"
     ]
    }
   ],
   "source": [
    "m = [i for i in range(10)]\n",
    "print(m)"
   ]
  },
  {
   "cell_type": "code",
   "execution_count": 10,
   "id": "dbd4a9ff",
   "metadata": {},
   "outputs": [
    {
     "name": "stdout",
     "output_type": "stream",
     "text": [
      "[2, 4, 6, 8]\n",
      "[0, 2, 4, 6, 8]\n"
     ]
    }
   ],
   "source": [
    "k = [1,2,3,4,5,6,7,8,9]\n",
    "\n",
    "new_list = []\n",
    "for i in k :\n",
    "    if i % 2 == 0:\n",
    "        new_list.append(i)\n",
    "print(new_list)\n",
    "\n",
    "# or\n",
    "\n",
    "m = [i for i in range(10) if i % 2 == 0]\n",
    "print(m)"
   ]
  },
  {
   "cell_type": "markdown",
   "id": "6aec9c6b",
   "metadata": {},
   "source": [
    "# PP to get the last element of the list"
   ]
  },
  {
   "cell_type": "code",
   "execution_count": 11,
   "id": "02e6a56a",
   "metadata": {},
   "outputs": [
    {
     "name": "stdout",
     "output_type": "stream",
     "text": [
      "Thanos\n"
     ]
    }
   ],
   "source": [
    "Avengers = [\"Ironman\",\"Hulk\",\"Vision\",\"Thor\",\"Loki\",'Thanos']\n",
    "print(Avengers[-1])\n",
    "\n"
   ]
  },
  {
   "cell_type": "markdown",
   "id": "11bdd405",
   "metadata": {},
   "source": [
    "# PP to concatenate two lists\n"
   ]
  },
  {
   "cell_type": "code",
   "execution_count": 14,
   "id": "dd8f228a",
   "metadata": {},
   "outputs": [
    {
     "name": "stdout",
     "output_type": "stream",
     "text": [
      "[3, 4, 6, 8, 'a', 'j', 3, 6, 'k', 'j', 'f']\n"
     ]
    }
   ],
   "source": [
    "# soln using + operator\n",
    "\n",
    "l1 = [3,4,6,8,\"a\",\"j\"]\n",
    "l2 = [3,6,\"k\",\"j\",\"f\"]\n",
    "\n",
    "l12 = l1+l2\n",
    "print(l12)"
   ]
  },
  {
   "cell_type": "code",
   "execution_count": 16,
   "id": "584ca7f7",
   "metadata": {},
   "outputs": [
    {
     "name": "stdout",
     "output_type": "stream",
     "text": [
      "[3, 4, 6, 8, 'k', 'a', 'j', 'f']\n"
     ]
    }
   ],
   "source": [
    "# soln2 with unique values\n",
    "\n",
    "l1 = [3,4,6,8,\"a\",\"j\"]\n",
    "l2 = [3,6,\"k\",\"j\",\"f\"]\n",
    "\n",
    "l12 = list(set(l1+l2))   # first concat then convert in set then convert in list\n",
    "print(l12)"
   ]
  },
  {
   "cell_type": "code",
   "execution_count": 17,
   "id": "20b65ca6",
   "metadata": {},
   "outputs": [
    {
     "name": "stdout",
     "output_type": "stream",
     "text": [
      "[3, 4, 6, 8, 'a', 'j', 3, 6, 'k', 'j', 'f']\n"
     ]
    }
   ],
   "source": [
    "# using extend() function\n",
    "\n",
    "l1 = [3,4,6,8,\"a\",\"j\"]\n",
    "l2 = [3,6,\"k\",\"j\",\"f\"]\n",
    "\n",
    "l1.extend(l2)\n",
    "\n",
    "print(l1)"
   ]
  },
  {
   "cell_type": "markdown",
   "id": "b001d0f0",
   "metadata": {},
   "source": [
    "# PP to check if a list is empty"
   ]
  },
  {
   "cell_type": "code",
   "execution_count": 19,
   "id": "a9074a4c",
   "metadata": {},
   "outputs": [
    {
     "name": "stdout",
     "output_type": "stream",
     "text": [
      "The list is empty\n"
     ]
    }
   ],
   "source": [
    "# soln1 using boolean operation\n",
    "\n",
    "my_list = []\n",
    "\n",
    "if not my_list:\n",
    "    print(\"The list is empty\")"
   ]
  },
  {
   "cell_type": "code",
   "execution_count": 24,
   "id": "12072a46",
   "metadata": {},
   "outputs": [
    {
     "name": "stdout",
     "output_type": "stream",
     "text": [
      "0\n",
      "The list is empty\n"
     ]
    }
   ],
   "source": [
    "# soln using len() function\n",
    "\n",
    "my_list = []\n",
    "print(len(my_list))\n",
    "\n",
    "if len(my_list) == 0:\n",
    "    print(\"The list is empty\")\n"
   ]
  },
  {
   "cell_type": "code",
   "execution_count": 28,
   "id": "785e9e60",
   "metadata": {},
   "outputs": [
    {
     "name": "stdout",
     "output_type": "stream",
     "text": [
      "The list is empty\n"
     ]
    }
   ],
   "source": [
    "# soln 3  using []\n",
    "\n",
    "my_list = []\n",
    "\n",
    "if my_list == []:\n",
    "    print(\"The list is empty\")\n"
   ]
  },
  {
   "cell_type": "markdown",
   "id": "75cb79c9",
   "metadata": {},
   "source": [
    "# PP to read a file line by line into a list\n"
   ]
  },
  {
   "cell_type": "code",
   "execution_count": 35,
   "id": "867ca77b",
   "metadata": {},
   "outputs": [
    {
     "ename": "OSError",
     "evalue": "[Errno 22] Invalid argument: '\\x0cile.txt'",
     "output_type": "error",
     "traceback": [
      "\u001b[1;31m---------------------------------------------------------------------------\u001b[0m",
      "\u001b[1;31mOSError\u001b[0m                                   Traceback (most recent call last)",
      "Cell \u001b[1;32mIn[35], line 3\u001b[0m\n\u001b[0;32m      1\u001b[0m \u001b[38;5;66;03m# soln 1 using readlines()\u001b[39;00m\n\u001b[1;32m----> 3\u001b[0m f \u001b[38;5;241m=\u001b[39m \u001b[38;5;28mopen\u001b[39m (\u001b[38;5;124m\"\u001b[39m\u001b[38;5;130;01m\\f\u001b[39;00m\u001b[38;5;124mile.txt\u001b[39m\u001b[38;5;124m\"\u001b[39m,\u001b[38;5;124m\"\u001b[39m\u001b[38;5;124mr\u001b[39m\u001b[38;5;124m\"\u001b[39m)\n\u001b[0;32m      4\u001b[0m lines \u001b[38;5;241m=\u001b[39m f\u001b[38;5;241m.\u001b[39mreadlines()\n\u001b[0;32m      5\u001b[0m \u001b[38;5;28mprint\u001b[39m(lines)\n",
      "File \u001b[1;32mC:\\ProgramData\\anaconda3\\Lib\\site-packages\\IPython\\core\\interactiveshell.py:286\u001b[0m, in \u001b[0;36m_modified_open\u001b[1;34m(file, *args, **kwargs)\u001b[0m\n\u001b[0;32m    279\u001b[0m \u001b[38;5;28;01mif\u001b[39;00m file \u001b[38;5;129;01min\u001b[39;00m {\u001b[38;5;241m0\u001b[39m, \u001b[38;5;241m1\u001b[39m, \u001b[38;5;241m2\u001b[39m}:\n\u001b[0;32m    280\u001b[0m     \u001b[38;5;28;01mraise\u001b[39;00m \u001b[38;5;167;01mValueError\u001b[39;00m(\n\u001b[0;32m    281\u001b[0m         \u001b[38;5;124mf\u001b[39m\u001b[38;5;124m\"\u001b[39m\u001b[38;5;124mIPython won\u001b[39m\u001b[38;5;124m'\u001b[39m\u001b[38;5;124mt let you open fd=\u001b[39m\u001b[38;5;132;01m{\u001b[39;00mfile\u001b[38;5;132;01m}\u001b[39;00m\u001b[38;5;124m by default \u001b[39m\u001b[38;5;124m\"\u001b[39m\n\u001b[0;32m    282\u001b[0m         \u001b[38;5;124m\"\u001b[39m\u001b[38;5;124mas it is likely to crash IPython. If you know what you are doing, \u001b[39m\u001b[38;5;124m\"\u001b[39m\n\u001b[0;32m    283\u001b[0m         \u001b[38;5;124m\"\u001b[39m\u001b[38;5;124myou can use builtins\u001b[39m\u001b[38;5;124m'\u001b[39m\u001b[38;5;124m open.\u001b[39m\u001b[38;5;124m\"\u001b[39m\n\u001b[0;32m    284\u001b[0m     )\n\u001b[1;32m--> 286\u001b[0m \u001b[38;5;28;01mreturn\u001b[39;00m io_open(file, \u001b[38;5;241m*\u001b[39margs, \u001b[38;5;241m*\u001b[39m\u001b[38;5;241m*\u001b[39mkwargs)\n",
      "\u001b[1;31mOSError\u001b[0m: [Errno 22] Invalid argument: '\\x0cile.txt'"
     ]
    }
   ],
   "source": [
    "# soln 1 using readlines()\n",
    "\n",
    "f = open (\"\\file.txt\",\"r\")\n",
    "lines = f.readlines()\n",
    "print(lines)\n",
    "\n",
    "new_lines = [x.strip() for x in lines]\n",
    "print(new_lines)\n"
   ]
  },
  {
   "cell_type": "code",
   "execution_count": 34,
   "id": "fb8a93f6",
   "metadata": {},
   "outputs": [],
   "source": [
    "# using for loop and list comprehension\n",
    "\n",
    "f = open (\"\\file.txt\",\"r\")\n",
    "line = [line for line in f]\n",
    "\n",
    "print(line)\n",
    "\n",
    "new_lines = [x.strip() for x in line]\n",
    "print(new_lines)"
   ]
  },
  {
   "cell_type": "markdown",
   "id": "b15cf752",
   "metadata": {},
   "source": [
    "# PP to slice list"
   ]
  },
  {
   "cell_type": "code",
   "execution_count": 37,
   "id": "3280def4",
   "metadata": {},
   "outputs": [
    {
     "name": "stdout",
     "output_type": "stream",
     "text": [
      "['Hulk', 'Vision', 'Thor']\n"
     ]
    }
   ],
   "source": [
    "Avengers = [\"Ironman\",\"Hulk\",\"Vision\",\"Thor\",\"Loki\",'Thanos'] \n",
    "\n",
    "print(Avengers[1:4])  #   start:end\n"
   ]
  },
  {
   "cell_type": "code",
   "execution_count": 38,
   "id": "1339e76a",
   "metadata": {},
   "outputs": [
    {
     "name": "stdout",
     "output_type": "stream",
     "text": [
      "['Ironman', 'Hulk', 'Vision', 'Thor', 'Loki', 'Thanos']\n"
     ]
    }
   ],
   "source": [
    "print(Avengers[::])"
   ]
  },
  {
   "cell_type": "code",
   "execution_count": 39,
   "id": "fc8f7271",
   "metadata": {},
   "outputs": [
    {
     "name": "stdout",
     "output_type": "stream",
     "text": [
      "['Ironman', 'Hulk', 'Vision']\n"
     ]
    }
   ],
   "source": [
    "print(Avengers[:3])"
   ]
  },
  {
   "cell_type": "code",
   "execution_count": 40,
   "id": "830ccc14",
   "metadata": {},
   "outputs": [
    {
     "name": "stdout",
     "output_type": "stream",
     "text": [
      "['Vision', 'Thor', 'Loki', 'Thanos']\n"
     ]
    }
   ],
   "source": [
    "Avengers = [\"Ironman\",\"Hulk\",\"Vision\",\"Thor\",\"Loki\",'Thanos'] \n",
    "print(Avengers[2:])"
   ]
  },
  {
   "cell_type": "code",
   "execution_count": 41,
   "id": "7afea039",
   "metadata": {},
   "outputs": [
    {
     "name": "stdout",
     "output_type": "stream",
     "text": [
      "['Ironman', 'Vision', 'Loki']\n"
     ]
    }
   ],
   "source": [
    "print(Avengers[::2])"
   ]
  },
  {
   "cell_type": "code",
   "execution_count": 42,
   "id": "020bbf4e",
   "metadata": {},
   "outputs": [
    {
     "name": "stdout",
     "output_type": "stream",
     "text": [
      "['Thanos', 'Loki', 'Thor', 'Vision', 'Hulk', 'Ironman']\n"
     ]
    }
   ],
   "source": [
    "print(Avengers[::-1])"
   ]
  },
  {
   "cell_type": "code",
   "execution_count": 43,
   "id": "c0a4219b",
   "metadata": {},
   "outputs": [
    {
     "name": "stdout",
     "output_type": "stream",
     "text": [
      "['Ironman', 'Hulk', 'Vision']\n"
     ]
    }
   ],
   "source": [
    "Avengers = [\"Ironman\",\"Hulk\",\"Vision\",\"Thor\",\"Loki\",'Thanos'] \n",
    "print(Avengers[-6:-3])"
   ]
  },
  {
   "cell_type": "markdown",
   "id": "34f868ca",
   "metadata": {},
   "source": [
    "# PP to access index of list using for loop"
   ]
  },
  {
   "cell_type": "code",
   "execution_count": 46,
   "id": "2906ca11",
   "metadata": {},
   "outputs": [
    {
     "name": "stdout",
     "output_type": "stream",
     "text": [
      "0 23\n",
      "1 45\n",
      "2 67\n",
      "3 89\n",
      "4 12\n",
      "5 45\n"
     ]
    }
   ],
   "source": [
    "# using enumerate method \n",
    "\n",
    "l = [23,45,67,89,12,45]\n",
    "for index, value in enumerate (l):\n",
    "    print(index,value)"
   ]
  },
  {
   "cell_type": "code",
   "execution_count": 48,
   "id": "3a63c68b",
   "metadata": {},
   "outputs": [
    {
     "name": "stdout",
     "output_type": "stream",
     "text": [
      "1 - 23\n",
      "2 - 45\n",
      "3 - 67\n",
      "4 - 89\n",
      "5 - 12\n",
      "6 - 45\n"
     ]
    }
   ],
   "source": [
    "\n",
    "l = [23,45,67,89,12,45]\n",
    "for index, value in enumerate (l,start = 1):\n",
    "    print(index,\"-\",value)"
   ]
  },
  {
   "cell_type": "code",
   "execution_count": 51,
   "id": "5065276b",
   "metadata": {},
   "outputs": [
    {
     "name": "stdout",
     "output_type": "stream",
     "text": [
      "0 23\n",
      "1 45\n",
      "2 67\n",
      "3 89\n",
      "4 12\n",
      "5 45\n"
     ]
    }
   ],
   "source": [
    "# soln 2 using for loop\n",
    "\n",
    "l = [23,45,67,89,12,45]\n",
    "\n",
    "for index in range (len(l)):\n",
    "    value = l[index]\n",
    "    print(index,value)"
   ]
  },
  {
   "cell_type": "code",
   "execution_count": 1,
   "id": "710d4a96",
   "metadata": {},
   "outputs": [],
   "source": [
    "# PP to swap any two elements in the list"
   ]
  },
  {
   "cell_type": "code",
   "execution_count": 10,
   "id": "056e4050",
   "metadata": {},
   "outputs": [
    {
     "name": "stdout",
     "output_type": "stream",
     "text": [
      "[23, 65, 19, 90]\n",
      "\n",
      "[23, 90, 19, 65]\n"
     ]
    }
   ],
   "source": [
    "# Approach simple swap\n",
    "\n",
    "list = [23,65,19,90]          # pos 1 = 1st index element   pos2 = 3rd index \n",
    "print(list)\n",
    "print()\n",
    "\n",
    "pos1,pos2 =1,3              #1st pos is 23     3rd pos is 90\n",
    "\n",
    "list[pos1],list[pos2] = list[pos2],list[pos1]  # here logic -list[pos1]- will become list[pos2] and list[pos2] will becomelist[pos1]  \n",
    "\n",
    "print(list)\n"
   ]
  },
  {
   "cell_type": "code",
   "execution_count": 13,
   "id": "2e88b8cf",
   "metadata": {},
   "outputs": [
    {
     "name": "stdout",
     "output_type": "stream",
     "text": [
      "[23, 65, 19, 90]\n",
      "\n",
      "[23, 90, 19, 65]\n"
     ]
    }
   ],
   "source": [
    "# Using inbuilt list.pop() function\n",
    "\n",
    "list = [23, 65, 19, 90]\n",
    "print(list)\n",
    "print()\n",
    "pos1,pos2 =1,3\n",
    "\n",
    "first_ele = list.pop(pos1)   #65\n",
    "sec_ele = list.pop(pos2-1)   #23,19,90 <-------- here 65 is gone so only 3 elements there thts why pos2-1 in logic\n",
    "\n",
    "list.insert(pos1,sec_ele)\n",
    "list.insert(pos2,first_ele)\n",
    "print(list)"
   ]
  },
  {
   "cell_type": "code",
   "execution_count": 15,
   "id": "66b2a114",
   "metadata": {},
   "outputs": [
    {
     "name": "stdout",
     "output_type": "stream",
     "text": [
      "[23, 65, 19, 90]\n",
      "\n",
      "[23, 90, 19, 65]\n"
     ]
    }
   ],
   "source": [
    "# Using tuple\n",
    "my_list = [23, 65, 19, 90]\n",
    "print(my_list)\n",
    "pos1,pos2 = 1,3\n",
    "\n",
    "get = (my_list[pos1],my_list[pos2])         #these two statements will do sawpping\n",
    "my_list[pos2],my_list[pos1] = get\n",
    "\n",
    "print()\n",
    "print(my_list)"
   ]
  },
  {
   "cell_type": "code",
   "execution_count": null,
   "id": "4098536b",
   "metadata": {},
   "outputs": [],
   "source": [
    "l = [1,2,3,4,5]     #pos1 = 2 pos2 = 5\n",
    "    "
   ]
  },
  {
   "cell_type": "code",
   "execution_count": null,
   "id": "7029d728",
   "metadata": {},
   "outputs": [],
   "source": []
  },
  {
   "cell_type": "code",
   "execution_count": null,
   "id": "1fb05485",
   "metadata": {},
   "outputs": [],
   "source": []
  },
  {
   "cell_type": "code",
   "execution_count": null,
   "id": "2a48abd5",
   "metadata": {},
   "outputs": [],
   "source": []
  },
  {
   "cell_type": "code",
   "execution_count": null,
   "id": "ac50cee8",
   "metadata": {},
   "outputs": [],
   "source": []
  },
  {
   "cell_type": "code",
   "execution_count": null,
   "id": "1e64092d",
   "metadata": {},
   "outputs": [],
   "source": []
  },
  {
   "cell_type": "code",
   "execution_count": null,
   "id": "cccbd930",
   "metadata": {},
   "outputs": [],
   "source": []
  },
  {
   "cell_type": "markdown",
   "id": "156be238",
   "metadata": {},
   "source": [
    "# PP to illustrate different set operations\n",
    "# Union, intersection,difference,symmetric difference \n"
   ]
  },
  {
   "cell_type": "code",
   "execution_count": 1,
   "id": "c7f0dbef",
   "metadata": {},
   "outputs": [
    {
     "name": "stdout",
     "output_type": "stream",
     "text": [
      "The union is : {1, 2, 3, 4, 5, 6, 7, 8, 9}\n",
      "The intersection is : {8, 3, 6}\n",
      "The difference is : {1, 2, 9}\n",
      "The symmetric differnence is : {1, 2, 4, 5, 7, 9}\n"
     ]
    }
   ],
   "source": [
    "A = {1,2,3,6,8,9}\n",
    "B = {3,4,5,6,7,8}\n",
    "\n",
    "print(\"The union is :\", A | B)\n",
    "\n",
    "print(\"The intersection is :\", A & B)\n",
    "\n",
    "print(\"The difference is :\",A - B)\n",
    "\n",
    "print(\"The symmetric differnence is :\", A ^ B)\n",
    "\n"
   ]
  },
  {
   "cell_type": "markdown",
   "id": "af26c205",
   "metadata": {},
   "source": [
    "# Python short hand    if     and    if-else"
   ]
  },
  {
   "cell_type": "markdown",
   "id": "15722c59",
   "metadata": {},
   "source": [
    "# if statement"
   ]
  },
  {
   "cell_type": "code",
   "execution_count": 5,
   "id": "8e389e60",
   "metadata": {},
   "outputs": [
    {
     "name": "stdout",
     "output_type": "stream",
     "text": [
      "Enter a num here:8\n",
      "Even\n"
     ]
    }
   ],
   "source": [
    "num = int(input(\"Enter a num here:\"))\n",
    "\n",
    "if num % 2 == 0:\n",
    "    print(\"Even\")"
   ]
  },
  {
   "cell_type": "markdown",
   "id": "9b529dc3",
   "metadata": {},
   "source": [
    "# ShortHand if statement"
   ]
  },
  {
   "cell_type": "code",
   "execution_count": 8,
   "id": "f6959f13",
   "metadata": {},
   "outputs": [
    {
     "name": "stdout",
     "output_type": "stream",
     "text": [
      "Enter a num here:18\n",
      "Even\n"
     ]
    }
   ],
   "source": [
    "num = int(input(\"Enter a num here:\"))\n",
    "if num % 2 == 0 : print(\"Even\")"
   ]
  },
  {
   "cell_type": "markdown",
   "id": "3ac1c4d6",
   "metadata": {},
   "source": [
    "# if else statement"
   ]
  },
  {
   "cell_type": "code",
   "execution_count": 16,
   "id": "ecb0fc0e",
   "metadata": {},
   "outputs": [
    {
     "name": "stdout",
     "output_type": "stream",
     "text": [
      "Enter a num here:7\n",
      "Odd\n"
     ]
    }
   ],
   "source": [
    "num = int(input(\"Enter a num here:\"))\n",
    "\n",
    "if num % 2 == 0:\n",
    "    print(\"Even\")\n",
    "else:\n",
    "    print(\"Odd\")"
   ]
  },
  {
   "cell_type": "markdown",
   "id": "2dbd31a6",
   "metadata": {},
   "source": [
    "# ShortHand    if_else"
   ]
  },
  {
   "cell_type": "code",
   "execution_count": 19,
   "id": "14294ea0",
   "metadata": {},
   "outputs": [
    {
     "name": "stdout",
     "output_type": "stream",
     "text": [
      "Enter num here:8\n",
      "Even\n"
     ]
    }
   ],
   "source": [
    "num = int(input(\"Enter num here:\"))\n",
    "\n",
    "print(\"Even\") if num % 2 == 0 else print(\"odd\")"
   ]
  },
  {
   "cell_type": "markdown",
   "id": "25aaa373",
   "metadata": {},
   "source": [
    "# Tips and tricks to write a better python code"
   ]
  },
  {
   "cell_type": "code",
   "execution_count": 26,
   "id": "819c3259",
   "metadata": {},
   "outputs": [
    {
     "name": "stdout",
     "output_type": "stream",
     "text": [
      "Good Job!\n",
      "Good Job!\n"
     ]
    }
   ],
   "source": [
    "1  # multiple checks in if statement\n",
    "\n",
    "marks = 80\n",
    "\n",
    "if marks == 80 or marks == 90 or marks == 95:\n",
    "    print(\"Good Job!\")\n",
    "    \n",
    "    \n",
    "# TRICK\n",
    "\n",
    "marks = 80\n",
    "if 80 in [90,80,95]: print(\"Good Job!\")"
   ]
  },
  {
   "cell_type": "code",
   "execution_count": 27,
   "id": "dfac4d31",
   "metadata": {},
   "outputs": [
    {
     "name": "stdout",
     "output_type": "stream",
     "text": [
      "Good Job!\n",
      "Excellent job!\n"
     ]
    }
   ],
   "source": [
    "2          #       ShortHand if-else statement\n",
    "marks = 80\n",
    "\n",
    "if marks > 90:\n",
    "    print(\"Excellent Work!\")\n",
    "else:\n",
    "    print(\"Good Job!\")\n",
    "\n",
    "    \n",
    "#  TRICK   \n",
    "\n",
    "marks = 98\n",
    "print(\"Excellent job!\") if marks > 90 else print(\"Good job\")"
   ]
  },
  {
   "cell_type": "code",
   "execution_count": 25,
   "id": "034ad0fa",
   "metadata": {},
   "outputs": [
    {
     "name": "stdout",
     "output_type": "stream",
     "text": [
      "Using for loop: [4, 6, 8, 10, 12, 14, 16]\n",
      "Using list comprehension: [4, 6, 8, 10, 12, 14, 16]\n"
     ]
    }
   ],
   "source": [
    "3    # List Comprehensions\n",
    "\n",
    "\n",
    "l = [2,3,4,5,6,7,8]\n",
    "\n",
    "a = []\n",
    "for i in l :\n",
    "    a.append(i*2)\n",
    "print(\"Using for loop:\",a)\n",
    "\n",
    "\n",
    "\n",
    "# TRICK\n",
    "x = [i*2 for i in l]\n",
    "print(\"Using list comprehension:\",x)\n",
    "\n",
    "\n",
    "\n"
   ]
  },
  {
   "cell_type": "code",
   "execution_count": 28,
   "id": "441dd00b",
   "metadata": {},
   "outputs": [
    {
     "name": "stdout",
     "output_type": "stream",
     "text": [
      "0 2\n",
      "1 4\n",
      "2 6\n",
      "3 8\n",
      "4 10\n",
      "5 12\n",
      "6 14\n",
      "7 16\n"
     ]
    }
   ],
   "source": [
    "4       # Using Enumerate function\n",
    "\n",
    "l =[2,4,6,8,10,12,14,16]\n",
    "\n",
    "index = 0     # here we are giving index \n",
    "for i in l:\n",
    "    print(index,i)     # here we iterating index as well as iterations in l \n",
    "    index += 1          # here we incremented index"
   ]
  },
  {
   "cell_type": "code",
   "execution_count": 30,
   "id": "f89c4419",
   "metadata": {},
   "outputs": [
    {
     "name": "stdout",
     "output_type": "stream",
     "text": [
      "(0, 2)\n",
      "(1, 4)\n",
      "(2, 6)\n",
      "(3, 8)\n",
      "(4, 10)\n",
      "(5, 12)\n",
      "(6, 14)\n",
      "(7, 16)\n"
     ]
    }
   ],
   "source": [
    "l = [2,4,6,8,10,12,14,16]\n",
    "\n",
    "for i in enumerate(l):     # it will give results in tuple\n",
    "        print(i)"
   ]
  },
  {
   "cell_type": "code",
   "execution_count": 34,
   "id": "baac6868",
   "metadata": {},
   "outputs": [
    {
     "name": "stdout",
     "output_type": "stream",
     "text": [
      "90,010,000\n"
     ]
    }
   ],
   "source": [
    "5     # 5  using _ as seperators\n",
    "num1 = 90_000_000                 # we can seperate the value by_ 90000000\n",
    "num2 = 10_000\n",
    "\n",
    "sum = (num1 + num2)\n",
    "print(f\"{sum:,}\")          # formatting is used"
   ]
  },
  {
   "cell_type": "code",
   "execution_count": 37,
   "id": "0804c2fd",
   "metadata": {},
   "outputs": [
    {
     "name": "stdout",
     "output_type": "stream",
     "text": [
      "16\n"
     ]
    }
   ],
   "source": [
    "6         # 6   Lambda function\n",
    "\n",
    "def square(x):\n",
    "    return x**2\n",
    "print(square(4))"
   ]
  },
  {
   "cell_type": "code",
   "execution_count": 40,
   "id": "72ec9011",
   "metadata": {},
   "outputs": [
    {
     "name": "stdout",
     "output_type": "stream",
     "text": [
      "16\n"
     ]
    }
   ],
   "source": [
    "a = lambda b: b**2\n",
    "print(a(4))"
   ]
  },
  {
   "cell_type": "code",
   "execution_count": 4,
   "id": "beca0357",
   "metadata": {},
   "outputs": [
    {
     "name": "stdout",
     "output_type": "stream",
     "text": [
      "Rachael has scored 90 marks in English\n",
      "Phoebe has scored 80 marks in Math\n",
      "Joey has scored 70 marks in Economics\n",
      "Monica has scored 60 marks in Science\n",
      "Ross has scored 50 marks in History\n",
      "Chandler has scored 95 marks in Comp science\n"
     ]
    }
   ],
   "source": [
    "7      # ZIP function\n",
    "\n",
    "\n",
    "print(\"Rachael has scored 90 marks in English\")\n",
    "print(\"Phoebe has scored 80 marks in Math\")\n",
    "print(\"Joey has scored 70 marks in Economics\")\n",
    "print(\"Monica has scored 60 marks in Science\")\n",
    "print(\"Ross has scored 50 marks in History\")\n",
    "print(\"Chandler has scored 95 marks in Comp science\")"
   ]
  },
  {
   "cell_type": "code",
   "execution_count": 3,
   "id": "b41896af",
   "metadata": {},
   "outputs": [
    {
     "name": "stdout",
     "output_type": "stream",
     "text": [
      "Joey has scored 90 in English\n",
      "Chandler has scored 80 in Math\n",
      "Monica has scored 70 in Economics\n",
      "Ross has scored 60 in science\n",
      "Phoebe has scored 50 in History\n",
      "Rachael has scored 95 in science\n"
     ]
    }
   ],
   "source": [
    "names= [\"Joey\",\"Chandler\",\"Monica\",\"Ross\",\"Phoebe\",\"Rachael\"]\n",
    "marks = [90,80,70,60,50,95]\n",
    "subjects = [\"English\",\"Math\",\"Economics\",\"science\",\"History\",\"science\"]\n",
    "      \n",
    "for name,mark,subject in zip (names,marks,subjects):        #ZIP function\n",
    "      print(name,\"has scored\",mark,\"in\",subject)\n",
    "      "
   ]
  },
  {
   "cell_type": "code",
   "execution_count": null,
   "id": "f84733aa",
   "metadata": {},
   "outputs": [],
   "source": [
    "8            # 8        Protect password in terminal"
   ]
  },
  {
   "cell_type": "code",
   "execution_count": null,
   "id": "5af36f9f",
   "metadata": {},
   "outputs": [],
   "source": []
  },
  {
   "cell_type": "code",
   "execution_count": 5,
   "id": "b21b29c8",
   "metadata": {},
   "outputs": [],
   "source": [
    "9        #9                 using sets to sort the unique values"
   ]
  },
  {
   "cell_type": "code",
   "execution_count": 8,
   "id": "e70b22ab",
   "metadata": {},
   "outputs": [
    {
     "name": "stdout",
     "output_type": "stream",
     "text": [
      "[10, 20, 30, 40, 50, 60, 70, 80]\n",
      "\n",
      "{70, 40, 10, 80, 50, 20, 60, 30}\n",
      "\n",
      "[70, 40, 10, 80, 50, 20, 60, 30]\n"
     ]
    }
   ],
   "source": [
    "l = [10,20,30,40,50,60,70,80]\n",
    "print(l)\n",
    "print()                  # used to give gap in line\n",
    "\n",
    "\n",
    "my_set = set(l)            # to convert into set\n",
    "print(my_set)\n",
    "print()                    # used to give gap in line\n",
    "\n",
    "print(list(my_set))        # to convert into list"
   ]
  },
  {
   "cell_type": "code",
   "execution_count": null,
   "id": "cda451bd",
   "metadata": {},
   "outputs": [],
   "source": [
    "10                # 10   Formatting string using f string"
   ]
  },
  {
   "cell_type": "code",
   "execution_count": 13,
   "id": "7cc3757d",
   "metadata": {},
   "outputs": [
    {
     "name": "stdout",
     "output_type": "stream",
     "text": [
      "my name is John\n",
      "\n",
      "my name is John\n"
     ]
    }
   ],
   "source": [
    "name = \"John\"\n",
    "print(\"my name is\",name)\n",
    "print()\n",
    "\n",
    "print(f\"my name is {name}\")                     # f string\n"
   ]
  },
  {
   "cell_type": "code",
   "execution_count": 15,
   "id": "2c5337af",
   "metadata": {},
   "outputs": [
    {
     "name": "stdout",
     "output_type": "stream",
     "text": [
      "The addition of 12 and 14 is 26\n",
      "\n",
      "The addition of 12 and 14 is 26\n"
     ]
    }
   ],
   "source": [
    "num1,num2 = 12,14\n",
    "print(\"The addition of\",num1,\"and\",num2, \"is\",num1+num2)\n",
    "print()\n",
    "\n",
    "print(f\"The addition of {num1} and {num2} is {num1+num2}\")\n",
    "\n"
   ]
  },
  {
   "cell_type": "code",
   "execution_count": null,
   "id": "8ce50737",
   "metadata": {},
   "outputs": [],
   "source": [
    "11           # 11       using sorted to sort the complex iterables"
   ]
  },
  {
   "cell_type": "code",
   "execution_count": 20,
   "id": "3fd456dc",
   "metadata": {},
   "outputs": [
    {
     "name": "stdout",
     "output_type": "stream",
     "text": [
      "[2, 30, 37, 74, 98, 121]\n",
      "\n",
      "[121, 98, 74, 37, 30, 2]\n"
     ]
    }
   ],
   "source": [
    "l = [30,37,74,98,2,121]\n",
    "sorted_list = sorted(l)\n",
    "print(sorted_list)                         # ascending order\n",
    "print()\n",
    "\n",
    "\n",
    "reverse_sorted_list = sorted(l,reverse = True)                # to reverse the list descending order \n",
    "print(reverse_sorted_list)"
   ]
  },
  {
   "cell_type": "code",
   "execution_count": 29,
   "id": "19a00a66",
   "metadata": {},
   "outputs": [
    {
     "name": "stdout",
     "output_type": "stream",
     "text": [
      "[{'Name': 'Rachael', 'Marks': 67}, {'Name': 'Monica', 'Marks': 78}, {'Name': 'John', 'Marks': 87}, {'Name': 'Ross', 'Marks': 90}]\n",
      "\n",
      "{'Name': 'Rachael', 'Marks': 67}\n",
      "{'Name': 'Monica', 'Marks': 78}\n",
      "{'Name': 'John', 'Marks': 87}\n",
      "{'Name': 'Ross', 'Marks': 90}\n"
     ]
    }
   ],
   "source": [
    "dict = [\n",
    "    {\"Name\":\"John\",\"Marks\":87},\n",
    "    {\"Name\":\"Ross\",\"Marks\":90},\n",
    "    {\"Name\":\"Monica\",\"Marks\":78},\n",
    "    {\"Name\":\"Rachael\",\"Marks\":67}\n",
    "]\n",
    "\n",
    "sorted_data = (sorted(dict,key = lambda x:x[\"Marks\"]))\n",
    "print(sorted_data)                 # to print in one line\n",
    "print()\n",
    "\n",
    "for i in sorted_data:                            # to print in new line each looks good\n",
    "    print(i)\n",
    "    "
   ]
  },
  {
   "cell_type": "code",
   "execution_count": null,
   "id": "595306c1",
   "metadata": {},
   "outputs": [],
   "source": [
    "12                 #12 merge dictionaries using ** double asterisks or stars"
   ]
  },
  {
   "cell_type": "code",
   "execution_count": 31,
   "id": "b4cd87b4",
   "metadata": {},
   "outputs": [
    {
     "name": "stdout",
     "output_type": "stream",
     "text": [
      "{'Name': 'Ross', 'marks': 90, 'Hobbies': 'Singing'}\n"
     ]
    }
   ],
   "source": [
    "dict1 = {\"Name\":\"Ross\",\"marks\":90}\n",
    "dict2 = {\"Name\":\"Ross\",\"Hobbies\":\"Singing\"}\n",
    "\n",
    "md = {**dict1,**dict2}\n",
    "print(md)"
   ]
  },
  {
   "cell_type": "code",
   "execution_count": null,
   "id": "e985514a",
   "metadata": {},
   "outputs": [],
   "source": [
    "13              # 13  unpacking using _ (underscore) and * variable"
   ]
  },
  {
   "cell_type": "code",
   "execution_count": 35,
   "id": "46cc8b75",
   "metadata": {},
   "outputs": [
    {
     "ename": "ValueError",
     "evalue": "not enough values to unpack (expected 3, got 2)",
     "output_type": "error",
     "traceback": [
      "\u001b[1;31m---------------------------------------------------------------------------\u001b[0m",
      "\u001b[1;31mValueError\u001b[0m                                Traceback (most recent call last)",
      "Cell \u001b[1;32mIn[35], line 1\u001b[0m\n\u001b[1;32m----> 1\u001b[0m a,b,c \u001b[38;5;241m=\u001b[39m (\u001b[38;5;241m2\u001b[39m,\u001b[38;5;241m3\u001b[39m)\n\u001b[0;32m      2\u001b[0m \u001b[38;5;28mprint\u001b[39m(a)\n",
      "\u001b[1;31mValueError\u001b[0m: not enough values to unpack (expected 3, got 2)"
     ]
    }
   ],
   "source": [
    "a,b,c = (2,3)\n",
    "print(a)"
   ]
  },
  {
   "cell_type": "code",
   "execution_count": 36,
   "id": "933a6c0b",
   "metadata": {},
   "outputs": [
    {
     "ename": "ValueError",
     "evalue": "too many values to unpack (expected 3)",
     "output_type": "error",
     "traceback": [
      "\u001b[1;31m---------------------------------------------------------------------------\u001b[0m",
      "\u001b[1;31mValueError\u001b[0m                                Traceback (most recent call last)",
      "Cell \u001b[1;32mIn[36], line 1\u001b[0m\n\u001b[1;32m----> 1\u001b[0m a,b,c \u001b[38;5;241m=\u001b[39m (\u001b[38;5;241m2\u001b[39m,\u001b[38;5;241m3\u001b[39m,\u001b[38;5;241m23\u001b[39m,\u001b[38;5;241m534\u001b[39m,\u001b[38;5;241m76\u001b[39m)\n\u001b[0;32m      2\u001b[0m \u001b[38;5;28mprint\u001b[39m(a)\n",
      "\u001b[1;31mValueError\u001b[0m: too many values to unpack (expected 3)"
     ]
    }
   ],
   "source": [
    "a,b,c = (2,3,23,534,76)\n",
    "print(a)"
   ]
  },
  {
   "cell_type": "code",
   "execution_count": 37,
   "id": "82bda346",
   "metadata": {},
   "outputs": [
    {
     "name": "stdout",
     "output_type": "stream",
     "text": [
      "2\n",
      "3\n",
      "[]\n"
     ]
    }
   ],
   "source": [
    "a,b,*c = (2,3)\n",
    "print(a)\n",
    "print(b)\n",
    "print(c)        # here c will create empty list\n"
   ]
  },
  {
   "cell_type": "code",
   "execution_count": 38,
   "id": "1513e453",
   "metadata": {},
   "outputs": [
    {
     "name": "stdout",
     "output_type": "stream",
     "text": [
      "2\n",
      "3\n",
      "[34, 45, 678]\n"
     ]
    }
   ],
   "source": [
    "a,b,*c = (2,3,34,45,678)\n",
    "print(a)\n",
    "print(b)\n",
    "print(c)        # here c will create list\n"
   ]
  },
  {
   "cell_type": "code",
   "execution_count": 40,
   "id": "e77ddaf9",
   "metadata": {},
   "outputs": [
    {
     "name": "stdout",
     "output_type": "stream",
     "text": [
      "2\n",
      "3\n"
     ]
    }
   ],
   "source": [
    "a,b,*_ = (2,3,34,45,678)             # *_ will ignore the values after two items error will not come  too many values given   \n",
    "print(a)                                      #it will ignore the values\n",
    "print(b)\n"
   ]
  },
  {
   "cell_type": "code",
   "execution_count": null,
   "id": "2bfa7e6f",
   "metadata": {},
   "outputs": [],
   "source": [
    "14                  # 14         generators to save the memory"
   ]
  },
  {
   "cell_type": "code",
   "execution_count": 55,
   "id": "9b9b0f80",
   "metadata": {
    "scrolled": true
   },
   "outputs": [
    {
     "name": "stdout",
     "output_type": "stream",
     "text": [
      "4049955000\n",
      "800984 in bytes\n",
      "\n",
      "4049955000\n",
      "200 in bytes\n",
      "\n"
     ]
    }
   ],
   "source": [
    "l = [i for i in range (90000)]\n",
    "print(sum(l))\n",
    "\n",
    "import sys \n",
    "print(sys.getsizeof(l),\"in bytes\")\n",
    "print()\n",
    "\n",
    "g = (j for j in range(90000))              #here we used parenthesis() simple bracket\n",
    "print(sum(g))\n",
    "\n",
    "import sys \n",
    "print(sys.getsizeof(g),\"in bytes\")\n",
    "print()"
   ]
  },
  {
   "cell_type": "code",
   "execution_count": null,
   "id": "33a1eb6f",
   "metadata": {},
   "outputs": [],
   "source": [
    "15                # using .join concatenation strings"
   ]
  },
  {
   "cell_type": "code",
   "execution_count": 62,
   "id": "281ac527",
   "metadata": {},
   "outputs": [
    {
     "name": "stdout",
     "output_type": "stream",
     "text": [
      "['Hello', 'friend', 'I', 'am', 'John']\n",
      "Hello friend I am John \n"
     ]
    }
   ],
   "source": [
    "l = [\"Hello\",\"friend\",\"I\",\"am\",\"John\"]\n",
    "print(l)\n",
    "\n",
    "\n",
    "a = \"\"\n",
    "for i in l:\n",
    "    a +=i + \" \"\n",
    "print(a)"
   ]
  },
  {
   "cell_type": "code",
   "execution_count": 64,
   "id": "a0273d2b",
   "metadata": {},
   "outputs": [
    {
     "name": "stdout",
     "output_type": "stream",
     "text": [
      "['Hello', 'friend', 'I', 'am', 'John']\n",
      "Hello friend I am John\n"
     ]
    }
   ],
   "source": [
    "l = [\"Hello\",\"friend\",\"I\",\"am\",\"John\"]\n",
    "print(l)\n",
    "\n",
    "a = \" \".join(l)           #using .join concatenation strings\n",
    "print(a)"
   ]
  },
  {
   "cell_type": "code",
   "execution_count": null,
   "id": "daaa4a3e",
   "metadata": {},
   "outputs": [],
   "source": []
  },
  {
   "cell_type": "code",
   "execution_count": null,
   "id": "93ac5ceb",
   "metadata": {},
   "outputs": [],
   "source": []
  },
  {
   "cell_type": "code",
   "execution_count": null,
   "id": "47544060",
   "metadata": {},
   "outputs": [],
   "source": []
  },
  {
   "cell_type": "code",
   "execution_count": null,
   "id": "df1f6edd",
   "metadata": {},
   "outputs": [],
   "source": []
  },
  {
   "cell_type": "code",
   "execution_count": null,
   "id": "41bbcd8d",
   "metadata": {},
   "outputs": [],
   "source": []
  },
  {
   "cell_type": "code",
   "execution_count": null,
   "id": "f7921fa7",
   "metadata": {},
   "outputs": [],
   "source": []
  },
  {
   "cell_type": "code",
   "execution_count": null,
   "id": "58e53b7e",
   "metadata": {},
   "outputs": [],
   "source": []
  },
  {
   "cell_type": "code",
   "execution_count": null,
   "id": "412c1757",
   "metadata": {},
   "outputs": [],
   "source": []
  },
  {
   "cell_type": "code",
   "execution_count": null,
   "id": "c4aeda78",
   "metadata": {},
   "outputs": [],
   "source": []
  },
  {
   "cell_type": "code",
   "execution_count": null,
   "id": "9646933a",
   "metadata": {},
   "outputs": [],
   "source": []
  },
  {
   "cell_type": "code",
   "execution_count": null,
   "id": "bb5c4a60",
   "metadata": {},
   "outputs": [],
   "source": [
    "Ml algo \n",
    "math intuition\n",
    "explanation algo \n",
    "pandas loc iloc difference \n",
    "practical coding problem solve karne bola \n",
    "trick question tha i was not able to do it \n",
    "also performance metrics and introduce yourself"
   ]
  },
  {
   "cell_type": "code",
   "execution_count": 2,
   "id": "0aae05d5",
   "metadata": {},
   "outputs": [
    {
     "name": "stdout",
     "output_type": "stream",
     "text": [
      "Average: 400.0\n"
     ]
    }
   ],
   "source": [
    "# 1 Python program to calculate the avg of numbers in lists\n",
    "\n",
    "sample_list = [100,200,300,400,500,600,700]\n",
    "\n",
    "total_sum = 0\n",
    "\n",
    "for num in sample_list:\n",
    "    total_sum += num\n",
    "    \n",
    "average = total_sum / len(sample_list)\n",
    "\n",
    "print(f\"Average: {average}\")"
   ]
  },
  {
   "cell_type": "code",
   "execution_count": 3,
   "id": "33b6e619",
   "metadata": {},
   "outputs": [
    {
     "name": "stdout",
     "output_type": "stream",
     "text": [
      "Before swapping: var_1: 20, var_2: 40\n",
      "After swapping: var_1: 40, var_2: 20\n"
     ]
    }
   ],
   "source": [
    "# 2 Python program to exchange the values of two numbers without using third variable\n",
    "\n",
    "var_1 = 20\n",
    "var_2 = 40\n",
    "print(f\"Before swapping: var_1: {var_1}, var_2: {var_2}\")\n",
    "\n",
    "# swapping\n",
    "var_1,var_2 = var_2,var_1\n",
    "\n",
    "print(f\"After swapping: var_1: {var_1}, var_2: {var_2}\")\n"
   ]
  },
  {
   "cell_type": "code",
   "execution_count": 4,
   "id": "9d6e1165",
   "metadata": {},
   "outputs": [
    {
     "name": "stdout",
     "output_type": "stream",
     "text": [
      "Series Computation: 39\n"
     ]
    }
   ],
   "source": [
    "\n",
    "# 3 python program to a read number n and compute n+nn+nnn+nnnn\n",
    "\n",
    "n = 3\n",
    "total_sum = 0\n",
    "\n",
    "for num in range(n):\n",
    "    total_sum += n**(num+1)  #n + nn + nnn + nnnn\n",
    "    \n",
    "    \n",
    "print(f\"Series Computation: {total_sum}\")\n"
   ]
  },
  {
   "cell_type": "code",
   "execution_count": 5,
   "id": "2919a4f3",
   "metadata": {},
   "outputs": [
    {
     "name": "stdout",
     "output_type": "stream",
     "text": [
      "Reverse Number: 54321"
     ]
    }
   ],
   "source": [
    "# 4 Python progam to reverse the given number\n",
    "\n",
    "number = 12345\n",
    "number = str(number)\n",
    "print(\"Reverse Number: \", end=\"\")\n",
    "\n",
    "for num in range(len(number), 0, -1): # range in reverse order\n",
    "    print(number[num-1], end=\"\")\n"
   ]
  },
  {
   "cell_type": "code",
   "execution_count": 22,
   "id": "86d03d78",
   "metadata": {},
   "outputs": [
    {
     "name": "stdout",
     "output_type": "stream",
     "text": [
      "Grade Calculator\n",
      "----------------------------------------------------------------------\n",
      "\n",
      "Enter marks in Marathi: 70\n",
      "Enter marks in English: 70\n",
      "Enter marks in Science: 70\n",
      "Enter marks in History: 70\n",
      "Enter marks in Geography: 70\n",
      "\n",
      "Congratulations! You have passed the exam with an \"A\" grade.\n"
     ]
    }
   ],
   "source": [
    "\n",
    "# 5 python program to take a five subject marks and display the grade\n",
    "\n",
    "print(\"Grade Calculator\")\n",
    "print(\"-\"*70)\n",
    "print()\n",
    "\n",
    "marathi_marks = int(input(\"Enter marks in Marathi: \"))\n",
    "english_marks = int(input(\"Enter marks in English: \"))\n",
    "science_marks = int(input(\"Enter marks in Science: \"))\n",
    "history_marks = int(input(\"Enter marks in History: \"))\n",
    "geography_marks = int(input(\"Enter marks in Geography: \"))\n",
    "print()\n",
    "\n",
    "total_marks = marathi_marks + english_marks + science_marks + history_marks + geography_marks\n",
    "percentage = round((total_marks / 500) * 100)\n",
    "\n",
    "if percentage > 75:\n",
    "    print('Congratulations! You have passed the exam with an \"O\" grade.')\n",
    "\n",
    "elif 66 <= percentage <= 75:\n",
    "    print('Congratulations! You have passed the exam with an \"A\" grade.')\n",
    "\n",
    "elif 55 <= percentage <= 65:\n",
    "    print('Congratulations! You have passed the exam with a \"B\" grade.')\n",
    "\n",
    "elif 40 <= percentage <= 54:\n",
    "    print('Congratulations! You have passed the exam with a \"C\" grade.')\n",
    "\n",
    "else:\n",
    "    print(\"Sorry! You have failed the exam.\")\n"
   ]
  },
  {
   "cell_type": "code",
   "execution_count": 23,
   "id": "0f86cd88",
   "metadata": {},
   "outputs": [
    {
     "name": "stdout",
     "output_type": "stream",
     "text": [
      "Given Number: 100\n",
      "Divisible Numbers: [1, 2, 4, 5, 10, 20, 25, 50, 100]\n"
     ]
    }
   ],
   "source": [
    "# 6 python program to print all numbers in range divisible by given number\n",
    "\n",
    "number = 100\n",
    "print(f\"Given Number: {number}\")\n",
    "\n",
    "divisible_number = []\n",
    "\n",
    "for n in range(1, number+1):\n",
    "    \n",
    "    if number % n == 0:\n",
    "        divisible_number.append(n)\n",
    "\n",
    "print(f\"Divisible Numbers: {divisible_number}\")\n"
   ]
  },
  {
   "cell_type": "code",
   "execution_count": 26,
   "id": "150334b8",
   "metadata": {},
   "outputs": [
    {
     "name": "stdout",
     "output_type": "stream",
     "text": [
      "Enter Numerator: 13\n",
      "Enter the denominator: 3\n",
      "\n"
     ]
    },
    {
     "ename": "NameError",
     "evalue": "name 'denomerator' is not defined",
     "output_type": "error",
     "traceback": [
      "\u001b[1;31m---------------------------------------------------------------------------\u001b[0m",
      "\u001b[1;31mNameError\u001b[0m                                 Traceback (most recent call last)",
      "Cell \u001b[1;32mIn[26], line 8\u001b[0m\n\u001b[0;32m      5\u001b[0m \u001b[38;5;28mprint\u001b[39m()\n\u001b[0;32m      7\u001b[0m quo \u001b[38;5;241m=\u001b[39m numerator \u001b[38;5;241m/\u001b[39m\u001b[38;5;241m/\u001b[39m denominator\n\u001b[1;32m----> 8\u001b[0m rem \u001b[38;5;241m=\u001b[39m numerator \u001b[38;5;241m%\u001b[39m denomerator\n\u001b[0;32m     10\u001b[0m \u001b[38;5;28mprint\u001b[39m(\u001b[38;5;124mf\u001b[39m\u001b[38;5;124m\"\u001b[39m\u001b[38;5;124mquotrient: \u001b[39m\u001b[38;5;132;01m{\u001b[39;00mquo\u001b[38;5;132;01m}\u001b[39;00m\u001b[38;5;124m \u001b[39m\u001b[38;5;130;01m\\n\u001b[39;00m\u001b[38;5;124mreminder: \u001b[39m\u001b[38;5;132;01m{\u001b[39;00mrem\u001b[38;5;132;01m}\u001b[39;00m\u001b[38;5;124m\"\u001b[39m)\n",
      "\u001b[1;31mNameError\u001b[0m: name 'denomerator' is not defined"
     ]
    }
   ],
   "source": [
    "# 7 PP to read two numbers and print there quotrient and reminder\n",
    "\n",
    "numerator = int(input(\"Enter Numerator: \"))\n",
    "denominator = int(input(\"Enter the denominator: \"))\n",
    "print()\n",
    "\n",
    "quo = numerator // denominator\n",
    "rem = numerator % denomerator\n",
    "\n",
    "print(f\"quotrient: {quo} \\nreminder: {rem}\")"
   ]
  },
  {
   "cell_type": "code",
   "execution_count": 27,
   "id": "3f8d3924",
   "metadata": {},
   "outputs": [
    {
     "name": "stdout",
     "output_type": "stream",
     "text": [
      "Enter number 1: 1\n",
      "Enter number 2: 2\n",
      "Enter number 3: 3\n",
      "\n",
      "All possible combinations of 3 numbers\n",
      "--------------------------------------------------\n",
      "1 2 3\n",
      "1 3 2\n",
      "2 1 3\n",
      "2 3 1\n",
      "3 1 2\n",
      "3 2 1\n"
     ]
    }
   ],
   "source": [
    "# 8 PP to accept three digits and print all possible combinations from digits\n",
    "\n",
    "num_list = []\n",
    "\n",
    "# Taking 3 numbers from user\n",
    "\n",
    "for i in range(3):   \n",
    "    num = int(input(f\"Enter number {i+1}: \"))\n",
    "    num_list.append(num)\n",
    "\n",
    "print()\n",
    "print(f\"All possible combinations of {len(num_list)} numbers\")\n",
    "print(\"-\"*50)\n",
    "\n",
    "for i in range(len(num_list)):\n",
    "    for j in range(len(num_list)):\n",
    "        for k in range(len(num_list)):\n",
    "            \n",
    "            if (i!=j) and (j!=k) and (k!=i): # to avoid same index number\n",
    "                print(num_list[i],num_list[j],num_list[k])\n",
    "    \n"
   ]
  },
  {
   "cell_type": "code",
   "execution_count": 28,
   "id": "a2938a0a",
   "metadata": {},
   "outputs": [
    {
     "name": "stdout",
     "output_type": "stream",
     "text": [
      "1 3 5 7 9 11 "
     ]
    }
   ],
   "source": [
    "# 9 PP to print odd numbers within a given range\n",
    "\n",
    "n=11\n",
    "\n",
    "for i in range(1, n+1):\n",
    "    if i % 2 != 0:\n",
    "        print(i, end=\" \")\n"
   ]
  },
  {
   "cell_type": "code",
   "execution_count": 29,
   "id": "463932fb",
   "metadata": {},
   "outputs": [
    {
     "name": "stdout",
     "output_type": "stream",
     "text": [
      "Sum of the Digits in given number: 21\n"
     ]
    }
   ],
   "source": [
    "# 10 pp to find the sum of digits in number\n",
    "\n",
    "number = 123456\n",
    "number = str(number)\n",
    "\n",
    "sum_total = 0\n",
    "\n",
    "for i in range(len(number)):\n",
    "    sum_total += int(number[i])\n",
    "\n",
    "print(f\"Sum of the Digits in given number: {sum_total}\")\n"
   ]
  },
  {
   "cell_type": "code",
   "execution_count": 30,
   "id": "c05a4362",
   "metadata": {},
   "outputs": [
    {
     "name": "stdout",
     "output_type": "stream",
     "text": [
      "Smallest Divisor of 17 is 1. Since it is a Prime Number.\n"
     ]
    }
   ],
   "source": [
    "# 11 PP to find smallest divisor of integer\n",
    "\n",
    "number = 17\n",
    "flag = 0\n",
    "\n",
    "# input is zero\n",
    "if number == 0:\n",
    "    print(\"Invalid Input. There is no divisor of zero.\")\n",
    "\n",
    "# input is 1    \n",
    "elif number == 1:\n",
    "    print(f\"Smallest Divisor of {number} is 1.\")\n",
    "\n",
    "# if input is positive number and grater than 2.\n",
    "else:\n",
    "    for i in range(2,number//2):\n",
    "\n",
    "        # checking if there is any divisor\n",
    "        if number%i == 0:\n",
    "            flag = 1\n",
    "            print(f\"Smallest Divisor of {number} is {i}.\")\n",
    "            break\n",
    "\n",
    "    # if divisor is not found then it is a Prime Number\n",
    "    if flag == 0:\n",
    "        print(f\"Smallest Divisor of {number} is 1. Since it is a Prime Number.\")\n"
   ]
  },
  {
   "cell_type": "code",
   "execution_count": 31,
   "id": "dd1b7b5f",
   "metadata": {},
   "outputs": [
    {
     "name": "stdout",
     "output_type": "stream",
     "text": [
      "Enter the Number: 1234567\n",
      "1234567 have 7 digits.\n"
     ]
    }
   ],
   "source": [
    "#12 PP to count the number of digits in num\n",
    "\n",
    "user_input = input(\"Enter the Number: \")\n",
    "\n",
    "print(f\"{user_input} have {len(user_input)} digits.\")\n"
   ]
  },
  {
   "cell_type": "code",
   "execution_count": 21,
   "id": "a22937f4",
   "metadata": {},
   "outputs": [
    {
     "name": "stdout",
     "output_type": "stream",
     "text": [
      "12343217 is not a palindrome.\n"
     ]
    }
   ],
   "source": [
    "# 13 PP to check if the number is palindrome\n",
    "number = 12343217\n",
    "number = str(number)\n",
    "pal_flag = 0\n",
    "\n",
    "for i in range(len(number) - 1):\n",
    "\n",
    "    if number[i] != number[len(number) - 1 - i]:\n",
    "        pal_flag = 1\n",
    "        break\n",
    "\n",
    "if pal_flag == 0:\n",
    "    print(f\"{number} is a palindrome.\")\n",
    "else:\n",
    "    print(f\"{number} is not a palindrome.\")\n"
   ]
  },
  {
   "cell_type": "code",
   "execution_count": 20,
   "id": "c2ff3ef6",
   "metadata": {},
   "outputs": [
    {
     "name": "stdout",
     "output_type": "stream",
     "text": [
      "all integers that aren't divisible by two or threee and lies between 1 to 5\n",
      "----------------------------------------------------------------------------------------------------\n",
      "1 5 "
     ]
    }
   ],
   "source": [
    "\n",
    "# 14 PP to print all integers that aren't divisible by two or threee and lies between 1 to 5\n",
    "\n",
    "start = 1\n",
    "end = 5\n",
    "print(\"all integers that aren't divisible by two or threee and lies between 1 to 5\")\n",
    "print(\"-\"*100)\n",
    "\n",
    "for num in range(start,end+1):\n",
    "    \n",
    "    if (num % 2 != 0) and (num % 3 != 0):\n",
    "        print(num, end=\" \")"
   ]
  },
  {
   "cell_type": "code",
   "execution_count": 19,
   "id": "8907b76c",
   "metadata": {},
   "outputs": [
    {
     "name": "stdout",
     "output_type": "stream",
     "text": [
      "Enter Number: 7\n",
      "\n",
      "Series\n",
      "------------------------------\n",
      "1 + 2 + 3 + 4 + 5 + 6 + 7 = 28\n"
     ]
    }
   ],
   "source": [
    "# 15 PP to read N numbers and print the series 1+2+.....+N\n",
    "\n",
    "user_input = int(input(\"Enter Number: \"))\n",
    "print()\n",
    "print(\"Series\")\n",
    "print(\"-\"*30)\n",
    "\n",
    "total = 0\n",
    "\n",
    "for i in range(1, user_input+1):\n",
    "    \n",
    "    total += i\n",
    "    \n",
    "    if i != user_input:\n",
    "        print(f\"{i} +\",end=\" \")\n",
    "    else:\n",
    "        print(i,end=\"\")\n",
    "\n",
    "\n",
    "print(f\" = {total}\")\n"
   ]
  },
  {
   "cell_type": "code",
   "execution_count": 17,
   "id": "c0df54c8",
   "metadata": {},
   "outputs": [
    {
     "name": "stdout",
     "output_type": "stream",
     "text": [
      "Enter N of (N X N) identity matrix: 5\n",
      "\n",
      "identity matrix of 5 X 5\n",
      "-------------------------\n",
      "1 0 0 0 0\n",
      "0 1 0 0 0\n",
      "0 0 1 0 0\n",
      "0 0 0 1 0\n",
      "0 0 0 0 1\n"
     ]
    }
   ],
   "source": [
    "# 16 PP to print identity matrix\n",
    "\n",
    "user_input = int(input(\"Enter N of (N X N) identity matrix: \"))\n",
    "\n",
    "print()\n",
    "print(f\"identity matrix of {user_input} X {user_input}\")\n",
    "print(\"-\"*25)\n",
    "\n",
    "identity_matrix = []\n",
    "\n",
    "for row in range(user_input):\n",
    "    temp_list = []\n",
    "    \n",
    "    for column in range(user_input):\n",
    "        if row == column:\n",
    "            temp_list.append(\"1\")\n",
    "        else:\n",
    "            temp_list.append(\"0\")\n",
    "    \n",
    "    identity_matrix.append(temp_list)\n",
    "    \n",
    "for i in identity_matrix:\n",
    "    print(\" \".join(i))"
   ]
  },
  {
   "cell_type": "code",
   "execution_count": 18,
   "id": "72f72336",
   "metadata": {},
   "outputs": [
    {
     "name": "stdout",
     "output_type": "stream",
     "text": [
      "*******\n",
      " ******\n",
      "  *****\n",
      "   ****\n",
      "    ***\n",
      "     **\n",
      "      *\n"
     ]
    }
   ],
   "source": [
    "# 17 PP to print inverted star Pattern\n",
    "\n",
    "n = 7\n",
    "\n",
    "for i in range(n):\n",
    "    print((\" \"*i) + (\"*\"*(n-i)))\n"
   ]
  },
  {
   "cell_type": "code",
   "execution_count": 15,
   "id": "a5bf1a15",
   "metadata": {},
   "outputs": [
    {
     "name": "stdout",
     "output_type": "stream",
     "text": [
      "Largest Number: 8\n"
     ]
    }
   ],
   "source": [
    "# 18 PP to find the largest number in the list\n",
    "\n",
    "sample_list = [1,2,3,4,5,6,7,8,8]\n",
    "largest_num = 0\n",
    "\n",
    "for i,num in enumerate(sample_list):\n",
    "    \n",
    "    if i == 0:\n",
    "        largest_num = num\n",
    "    else:\n",
    "        if num > largest_num:\n",
    "            largest_num = num\n",
    "            \n",
    "print(f\"Largest Number: {largest_num}\")\n"
   ]
  },
  {
   "cell_type": "code",
   "execution_count": 14,
   "id": "f2374e6a",
   "metadata": {},
   "outputs": [
    {
     "name": "stdout",
     "output_type": "stream",
     "text": [
      "Second Largest Number: 8\n"
     ]
    }
   ],
   "source": [
    "# 19 PP to take the list and print the second largest number in he list\n",
    "sample_list = [10,10,2,3,4,5,6,7,8,8]\n",
    "\n",
    "max_num = max(sample_list[0], sample_list[1])   \n",
    "second_max_num = min(sample_list[0], sample_list[1])\n",
    "\n",
    "for i in range(2, len(sample_list)):\n",
    "    \n",
    "    if sample_list[i] > max_num:  # if next num is bigger than max num\n",
    "        \n",
    "        second_max_num = max_num\n",
    "        max_num = sample_list[i]\n",
    "        \n",
    "    elif (sample_list[i] > second_max_num) and (sample_list[i]!=max_num): # if next num is bigger than second max\n",
    "        second_max_num = sample_list[i]\n",
    "        \n",
    "    # if max and second max equal and earlier conditions tells us num is not bigger than second max and max.\n",
    "    # we can simply put that num as second largest num\n",
    "    elif (max_num==second_max_num) and (second_max_num!=sample_list[i]): \n",
    "        second_max_num = sample_list[i]\n",
    "        \n",
    "print(f\"Second Largest Number: {second_max_num}\")\n"
   ]
  },
  {
   "cell_type": "code",
   "execution_count": 13,
   "id": "5a9f8137",
   "metadata": {},
   "outputs": [
    {
     "name": "stdout",
     "output_type": "stream",
     "text": [
      "Sorted Merge List: [1, 2, 3, 4, 4, 5, 5, 6, 7, 7, 8, 8, 10, 10, 16, 27, 39, 66, 80, 85]\n"
     ]
    }
   ],
   "source": [
    "# 20 PP to merge two lists and to sort it\n",
    "sample_list_1 = [10,10,2,3,4,5,6,7,85,8]\n",
    "sample_list_2 = [1,16,27,39,4,5,66,7,80,8]\n",
    "\n",
    "sample_list_1.extend(sample_list_2)\n",
    "print(f\"Sorted Merge List: {sorted(sample_list_1)}\")\n"
   ]
  },
  {
   "cell_type": "code",
   "execution_count": 12,
   "id": "ad443585",
   "metadata": {},
   "outputs": [
    {
     "name": "stdout",
     "output_type": "stream",
     "text": [
      "Union of 2 list: [10, 10, 2, 3, 4, 5, 6, 7, 85, 8, 1, 16, 27, 39, 4, 5, 66, 7, 80, 8]\n"
     ]
    }
   ],
   "source": [
    "# 21 PP to find the union of two lists\n",
    "sample_list_1 = [10,10,2,3,4,5,6,7,85,8]\n",
    "sample_list_2 = [1,16,27,39,4,5,66,7,80,8]\n",
    "\n",
    "sample_list_1.extend(sample_list_2)\n",
    "\n",
    "print(f\"Union of 2 list: {sample_list_1}\")\n"
   ]
  },
  {
   "cell_type": "code",
   "execution_count": 11,
   "id": "4b50c5e3",
   "metadata": {},
   "outputs": [
    {
     "name": "stdout",
     "output_type": "stream",
     "text": [
      "count of numbers: \n",
      "{10: 4, 85: 1, 8: 2, 80: 1}\n"
     ]
    }
   ],
   "source": [
    "#22 PP to find the count of numbers and display in dictionary\n",
    "\n",
    "sample_list = [10, 10, 85, 8, 80, 8,10,10]\n",
    "\n",
    "count_dict = {}\n",
    "\n",
    "for num in sample_list:\n",
    "    if num not in count_dict.keys():\n",
    "        count_dict[num] = 1\n",
    "    else:\n",
    "        count_dict[num] += 1\n",
    "\n",
    "print(\"count of numbers: \")  \n",
    "\n",
    "print(count_dict)\n"
   ]
  },
  {
   "cell_type": "code",
   "execution_count": 7,
   "id": "51975c5d",
   "metadata": {},
   "outputs": [
    {
     "name": "stdout",
     "output_type": "stream",
     "text": [
      "Orignal List: [10, 2, 3, 4, 5, 6, 7, 85, 8]\n",
      "Swapped List: [8, 2, 3, 4, 5, 6, 7, 85, 10]\n"
     ]
    }
   ],
   "source": [
    "# 23 PP to swap the first and last value of the list\n",
    "\n",
    "sample_list = [10,2,3,4,5,6,7,85,8]\n",
    "\n",
    "new_list = list(sample_list[-1:]) + sample_list[1:-1] + list(sample_list[:1])\n",
    "\n",
    "print(f\"Orignal List: {sample_list}\")\n",
    "print(f\"Swapped List: {new_list}\")\n"
   ]
  },
  {
   "cell_type": "code",
   "execution_count": 6,
   "id": "bfd691cd",
   "metadata": {},
   "outputs": [
    {
     "name": "stdout",
     "output_type": "stream",
     "text": [
      "Orignal List: [10, 2, 3, 4, 5, 6, 7, 85, 8, 10, 8, 5, 7, 10]\n",
      "Unique list: [2, 3, 4, 6, 85, 8, 5, 7, 10]\n"
     ]
    }
   ],
   "source": [
    "#24 PP to remove the duplicate items from the list\n",
    "\n",
    "sample_list = [10,2,3,4,5,6,7,85,8,10,8,5,7,10]\n",
    "\n",
    "unique_list = []\n",
    "\n",
    "for i in range(len(sample_list)):\n",
    "    \n",
    "    if (sample_list[i] not in sample_list[i+1:]) and (sample_list[i] not in unique_list):\n",
    "        unique_list.append(sample_list[i])\n",
    "\n",
    "print(f\"Orignal List: {sample_list}\")\n",
    "print(f\"Unique list: {unique_list}\")\n"
   ]
  },
  {
   "cell_type": "code",
   "execution_count": null,
   "id": "71eb86d3",
   "metadata": {},
   "outputs": [],
   "source": []
  }
 ],
 "metadata": {
  "kernelspec": {
   "display_name": "Python 3 (ipykernel)",
   "language": "python",
   "name": "python3"
  },
  "language_info": {
   "codemirror_mode": {
    "name": "ipython",
    "version": 3
   },
   "file_extension": ".py",
   "mimetype": "text/x-python",
   "name": "python",
   "nbconvert_exporter": "python",
   "pygments_lexer": "ipython3",
   "version": "3.11.7"
  }
 },
 "nbformat": 4,
 "nbformat_minor": 5
}
